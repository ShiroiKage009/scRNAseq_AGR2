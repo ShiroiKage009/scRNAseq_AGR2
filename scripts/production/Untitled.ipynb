{
 "cells": [
  {
   "cell_type": "code",
   "execution_count": 1,
   "id": "af041b60-2e82-4258-84ff-7ee8374fd595",
   "metadata": {},
   "outputs": [],
   "source": [
    "import scanpy as sc"
   ]
  },
  {
   "cell_type": "code",
   "execution_count": 3,
   "id": "c6a56929-fdf3-4db2-9e8f-3d54e1f60349",
   "metadata": {},
   "outputs": [],
   "source": [
    "org = sc.read_h5ad('C:/Work cache/Project sync/PhD/Research projects/AGR2 follow-up/Data cache/ssRNAseq/Aline/Organoids/agr2organoids_unfilt.h5ad')"
   ]
  },
  {
   "cell_type": "code",
   "execution_count": 4,
   "id": "52769e55-e16e-43b5-989a-2fd07c6c27f2",
   "metadata": {},
   "outputs": [
    {
     "data": {
      "text/plain": [
       "\"AnnData object with n_obs × n_vars = 25063 × 36601\\n    obs: 'sample_id', 'SampleID', 'doublet_scores', 'predicted_doublets', 'n_genes_by_counts', 'total_counts', 'total_counts_mt', 'pct_counts_mt', 'total_counts_rp', 'pct_counts_rp', 'total_counts_hb', 'pct_counts_hb', 'total_counts_ig', 'pct_counts_ig', 'S_score', 'G2M_score', 'phase', 'cellbarcode'\\n    var: 'gene_ids', 'feature_types', 'hb', 'ig', 'rp', 'mt', 'n_cells_by_counts', 'mean_counts', 'pct_dropout_by_counts', 'total_counts'\\n    uns: 'sample_id_colors'\""
      ]
     },
     "execution_count": 4,
     "metadata": {},
     "output_type": "execute_result"
    }
   ],
   "source": [
    "str(org)"
   ]
  },
  {
   "cell_type": "code",
   "execution_count": null,
   "id": "32105f72-aac0-42c5-9dd6-0068d4bbcbcb",
   "metadata": {},
   "outputs": [],
   "source": [
    "print(org.obs['SampleI'])"
   ]
  }
 ],
 "metadata": {
  "kernelspec": {
   "display_name": "Python 3 (ipykernel)",
   "language": "python",
   "name": "python3"
  },
  "language_info": {
   "codemirror_mode": {
    "name": "ipython",
    "version": 3
   },
   "file_extension": ".py",
   "mimetype": "text/x-python",
   "name": "python",
   "nbconvert_exporter": "python",
   "pygments_lexer": "ipython3",
   "version": "3.11.8"
  }
 },
 "nbformat": 4,
 "nbformat_minor": 5
}
