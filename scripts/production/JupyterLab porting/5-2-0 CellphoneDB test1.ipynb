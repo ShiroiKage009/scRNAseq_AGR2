{
 "cells": [
  {
   "cell_type": "code",
   "execution_count": null,
   "id": "f86b312e-5b5f-4ebd-899d-28226f4b7c39",
   "metadata": {},
   "outputs": [],
   "source": [
    "import cellphonedb"
   ]
  },
  {
   "cell_type": "code",
   "execution_count": 15,
   "id": "4ee5b3be-cf76-447c-adec-3698c227f8ea",
   "metadata": {},
   "outputs": [],
   "source": [
    "path = '/home/achmed/ssdmnt/cache/external_datasets'\n",
    "cpdb_file_path = '/home/achmed/ssdmnt/cache/external_datasets/CellPhoneDB/cellphonedb.zip'\n",
    "healthy_meta_file_path = '/home/achmed/ssdmnt/cache/external_datasets/cellphonedb_out/prep/healthy/healthy_metadata.tsv'\n",
    "im_meta_file_path = '/home/achmed/ssdmnt/cache/external_datasets/cellphonedb_out/prep/im/im_metadata.tsv'"
   ]
  },
  {
   "cell_type": "markdown",
   "id": "5afaba7c-5539-474d-bf05-a9222b56cd4f",
   "metadata": {},
   "source": [
    "# Statistical method"
   ]
  },
  {
   "cell_type": "markdown",
   "id": "a5ac0835-f7fb-49cc-a372-678543ce5437",
   "metadata": {},
   "source": [
    "## Healthy first"
   ]
  },
  {
   "cell_type": "code",
   "execution_count": 7,
   "id": "df046aa6-f4eb-4fcf-b009-6d0a594dbd93",
   "metadata": {},
   "outputs": [
    {
     "name": "stdout",
     "output_type": "stream",
     "text": [
      "Reading user files...\n",
      "The following user files were loaded successfully:\n",
      "/home/achmed/ssdmnt/cache/external_datasets/healthy_epith_strom.h5ad\n",
      "/home/achmed/ssdmnt/cache/external_datasets/cellphonedb_out/prep/healthy/healthy_metadata.tsv\n",
      "[ ][CORE][26/10/24-13:45:24][INFO] [Cluster Statistical Analysis] Threshold:0.1 Iterations:1000 Debug-seed:-1 Threads:32 Precision:3\n",
      "[ ][CORE][26/10/24-13:45:24][INFO] Running Real Analysis\n",
      "[ ][CORE][26/10/24-13:45:24][INFO] Running Statistical Analysis\n"
     ]
    },
    {
     "name": "stderr",
     "output_type": "stream",
     "text": [
      "100%|██████████| 1000/1000 [09:44<00:00,  1.71it/s]\n"
     ]
    },
    {
     "name": "stdout",
     "output_type": "stream",
     "text": [
      "[ ][CORE][26/10/24-13:55:13][INFO] Building Pvalues result\n",
      "[ ][CORE][26/10/24-13:55:13][INFO] Building results\n",
      "Saved deconvoluted to /home/achmed/ssdmnt/cache/external_datasets/cellphonedb_out/stat/healthy/statistical_analysis_deconvoluted_10_26_2024_135513.txt\n",
      "Saved deconvoluted_percents to /home/achmed/ssdmnt/cache/external_datasets/cellphonedb_out/stat/healthy/statistical_analysis_deconvoluted_percents_10_26_2024_135513.txt\n",
      "Saved means to /home/achmed/ssdmnt/cache/external_datasets/cellphonedb_out/stat/healthy/statistical_analysis_means_10_26_2024_135513.txt\n",
      "Saved pvalues to /home/achmed/ssdmnt/cache/external_datasets/cellphonedb_out/stat/healthy/statistical_analysis_pvalues_10_26_2024_135513.txt\n",
      "Saved significant_means to /home/achmed/ssdmnt/cache/external_datasets/cellphonedb_out/stat/healthy/statistical_analysis_significant_means_10_26_2024_135513.txt\n"
     ]
    }
   ],
   "source": [
    "from cellphonedb.src.core.methods import cpdb_statistical_analysis_method\n",
    "\n",
    "cpdb_results = cpdb_statistical_analysis_method.call(\n",
    "    cpdb_file_path = cpdb_file_path,\n",
    "    meta_file_path = '/home/achmed/ssdmnt/cache/external_datasets/cellphonedb_out/prep/healthy/healthy_metadata.tsv',                # Path to metadata file\n",
    "    counts_file_path = path + '/healthy_epith_strom.h5ad',            # Path to counts file\n",
    "    counts_data = 'hgnc_symbol',               # defines the gene annotation in counts matrix.\n",
    "    output_path = '/home/achmed/ssdmnt/cache/external_datasets/cellphonedb_out/stat/healthy',  # Path to save results\n",
    "    threshold = 0.1,                           # defines the min % of cells expressing a gene for this to be employed in the analysis.\n",
    "    debug = False,                             # Saves all intermediate tables emplyed during the analysis in pkl format.\n",
    "    output_suffix = None,                       # Replaces the timestamp in the output files by a user defined string in the  (default: None)\n",
    "    threads = 32\n",
    ")"
   ]
  },
  {
   "cell_type": "markdown",
   "id": "d64b8c49-e061-4d39-a4ac-464bea377c7f",
   "metadata": {},
   "source": [
    "## IM second"
   ]
  },
  {
   "cell_type": "code",
   "execution_count": 8,
   "id": "1b0828bd-036a-425f-b6fc-9d01b492b252",
   "metadata": {},
   "outputs": [
    {
     "name": "stdout",
     "output_type": "stream",
     "text": [
      "Reading user files...\n",
      "The following user files were loaded successfully:\n",
      "/home/achmed/ssdmnt/cache/external_datasets/im_epith_strom.h5ad\n",
      "/home/achmed/ssdmnt/cache/external_datasets/cellphonedb_out/prep/im/im_metadata.tsv\n",
      "[ ][CORE][26/10/24-13:55:15][INFO] [Cluster Statistical Analysis] Threshold:0.1 Iterations:1000 Debug-seed:-1 Threads:32 Precision:3\n",
      "[ ][CORE][26/10/24-13:55:15][INFO] Running Real Analysis\n",
      "[ ][CORE][26/10/24-13:55:15][INFO] Running Statistical Analysis\n"
     ]
    },
    {
     "name": "stderr",
     "output_type": "stream",
     "text": [
      "100%|██████████| 1000/1000 [01:37<00:00, 10.25it/s]\n"
     ]
    },
    {
     "name": "stdout",
     "output_type": "stream",
     "text": [
      "[ ][CORE][26/10/24-13:56:55][INFO] Building Pvalues result\n",
      "[ ][CORE][26/10/24-13:56:56][INFO] Building results\n",
      "Saved deconvoluted to /home/achmed/ssdmnt/cache/external_datasets/cellphonedb_out/stat/im/statistical_analysis_deconvoluted_10_26_2024_135656.txt\n",
      "Saved deconvoluted_percents to /home/achmed/ssdmnt/cache/external_datasets/cellphonedb_out/stat/im/statistical_analysis_deconvoluted_percents_10_26_2024_135656.txt\n",
      "Saved means to /home/achmed/ssdmnt/cache/external_datasets/cellphonedb_out/stat/im/statistical_analysis_means_10_26_2024_135656.txt\n",
      "Saved pvalues to /home/achmed/ssdmnt/cache/external_datasets/cellphonedb_out/stat/im/statistical_analysis_pvalues_10_26_2024_135656.txt\n",
      "Saved significant_means to /home/achmed/ssdmnt/cache/external_datasets/cellphonedb_out/stat/im/statistical_analysis_significant_means_10_26_2024_135656.txt\n"
     ]
    }
   ],
   "source": [
    "from cellphonedb.src.core.methods import cpdb_statistical_analysis_method\n",
    "\n",
    "cpdb_results = cpdb_statistical_analysis_method.call(\n",
    "    cpdb_file_path = cpdb_file_path,\n",
    "    meta_file_path = '/home/achmed/ssdmnt/cache/external_datasets/cellphonedb_out/prep/im/im_metadata.tsv',                # Path to metadata file\n",
    "    counts_file_path = path + '/im_epith_strom.h5ad',            # Path to counts file\n",
    "    counts_data = 'hgnc_symbol',               # defines the gene annotation in counts matrix.\n",
    "    output_path = '/home/achmed/ssdmnt/cache/external_datasets/cellphonedb_out/stat/im',  # Path to save results\n",
    "    threshold = 0.1,                           # defines the min % of cells expressing a gene for this to be employed in the analysis.\n",
    "    debug = False,                             # Saves all intermediate tables emplyed during the analysis in pkl format.\n",
    "    output_suffix = None,                       # Replaces the timestamp in the output files by a user defined string in the  (default: None)\n",
    "    threads = 32\n",
    ")"
   ]
  },
  {
   "cell_type": "markdown",
   "id": "9cb60ca3-52f5-4bdb-a9bb-872769074ef4",
   "metadata": {
    "jp-MarkdownHeadingCollapsed": true
   },
   "source": [
    "# Method 1"
   ]
  },
  {
   "cell_type": "markdown",
   "id": "9ad78ff8-884f-4b4b-bdae-b56b6345cc89",
   "metadata": {},
   "source": [
    "## Healthy first"
   ]
  },
  {
   "cell_type": "code",
   "execution_count": 13,
   "id": "bfa1a5fe-8351-4a3f-a063-769979f9acd6",
   "metadata": {},
   "outputs": [
    {
     "name": "stdout",
     "output_type": "stream",
     "text": [
      "[ ][CORE][26/10/24-13:57:17][INFO] [Non Statistical Method] Threshold:0.1 Precision:3\n",
      "Reading user files...\n",
      "The following user files were loaded successfully:\n",
      "/home/achmed/ssdmnt/cache/external_datasets/healthy_epith_strom.h5ad\n",
      "/home/achmed/ssdmnt/cache/external_datasets/cellphonedb_out/prep/healthy/healthy_metadata.tsv\n",
      "[ ][CORE][26/10/24-13:57:23][INFO] Running Basic Analysis\n",
      "[ ][CORE][26/10/24-13:57:23][INFO] Building results\n",
      "[ ][CORE][26/10/24-13:57:24][INFO] Scoring interactions: Filtering genes per cell type..\n"
     ]
    },
    {
     "name": "stderr",
     "output_type": "stream",
     "text": [
      "100%|██████████| 13/13 [00:00<00:00, 24.59it/s]"
     ]
    },
    {
     "name": "stdout",
     "output_type": "stream",
     "text": [
      "[ ][CORE][26/10/24-13:57:24][INFO] Scoring interactions: Calculating mean expression of each gene per group/cell type..\n"
     ]
    },
    {
     "name": "stderr",
     "output_type": "stream",
     "text": [
      "\n",
      "100%|██████████| 13/13 [00:00<00:00, 126.93it/s]\n"
     ]
    },
    {
     "name": "stdout",
     "output_type": "stream",
     "text": [
      "[ ][CORE][26/10/24-13:57:25][INFO] Scoring interactions: Calculating scores for all interactions and cell types..\n"
     ]
    },
    {
     "name": "stderr",
     "output_type": "stream",
     "text": [
      "100%|██████████| 169/169 [00:22<00:00,  7.45it/s]\n"
     ]
    },
    {
     "name": "stdout",
     "output_type": "stream",
     "text": [
      "Saved means_result to /home/achmed/ssdmnt/cache/external_datasets/cellphonedb_out/method1/healthy/simple_analysis_means_result_10_26_2024_135750.txt\n",
      "Saved deconvoluted to /home/achmed/ssdmnt/cache/external_datasets/cellphonedb_out/method1/healthy/simple_analysis_deconvoluted_10_26_2024_135750.txt\n",
      "Saved deconvoluted_percents to /home/achmed/ssdmnt/cache/external_datasets/cellphonedb_out/method1/healthy/simple_analysis_deconvoluted_percents_10_26_2024_135750.txt\n",
      "Saved interaction_scores to /home/achmed/ssdmnt/cache/external_datasets/cellphonedb_out/method1/healthy/simple_analysis_interaction_scores_10_26_2024_135750.txt\n"
     ]
    }
   ],
   "source": [
    "from cellphonedb.src.core.methods import cpdb_analysis_method\n",
    "\n",
    "cpdb_results = cpdb_analysis_method.call(\n",
    "    cpdb_file_path = cpdb_file_path,           # mandatory: CellphoneDB database zip file.\n",
    "    meta_file_path = healthy_meta_file_path,           # mandatory: tsv file defining barcodes to cell label.\n",
    "    counts_file_path = path + '/healthy_epith_strom.h5ad',       # mandatory: normalized count matrix - a path to the counts file, or an in-memory AnnData object\n",
    "    counts_data = 'hgnc_symbol',               # defines the gene annotation in counts matrix.\n",
    "    score_interactions = True,                 # optional: whether to score interactions or not. \n",
    "    output_path = '/home/achmed/ssdmnt/cache/external_datasets/cellphonedb_out/method1/healthy',                    # Path to save results    microenvs_file_path = None,\n",
    "    separator = '|',                           # Sets the string to employ to separate cells in the results dataframes \"cellA|CellB\".\n",
    "    threads = 32,                               # number of threads to use in the analysis.\n",
    "    threshold = 0.1,                           # defines the min % of cells expressing a gene for this to be employed in the analysis.\n",
    "    result_precision = 3,                      # Sets the rounding for the mean values in significan_means.\n",
    "    debug = False,                             # Saves all intermediate tables emplyed during the analysis in pkl format.\n",
    "    output_suffix = None                       # Replaces the timestamp in the output files by a user defined string in the  (default: None)\n",
    ")"
   ]
  },
  {
   "cell_type": "markdown",
   "id": "19182845-47c9-4f96-99bd-7169e55dcc62",
   "metadata": {},
   "source": [
    "## IM second"
   ]
  },
  {
   "cell_type": "code",
   "execution_count": 16,
   "id": "e6804390-0e56-4103-b9fa-46cdcfa1ec6f",
   "metadata": {},
   "outputs": [
    {
     "name": "stdout",
     "output_type": "stream",
     "text": [
      "[ ][CORE][26/10/24-13:59:21][INFO] [Non Statistical Method] Threshold:0.1 Precision:3\n",
      "Reading user files...\n",
      "The following user files were loaded successfully:\n",
      "/home/achmed/ssdmnt/cache/external_datasets/im_epith_strom.h5ad\n",
      "/home/achmed/ssdmnt/cache/external_datasets/cellphonedb_out/prep/im/im_metadata.tsv\n",
      "[ ][CORE][26/10/24-13:59:22][INFO] Running Basic Analysis\n",
      "[ ][CORE][26/10/24-13:59:22][INFO] Building results\n",
      "[ ][CORE][26/10/24-13:59:22][INFO] Scoring interactions: Filtering genes per cell type..\n"
     ]
    },
    {
     "name": "stderr",
     "output_type": "stream",
     "text": [
      "100%|██████████| 13/13 [00:00<00:00, 112.12it/s]"
     ]
    },
    {
     "name": "stdout",
     "output_type": "stream",
     "text": [
      "[ ][CORE][26/10/24-13:59:22][INFO] Scoring interactions: Calculating mean expression of each gene per group/cell type..\n"
     ]
    },
    {
     "name": "stderr",
     "output_type": "stream",
     "text": [
      "\n",
      "100%|██████████| 13/13 [00:00<00:00, 603.04it/s]\n"
     ]
    },
    {
     "name": "stdout",
     "output_type": "stream",
     "text": [
      "[ ][CORE][26/10/24-13:59:23][INFO] Scoring interactions: Calculating scores for all interactions and cell types..\n"
     ]
    },
    {
     "name": "stderr",
     "output_type": "stream",
     "text": [
      "100%|██████████| 169/169 [00:22<00:00,  7.47it/s]\n"
     ]
    },
    {
     "name": "stdout",
     "output_type": "stream",
     "text": [
      "Saved means_result to /home/achmed/ssdmnt/cache/external_datasets/cellphonedb_out/method1/im/simple_analysis_means_result_10_26_2024_135949.txt\n",
      "Saved deconvoluted to /home/achmed/ssdmnt/cache/external_datasets/cellphonedb_out/method1/im/simple_analysis_deconvoluted_10_26_2024_135949.txt\n",
      "Saved deconvoluted_percents to /home/achmed/ssdmnt/cache/external_datasets/cellphonedb_out/method1/im/simple_analysis_deconvoluted_percents_10_26_2024_135949.txt\n",
      "Saved interaction_scores to /home/achmed/ssdmnt/cache/external_datasets/cellphonedb_out/method1/im/simple_analysis_interaction_scores_10_26_2024_135949.txt\n"
     ]
    }
   ],
   "source": [
    "from cellphonedb.src.core.methods import cpdb_analysis_method\n",
    "\n",
    "cpdb_results = cpdb_analysis_method.call(\n",
    "    cpdb_file_path = cpdb_file_path,           # mandatory: CellphoneDB database zip file.\n",
    "    meta_file_path = im_meta_file_path,           # mandatory: tsv file defining barcodes to cell label.\n",
    "    counts_file_path = path + '/im_epith_strom.h5ad',       # mandatory: normalized count matrix - a path to the counts file, or an in-memory AnnData object\n",
    "    counts_data = 'hgnc_symbol',               # defines the gene annotation in counts matrix.\n",
    "    score_interactions = True,                 # optional: whether to score interactions or not. \n",
    "    output_path = '/home/achmed/ssdmnt/cache/external_datasets/cellphonedb_out/method1/im',                    # Path to save results    microenvs_file_path = None,\n",
    "    separator = '|',                           # Sets the string to employ to separate cells in the results dataframes \"cellA|CellB\".\n",
    "    threads = 32,                               # number of threads to use in the analysis.\n",
    "    threshold = 0.1,                           # defines the min % of cells expressing a gene for this to be employed in the analysis.\n",
    "    result_precision = 3,                      # Sets the rounding for the mean values in significan_means.\n",
    "    debug = False,                             # Saves all intermediate tables emplyed during the analysis in pkl format.\n",
    "    output_suffix = None                       # Replaces the timestamp in the output files by a user defined string in the  (default: None)\n",
    ")"
   ]
  },
  {
   "cell_type": "markdown",
   "id": "e0d7d0b6-e944-4c45-86dd-d82601b517b8",
   "metadata": {
    "jp-MarkdownHeadingCollapsed": true
   },
   "source": [
    "# DGE method"
   ]
  },
  {
   "cell_type": "markdown",
   "id": "12be3e2f-b0a6-40a0-81c1-6713d81333f9",
   "metadata": {},
   "source": [
    "## Healthy first"
   ]
  },
  {
   "cell_type": "code",
   "execution_count": null,
   "id": "18d72517-5118-4d52-9f30-f10567cf28c8",
   "metadata": {},
   "outputs": [],
   "source": [
    "from cellphonedb.src.core.methods import cpdb_statistical_analysis_method\n",
    "\n",
    "cpdb_results = cpdb_statistical_analysis_method.call(\n",
    "    cpdb_file_path = '/home/achmed/ssdmnt/cache/external_datasets/CellPhoneDB/cellphonedb.zip',\n",
    "    meta_file_path = '/home/achmed/ssdmnt/cache/external_datasets/cellphonedb_out/method1/healthy_metadata.tsv',                # Path to metadata file\n",
    "    counts_file_path = path + '/healthy_epith_strom.h5ad',            # Path to counts file\n",
    "    counts_data = 'hgnc_symbol',               # defines the gene annotation in counts matrix.\n",
    "    output_path = '/home/achmed/ssdmnt/cache/external_datasets/cellphonedb_out/method1',  # Path to save results\n",
    "    threshold = 0.1,                           # defines the min % of cells expressing a gene for this to be employed in the analysis.\n",
    "    debug = False,                             # Saves all intermediate tables emplyed during the analysis in pkl format.\n",
    "    output_suffix = None                       # Replaces the timestamp in the output files by a user defined string in the  (default: None)\n",
    ")"
   ]
  },
  {
   "cell_type": "markdown",
   "id": "07a88c19-444d-48ef-9e50-231ecadf16e0",
   "metadata": {},
   "source": [
    "## IM second"
   ]
  },
  {
   "cell_type": "code",
   "execution_count": null,
   "id": "cbdc6f38-cef2-4908-a45c-e16d4a6909ea",
   "metadata": {},
   "outputs": [],
   "source": [
    "from cellphonedb.src.core.methods import cpdb_statistical_analysis_method\n",
    "\n",
    "cpdb_results = cpdb_statistical_analysis_method.call(\n",
    "    cpdb_file_path = '/home/achmed/ssdmnt/cache/external_datasets/CellPhoneDB/cellphonedb.zip',\n",
    "    meta_file_path = '/home/achmed/ssdmnt/cache/external_datasets/cellphonedb_out/method1/im_metadata.tsv',                # Path to metadata file\n",
    "    counts_file_path = path + '/im_epith_strom.h5ad',            # Path to counts file\n",
    "    counts_data = 'hgnc_symbol',               # defines the gene annotation in counts matrix.\n",
    "    output_path = '/home/achmed/ssdmnt/cache/external_datasets/cellphonedb_out/method1',  # Path to save results\n",
    "    threshold = 0.1,                           # defines the min % of cells expressing a gene for this to be employed in the analysis.\n",
    "    debug = False,                             # Saves all intermediate tables emplyed during the analysis in pkl format.\n",
    "    output_suffix = None                       # Replaces the timestamp in the output files by a user defined string in the  (default: None)\n",
    ")"
   ]
  },
  {
   "cell_type": "code",
   "execution_count": null,
   "id": "1d4efaa9-8675-426d-a882-1954275f354b",
   "metadata": {},
   "outputs": [],
   "source": [
    "from cellphonedb.src.core.methods import cpdb_analysis_method\n",
    "\n",
    "cpdb_results = cpdb_analysis_method.call(\n",
    "    cpdb_file_path = cpdb_file_path,           # mandatory: CellphoneDB database zip file.\n",
    "    meta_file_path = im_meta_file_path,           # mandatory: tsv file defining barcodes to cell label.\n",
    "    counts_file_path = path + '/healthy_epith_strom.h5ad',       # mandatory: normalized count matrix - a path to the counts file, or an in-memory AnnData object\n",
    "    counts_data = 'hgnc_symbol',               # defines the gene annotation in counts matrix.\n",
    "    score_interactions = True,                 # optional: whether to score interactions or not. \n",
    "    output_path = '/home/achmed/ssdmnt/cache/external_datasets/cellphonedb_out/method1/healthy',                    # Path to save results    microenvs_file_path = None,\n",
    "    separator = '|',                           # Sets the string to employ to separate cells in the results dataframes \"cellA|CellB\".\n",
    "    threads = 32,                               # number of threads to use in the analysis.\n",
    "    threshold = 0.1,                           # defines the min % of cells expressing a gene for this to be employed in the analysis.\n",
    "    result_precision = 3,                      # Sets the rounding for the mean values in significan_means.\n",
    "    debug = False,                             # Saves all intermediate tables emplyed during the analysis in pkl format.\n",
    "    output_suffix = None                       # Replaces the timestamp in the output files by a user defined string in the  (default: None)\n",
    ")"
   ]
  }
 ],
 "metadata": {
  "kernelspec": {
   "display_name": "Python 3 (ipykernel)",
   "language": "python",
   "name": "python3"
  },
  "language_info": {
   "codemirror_mode": {
    "name": "ipython",
    "version": 3
   },
   "file_extension": ".py",
   "mimetype": "text/x-python",
   "name": "python",
   "nbconvert_exporter": "python",
   "pygments_lexer": "ipython3",
   "version": "3.12.3"
  }
 },
 "nbformat": 4,
 "nbformat_minor": 5
}
