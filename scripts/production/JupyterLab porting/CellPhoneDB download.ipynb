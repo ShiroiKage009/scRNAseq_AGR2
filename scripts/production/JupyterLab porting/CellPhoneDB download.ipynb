{
 "cells": [
  {
   "cell_type": "code",
   "execution_count": 3,
   "id": "fe831d6f-21c7-4dff-9ba0-0250657f2eff",
   "metadata": {},
   "outputs": [
    {
     "data": {
      "text/html": [
       "<table class=\"striped\"><tr><th style=\"text-align:center\">Version</th><th style=\"text-align:center\">Release date</th></tr><td style=\"text-align:center\"><a class=\"teal-text\" href=\"https://github.com/ventolab/cellphonedb-data/releases/tag/v5.0.0\">v5.0.0</a></td><td style=\"text-align:center\">2023-10-31</td></tr><tr><td style=\"text-align:center\"><a class=\"teal-text\" href=\"https://github.com/ventolab/cellphonedb-data/releases/tag/v4.1.0\">v4.1.0</a></td><td style=\"text-align:center\">2023-03-09</td></tr><tr><tr><tr></table>"
      ],
      "text/plain": [
       "<IPython.core.display.HTML object>"
      ]
     },
     "metadata": {},
     "output_type": "display_data"
    }
   ],
   "source": [
    "from IPython.display import HTML, display\n",
    "from cellphonedb.utils import db_releases_utils\n",
    "\n",
    "display(HTML(db_releases_utils.get_remote_database_versions_html()['db_releases_html_table']))"
   ]
  },
  {
   "cell_type": "code",
   "execution_count": 5,
   "id": "2615e193-9915-4c58-a2b8-70d273e8b48d",
   "metadata": {},
   "outputs": [
    {
     "name": "stdout",
     "output_type": "stream",
     "text": [
      "Downloaded cellphonedb.zip into /home/achmed/cache/external_datasets/CellPhoneDB\n",
      "Downloaded complex_input.csv into /home/achmed/cache/external_datasets/CellPhoneDB\n",
      "Downloaded gene_input.csv into /home/achmed/cache/external_datasets/CellPhoneDB\n",
      "Downloaded interaction_input.csv into /home/achmed/cache/external_datasets/CellPhoneDB\n",
      "Downloaded protein_input.csv into /home/achmed/cache/external_datasets/CellPhoneDB\n",
      "Downloaded uniprot_synonyms.tsv into /home/achmed/cache/external_datasets/CellPhoneDB/sources\n",
      "Downloaded transcription_factor_input.csv into /home/achmed/cache/external_datasets/CellPhoneDB/sources\n"
     ]
    }
   ],
   "source": [
    "from cellphonedb.utils import db_utils\n",
    "\n",
    "db_utils.download_database('/home/achmed/ssdmnt/cache/external_datasets/CellPhoneDB', 'v5.0.0')"
   ]
  }
 ],
 "metadata": {
  "kernelspec": {
   "display_name": "Python 3 (ipykernel)",
   "language": "python",
   "name": "python3"
  },
  "language_info": {
   "codemirror_mode": {
    "name": "ipython",
    "version": 3
   },
   "file_extension": ".py",
   "mimetype": "text/x-python",
   "name": "python",
   "nbconvert_exporter": "python",
   "pygments_lexer": "ipython3",
   "version": "3.12.3"
  }
 },
 "nbformat": 4,
 "nbformat_minor": 5
}
