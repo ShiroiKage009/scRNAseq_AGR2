{
 "cells": [
  {
   "cell_type": "code",
   "execution_count": 1,
   "id": "942dd7d6-2bac-49e1-82fe-109a40f7321a",
   "metadata": {},
   "outputs": [],
   "source": [
    "import scanpy as sc\n",
    "import anndata as ad\n",
    "import numpy as np\n",
    "import pandas as pd\n",
    "import matplotlib.pyplot as plt\n",
    "import seaborn as sns\n",
    "import numpy as np\n",
    "import mygene"
   ]
  },
  {
   "cell_type": "code",
   "execution_count": 2,
   "id": "610896d5-5727-4ac9-9d88-c0721875bf35",
   "metadata": {},
   "outputs": [],
   "source": [
    "sc.settings.verbosity = 3\n",
    "fig_res = 150\n",
    "sc.set_figure_params(dpi = fig_res, frameon = 0)"
   ]
  },
  {
   "cell_type": "code",
   "execution_count": 3,
   "id": "749962a0-4fd7-46a2-9763-2c1bc0445c80",
   "metadata": {},
   "outputs": [],
   "source": [
    "ext_obj = sc.read('S:/data cache/code_in_out/external_datasets/gim and eim unified umap of all file.h5ad')"
   ]
  },
  {
   "cell_type": "code",
   "execution_count": 4,
   "id": "db62c829-0d84-4131-b086-0d0007e5d849",
   "metadata": {},
   "outputs": [
    {
     "data": {
      "text/plain": [
       "\"AnnData object with n_obs × n_vars = 146583 × 33145\\n    obs: 'Sample', 'Tissue_in_paper', 'Batch', 'Sample_Barcode', 'sum', 'detected', 'Study', 'Patient_type', 'Patient_status', 'MT.prop', 'sizeFactor', 'Global_cluster_selected', 'Celltypes_global', 'Tissuetypes_global', 'Detailed_Cell_Type', 'cell_type_ontology_term_id', 'assay_ontology_term_id', 'tissue_ontology_term_id', 'disease_ontology_term_id', 'sex_ontology_term_id', 'organism_ontology_term_id', 'self_reported_ethnicity_ontology_term_id', 'donor_id', 'suspension_type', 'development_stage_ontology_term_id', 'is_primary_data', 'tissue_type', 'cell_type', 'assay', 'disease', 'organism', 'sex', 'tissue', 'self_reported_ethnicity', 'development_stage', 'observation_joinid'\\n    var: 'feature_is_filtered', 'feature_name', 'feature_reference', 'feature_biotype', 'feature_length'\\n    uns: 'X_name', 'citation', 'schema_reference', 'schema_version', 'title'\\n    obsm: 'X_umap_MinDist_0.01_N_Neighbors_15', 'X_umap_MinDist_0.05_N_Neighbors_15', 'X_umap_MinDist_0.1_N_Neighbors_15', 'X_umap_MinDist_0.2_N_Neighbors_15', 'X_umap_MinDist_0.3_N_Neighbors_15', 'X_umap_MinDist_0.4_N_Neighbors_15', 'X_umap_MinDist_0.5_N_Neighbors_15'\""
      ]
     },
     "execution_count": 4,
     "metadata": {},
     "output_type": "execute_result"
    }
   ],
   "source": [
    "str(ext_obj)"
   ]
  },
  {
   "cell_type": "code",
   "execution_count": 5,
   "id": "739fd7b4-fa3b-4b82-af3b-b53f38b6d22e",
   "metadata": {},
   "outputs": [],
   "source": [
    "# Remove version numbers from Ensembl IDs\n",
    "ext_obj.var['ensembl_id'] = ext_obj.var_names.str.replace(r'/./d+$', '', regex=True)"
   ]
  },
  {
   "cell_type": "code",
   "execution_count": 6,
   "id": "2e902acb-c439-4f6d-b098-d8ca2ea5d7da",
   "metadata": {},
   "outputs": [
    {
     "name": "stderr",
     "output_type": "stream",
     "text": [
      "4 input query terms found dup hits:\t[('ENSG00000249738', 2), ('ENSG00000278903', 3), ('ENSG00000188660', 2), ('ENSG00000268674', 3)]\n",
      "104 input query terms found no hit:\t['ENSG00000230699', 'ENSG00000241180', 'ENSG00000226849', 'ENSG00000272482', 'ENSG00000264443', 'ENS\n"
     ]
    }
   ],
   "source": [
    "# Map Ensembl IDs to gene symbols\n",
    "mg = mygene.MyGeneInfo()\n",
    "gene_info = mg.querymany(\n",
    "    ext_obj.var['ensembl_id'],\n",
    "    scopes='ensembl.gene',\n",
    "    fields='symbol',\n",
    "    species='human'\n",
    ")"
   ]
  },
  {
   "cell_type": "code",
   "execution_count": 7,
   "id": "8ec69afe-d72f-4d42-a0fa-13a8138fb9cf",
   "metadata": {},
   "outputs": [],
   "source": [
    "# Convert query results to DataFrame and handle duplicates\n",
    "gene_info_df = pd.DataFrame(gene_info)\n",
    "gene_info_df.drop_duplicates(subset='query', inplace=True)"
   ]
  },
  {
   "cell_type": "code",
   "execution_count": 8,
   "id": "a13b4cab-951e-4e33-9e08-66f35867497c",
   "metadata": {},
   "outputs": [],
   "source": [
    "# Create a mapping dictionary from Ensembl IDs to gene symbols\n",
    "ens_to_symbol = pd.Series(\n",
    "    gene_info_df['symbol'].values,\n",
    "    index=gene_info_df['query']\n",
    ").to_dict()"
   ]
  },
  {
   "cell_type": "code",
   "execution_count": 9,
   "id": "aea08971-b5ae-4ca9-b148-b85bd31e6019",
   "metadata": {},
   "outputs": [],
   "source": [
    "# Map Ensembl IDs in fibros_copy to gene symbols\n",
    "ext_obj.var['gene_symbol'] = ext_obj.var['ensembl_id'].map(ens_to_symbol)"
   ]
  },
  {
   "cell_type": "code",
   "execution_count": 10,
   "id": "36605fad-2b50-4c32-a8b8-db704f0bcb66",
   "metadata": {},
   "outputs": [
    {
     "name": "stderr",
     "output_type": "stream",
     "text": [
      "C:\\Users\\alsha\\AppData\\Local\\Temp\\ipykernel_25416\\3028070547.py:2: FutureWarning: A value is trying to be set on a copy of a DataFrame or Series through chained assignment using an inplace method.\n",
      "The behavior will change in pandas 3.0. This inplace method will never work because the intermediate object on which we are setting values always behaves as a copy.\n",
      "\n",
      "For example, when doing 'df[col].method(value, inplace=True)', try using 'df.method({col: value}, inplace=True)' or df[col] = df[col].method(value) instead, to perform the operation inplace on the original object.\n",
      "\n",
      "\n",
      "  ext_obj.var['gene_symbol'].fillna(ext_obj.var['ensembl_id'], inplace=True)\n"
     ]
    }
   ],
   "source": [
    "# Replace missing symbols with Ensembl IDs\n",
    "ext_obj.var['gene_symbol'].fillna(ext_obj.var['ensembl_id'], inplace=True)"
   ]
  },
  {
   "cell_type": "code",
   "execution_count": 11,
   "id": "299154d8-d446-41c6-8ba1-8224a9fcd583",
   "metadata": {},
   "outputs": [],
   "source": [
    "# Ensure gene symbols are strings\n",
    "ext_obj.var['gene_symbol'] = ext_obj.var['gene_symbol'].astype(str)"
   ]
  },
  {
   "cell_type": "code",
   "execution_count": 12,
   "id": "8c01e0a1-78e9-48c1-a783-7a19762f35e6",
   "metadata": {},
   "outputs": [],
   "source": [
    "# Update var_names with gene symbols but keep var.index as Ensembl IDs\n",
    "ext_obj.var_names = ext_obj.var['gene_symbol']\n",
    "ext_obj.var_names_make_unique()"
   ]
  },
  {
   "cell_type": "code",
   "execution_count": 13,
   "id": "4a6d289d-1c3c-4889-b8da-27f04df8840f",
   "metadata": {},
   "outputs": [],
   "source": [
    "# Create a mapping from Ensembl IDs to gene symbols\n",
    "ensembl_to_symbol = ext_obj.var.set_index('ensembl_id')['gene_symbol'].to_dict()"
   ]
  },
  {
   "cell_type": "code",
   "execution_count": 14,
   "id": "84860a44-750c-4958-91f7-95073efa6724",
   "metadata": {},
   "outputs": [
    {
     "name": "stdout",
     "output_type": "stream",
     "text": [
      "computing PCA\n",
      "    with n_comps=50\n",
      "    finished (0:01:07)\n"
     ]
    }
   ],
   "source": [
    "sc.pp.pca(ext_obj, n_comps = 50)"
   ]
  },
  {
   "cell_type": "code",
   "execution_count": 15,
   "id": "f6c590da-3dcf-4af0-a038-026c8275ceec",
   "metadata": {},
   "outputs": [
    {
     "name": "stderr",
     "output_type": "stream",
     "text": [
      "2024-10-21 14:15:56,173 - harmonypy - INFO - Computing initial centroids with sklearn.KMeans...\n",
      "2024-10-21 14:16:07,734 - harmonypy - INFO - sklearn.KMeans initialization complete.\n",
      "2024-10-21 14:16:08,444 - harmonypy - INFO - Iteration 1 of 10\n",
      "2024-10-21 14:17:18,654 - harmonypy - INFO - Iteration 2 of 10\n",
      "2024-10-21 14:18:22,625 - harmonypy - INFO - Iteration 3 of 10\n",
      "2024-10-21 14:19:29,400 - harmonypy - INFO - Iteration 4 of 10\n",
      "2024-10-21 14:20:43,892 - harmonypy - INFO - Iteration 5 of 10\n"
     ]
    },
    {
     "ename": "KeyboardInterrupt",
     "evalue": "",
     "output_type": "error",
     "traceback": [
      "\u001b[1;31m---------------------------------------------------------------------------\u001b[0m",
      "\u001b[1;31mKeyboardInterrupt\u001b[0m                         Traceback (most recent call last)",
      "Cell \u001b[1;32mIn[15], line 1\u001b[0m\n\u001b[1;32m----> 1\u001b[0m \u001b[43msc\u001b[49m\u001b[38;5;241;43m.\u001b[39;49m\u001b[43mexternal\u001b[49m\u001b[38;5;241;43m.\u001b[39;49m\u001b[43mpp\u001b[49m\u001b[38;5;241;43m.\u001b[39;49m\u001b[43mharmony_integrate\u001b[49m\u001b[43m(\u001b[49m\u001b[43mext_obj\u001b[49m\u001b[43m,\u001b[49m\u001b[43m \u001b[49m\u001b[43mkey\u001b[49m\u001b[38;5;241;43m=\u001b[39;49m\u001b[38;5;124;43m'\u001b[39;49m\u001b[38;5;124;43mSample\u001b[39;49m\u001b[38;5;124;43m'\u001b[39;49m\u001b[43m)\u001b[49m\n",
      "File \u001b[1;32mC:\\anaconda_envs\\jupyter_lab_venv\\Lib\\site-packages\\legacy_api_wrap\\__init__.py:80\u001b[0m, in \u001b[0;36mlegacy_api.<locals>.wrapper.<locals>.fn_compatible\u001b[1;34m(*args_all, **kw)\u001b[0m\n\u001b[0;32m     77\u001b[0m \u001b[38;5;129m@wraps\u001b[39m(fn)\n\u001b[0;32m     78\u001b[0m \u001b[38;5;28;01mdef\u001b[39;00m \u001b[38;5;21mfn_compatible\u001b[39m(\u001b[38;5;241m*\u001b[39margs_all: P\u001b[38;5;241m.\u001b[39margs, \u001b[38;5;241m*\u001b[39m\u001b[38;5;241m*\u001b[39mkw: P\u001b[38;5;241m.\u001b[39mkwargs) \u001b[38;5;241m-\u001b[39m\u001b[38;5;241m>\u001b[39m R:\n\u001b[0;32m     79\u001b[0m     \u001b[38;5;28;01mif\u001b[39;00m \u001b[38;5;28mlen\u001b[39m(args_all) \u001b[38;5;241m<\u001b[39m\u001b[38;5;241m=\u001b[39m n_positional:\n\u001b[1;32m---> 80\u001b[0m         \u001b[38;5;28;01mreturn\u001b[39;00m \u001b[43mfn\u001b[49m\u001b[43m(\u001b[49m\u001b[38;5;241;43m*\u001b[39;49m\u001b[43margs_all\u001b[49m\u001b[43m,\u001b[49m\u001b[43m \u001b[49m\u001b[38;5;241;43m*\u001b[39;49m\u001b[38;5;241;43m*\u001b[39;49m\u001b[43mkw\u001b[49m\u001b[43m)\u001b[49m\n\u001b[0;32m     82\u001b[0m     args_pos: P\u001b[38;5;241m.\u001b[39margs\n\u001b[0;32m     83\u001b[0m     args_pos, args_rest \u001b[38;5;241m=\u001b[39m args_all[:n_positional], args_all[n_positional:]\n",
      "File \u001b[1;32mC:\\anaconda_envs\\jupyter_lab_venv\\Lib\\site-packages\\scanpy\\external\\pp\\_harmony_integrate.py:95\u001b[0m, in \u001b[0;36mharmony_integrate\u001b[1;34m(adata, key, basis, adjusted_basis, **kwargs)\u001b[0m\n\u001b[0;32m     91\u001b[0m     \u001b[38;5;28;01mraise\u001b[39;00m \u001b[38;5;167;01mImportError\u001b[39;00m(\u001b[38;5;124m\"\u001b[39m\u001b[38;5;130;01m\\n\u001b[39;00m\u001b[38;5;124mplease install harmonypy:\u001b[39m\u001b[38;5;130;01m\\n\u001b[39;00m\u001b[38;5;130;01m\\n\u001b[39;00m\u001b[38;5;130;01m\\t\u001b[39;00m\u001b[38;5;124mpip install harmonypy\u001b[39m\u001b[38;5;124m\"\u001b[39m)\n\u001b[0;32m     93\u001b[0m X \u001b[38;5;241m=\u001b[39m adata\u001b[38;5;241m.\u001b[39mobsm[basis]\u001b[38;5;241m.\u001b[39mastype(np\u001b[38;5;241m.\u001b[39mfloat64)\n\u001b[1;32m---> 95\u001b[0m harmony_out \u001b[38;5;241m=\u001b[39m \u001b[43mharmonypy\u001b[49m\u001b[38;5;241;43m.\u001b[39;49m\u001b[43mrun_harmony\u001b[49m\u001b[43m(\u001b[49m\u001b[43mX\u001b[49m\u001b[43m,\u001b[49m\u001b[43m \u001b[49m\u001b[43madata\u001b[49m\u001b[38;5;241;43m.\u001b[39;49m\u001b[43mobs\u001b[49m\u001b[43m,\u001b[49m\u001b[43m \u001b[49m\u001b[43mkey\u001b[49m\u001b[43m,\u001b[49m\u001b[43m \u001b[49m\u001b[38;5;241;43m*\u001b[39;49m\u001b[38;5;241;43m*\u001b[39;49m\u001b[43mkwargs\u001b[49m\u001b[43m)\u001b[49m\n\u001b[0;32m     97\u001b[0m adata\u001b[38;5;241m.\u001b[39mobsm[adjusted_basis] \u001b[38;5;241m=\u001b[39m harmony_out\u001b[38;5;241m.\u001b[39mZ_corr\u001b[38;5;241m.\u001b[39mT\n",
      "File \u001b[1;32mC:\\anaconda_envs\\jupyter_lab_venv\\Lib\\site-packages\\harmonypy\\harmony.py:127\u001b[0m, in \u001b[0;36mrun_harmony\u001b[1;34m(data_mat, meta_data, vars_use, theta, lamb, sigma, nclust, tau, block_size, max_iter_harmony, max_iter_kmeans, epsilon_cluster, epsilon_harmony, plot_convergence, verbose, reference_values, cluster_prior, random_state, cluster_fn)\u001b[0m\n\u001b[0;32m    123\u001b[0m phi_moe \u001b[38;5;241m=\u001b[39m np\u001b[38;5;241m.\u001b[39mvstack((np\u001b[38;5;241m.\u001b[39mrepeat(\u001b[38;5;241m1\u001b[39m, N), phi))\n\u001b[0;32m    125\u001b[0m np\u001b[38;5;241m.\u001b[39mrandom\u001b[38;5;241m.\u001b[39mseed(random_state)\n\u001b[1;32m--> 127\u001b[0m ho \u001b[38;5;241m=\u001b[39m \u001b[43mHarmony\u001b[49m\u001b[43m(\u001b[49m\n\u001b[0;32m    128\u001b[0m \u001b[43m    \u001b[49m\u001b[43mdata_mat\u001b[49m\u001b[43m,\u001b[49m\u001b[43m \u001b[49m\u001b[43mphi\u001b[49m\u001b[43m,\u001b[49m\u001b[43m \u001b[49m\u001b[43mphi_moe\u001b[49m\u001b[43m,\u001b[49m\u001b[43m \u001b[49m\u001b[43mPr_b\u001b[49m\u001b[43m,\u001b[49m\u001b[43m \u001b[49m\u001b[43msigma\u001b[49m\u001b[43m,\u001b[49m\u001b[43m \u001b[49m\u001b[43mtheta\u001b[49m\u001b[43m,\u001b[49m\u001b[43m \u001b[49m\u001b[43mmax_iter_harmony\u001b[49m\u001b[43m,\u001b[49m\u001b[43m \u001b[49m\u001b[43mmax_iter_kmeans\u001b[49m\u001b[43m,\u001b[49m\n\u001b[0;32m    129\u001b[0m \u001b[43m    \u001b[49m\u001b[43mepsilon_cluster\u001b[49m\u001b[43m,\u001b[49m\u001b[43m \u001b[49m\u001b[43mepsilon_harmony\u001b[49m\u001b[43m,\u001b[49m\u001b[43m \u001b[49m\u001b[43mnclust\u001b[49m\u001b[43m,\u001b[49m\u001b[43m \u001b[49m\u001b[43mblock_size\u001b[49m\u001b[43m,\u001b[49m\u001b[43m \u001b[49m\u001b[43mlamb_mat\u001b[49m\u001b[43m,\u001b[49m\u001b[43m \u001b[49m\u001b[43mverbose\u001b[49m\u001b[43m,\u001b[49m\n\u001b[0;32m    130\u001b[0m \u001b[43m    \u001b[49m\u001b[43mrandom_state\u001b[49m\u001b[43m,\u001b[49m\u001b[43m \u001b[49m\u001b[43mcluster_fn\u001b[49m\n\u001b[0;32m    131\u001b[0m \u001b[43m\u001b[49m\u001b[43m)\u001b[49m\n\u001b[0;32m    133\u001b[0m \u001b[38;5;28;01mreturn\u001b[39;00m ho\n",
      "File \u001b[1;32mC:\\anaconda_envs\\jupyter_lab_venv\\Lib\\site-packages\\harmonypy\\harmony.py:179\u001b[0m, in \u001b[0;36mHarmony.__init__\u001b[1;34m(self, Z, Phi, Phi_moe, Pr_b, sigma, theta, max_iter_harmony, max_iter_kmeans, epsilon_kmeans, epsilon_harmony, K, block_size, lamb, verbose, random_state, cluster_fn)\u001b[0m\n\u001b[0;32m    177\u001b[0m     cluster_fn \u001b[38;5;241m=\u001b[39m partial(Harmony\u001b[38;5;241m.\u001b[39m_cluster_kmeans, random_state\u001b[38;5;241m=\u001b[39mrandom_state)\n\u001b[0;32m    178\u001b[0m \u001b[38;5;28mself\u001b[39m\u001b[38;5;241m.\u001b[39minit_cluster(cluster_fn)\n\u001b[1;32m--> 179\u001b[0m \u001b[38;5;28;43mself\u001b[39;49m\u001b[38;5;241;43m.\u001b[39;49m\u001b[43mharmonize\u001b[49m\u001b[43m(\u001b[49m\u001b[38;5;28;43mself\u001b[39;49m\u001b[38;5;241;43m.\u001b[39;49m\u001b[43mmax_iter_harmony\u001b[49m\u001b[43m,\u001b[49m\u001b[43m \u001b[49m\u001b[38;5;28;43mself\u001b[39;49m\u001b[38;5;241;43m.\u001b[39;49m\u001b[43mverbose\u001b[49m\u001b[43m)\u001b[49m\n",
      "File \u001b[1;32mC:\\anaconda_envs\\jupyter_lab_venv\\Lib\\site-packages\\harmonypy\\harmony.py:243\u001b[0m, in \u001b[0;36mHarmony.harmonize\u001b[1;34m(self, iter_harmony, verbose)\u001b[0m\n\u001b[0;32m    241\u001b[0m     logger\u001b[38;5;241m.\u001b[39minfo(\u001b[38;5;124m\"\u001b[39m\u001b[38;5;124mIteration \u001b[39m\u001b[38;5;132;01m{}\u001b[39;00m\u001b[38;5;124m of \u001b[39m\u001b[38;5;132;01m{}\u001b[39;00m\u001b[38;5;124m\"\u001b[39m\u001b[38;5;241m.\u001b[39mformat(i, iter_harmony))\n\u001b[0;32m    242\u001b[0m \u001b[38;5;66;03m# STEP 1: Clustering\u001b[39;00m\n\u001b[1;32m--> 243\u001b[0m \u001b[38;5;28;43mself\u001b[39;49m\u001b[38;5;241;43m.\u001b[39;49m\u001b[43mcluster\u001b[49m\u001b[43m(\u001b[49m\u001b[43m)\u001b[49m\n\u001b[0;32m    244\u001b[0m \u001b[38;5;66;03m# STEP 2: Regress out covariates\u001b[39;00m\n\u001b[0;32m    245\u001b[0m \u001b[38;5;66;03m# self.moe_correct_ridge()\u001b[39;00m\n\u001b[0;32m    246\u001b[0m \u001b[38;5;28mself\u001b[39m\u001b[38;5;241m.\u001b[39mZ_cos, \u001b[38;5;28mself\u001b[39m\u001b[38;5;241m.\u001b[39mZ_corr, \u001b[38;5;28mself\u001b[39m\u001b[38;5;241m.\u001b[39mW, \u001b[38;5;28mself\u001b[39m\u001b[38;5;241m.\u001b[39mPhi_Rk \u001b[38;5;241m=\u001b[39m moe_correct_ridge(\n\u001b[0;32m    247\u001b[0m     \u001b[38;5;28mself\u001b[39m\u001b[38;5;241m.\u001b[39mZ_orig, \u001b[38;5;28mself\u001b[39m\u001b[38;5;241m.\u001b[39mZ_cos, \u001b[38;5;28mself\u001b[39m\u001b[38;5;241m.\u001b[39mZ_corr, \u001b[38;5;28mself\u001b[39m\u001b[38;5;241m.\u001b[39mR, \u001b[38;5;28mself\u001b[39m\u001b[38;5;241m.\u001b[39mW, \u001b[38;5;28mself\u001b[39m\u001b[38;5;241m.\u001b[39mK,\n\u001b[0;32m    248\u001b[0m     \u001b[38;5;28mself\u001b[39m\u001b[38;5;241m.\u001b[39mPhi_Rk, \u001b[38;5;28mself\u001b[39m\u001b[38;5;241m.\u001b[39mPhi_moe, \u001b[38;5;28mself\u001b[39m\u001b[38;5;241m.\u001b[39mlamb\n\u001b[0;32m    249\u001b[0m )\n",
      "File \u001b[1;32mC:\\anaconda_envs\\jupyter_lab_venv\\Lib\\site-packages\\harmonypy\\harmony.py:276\u001b[0m, in \u001b[0;36mHarmony.cluster\u001b[1;34m(self)\u001b[0m\n\u001b[0;32m    274\u001b[0m \u001b[38;5;28mself\u001b[39m\u001b[38;5;241m.\u001b[39mdist_mat \u001b[38;5;241m=\u001b[39m \u001b[38;5;241m2\u001b[39m \u001b[38;5;241m*\u001b[39m (\u001b[38;5;241m1\u001b[39m \u001b[38;5;241m-\u001b[39m np\u001b[38;5;241m.\u001b[39mdot(\u001b[38;5;28mself\u001b[39m\u001b[38;5;241m.\u001b[39mY\u001b[38;5;241m.\u001b[39mT, \u001b[38;5;28mself\u001b[39m\u001b[38;5;241m.\u001b[39mZ_cos))\n\u001b[0;32m    275\u001b[0m \u001b[38;5;66;03m# STEP 3: Update R\u001b[39;00m\n\u001b[1;32m--> 276\u001b[0m \u001b[38;5;28;43mself\u001b[39;49m\u001b[38;5;241;43m.\u001b[39;49m\u001b[43mupdate_R\u001b[49m\u001b[43m(\u001b[49m\u001b[43m)\u001b[49m\n\u001b[0;32m    277\u001b[0m \u001b[38;5;66;03m# STEP 4: Check for convergence\u001b[39;00m\n\u001b[0;32m    278\u001b[0m \u001b[38;5;28mself\u001b[39m\u001b[38;5;241m.\u001b[39mcompute_objective()\n",
      "File \u001b[1;32mC:\\anaconda_envs\\jupyter_lab_venv\\Lib\\site-packages\\harmonypy\\harmony.py:290\u001b[0m, in \u001b[0;36mHarmony.update_R\u001b[1;34m(self)\u001b[0m\n\u001b[0;32m    288\u001b[0m \u001b[38;5;28mself\u001b[39m\u001b[38;5;241m.\u001b[39m_scale_dist \u001b[38;5;241m=\u001b[39m \u001b[38;5;241m-\u001b[39m\u001b[38;5;28mself\u001b[39m\u001b[38;5;241m.\u001b[39mdist_mat\n\u001b[0;32m    289\u001b[0m \u001b[38;5;28mself\u001b[39m\u001b[38;5;241m.\u001b[39m_scale_dist \u001b[38;5;241m=\u001b[39m \u001b[38;5;28mself\u001b[39m\u001b[38;5;241m.\u001b[39m_scale_dist \u001b[38;5;241m/\u001b[39m \u001b[38;5;28mself\u001b[39m\u001b[38;5;241m.\u001b[39msigma[:,\u001b[38;5;28;01mNone\u001b[39;00m]\n\u001b[1;32m--> 290\u001b[0m \u001b[38;5;28mself\u001b[39m\u001b[38;5;241m.\u001b[39m_scale_dist \u001b[38;5;241m-\u001b[39m\u001b[38;5;241m=\u001b[39m \u001b[43mnp\u001b[49m\u001b[38;5;241;43m.\u001b[39;49m\u001b[43mmax\u001b[49m\u001b[43m(\u001b[49m\u001b[38;5;28;43mself\u001b[39;49m\u001b[38;5;241;43m.\u001b[39;49m\u001b[43m_scale_dist\u001b[49m\u001b[43m,\u001b[49m\u001b[43m \u001b[49m\u001b[43maxis\u001b[49m\u001b[38;5;241;43m=\u001b[39;49m\u001b[38;5;241;43m0\u001b[39;49m\u001b[43m)\u001b[49m\n\u001b[0;32m    291\u001b[0m \u001b[38;5;28mself\u001b[39m\u001b[38;5;241m.\u001b[39m_scale_dist \u001b[38;5;241m=\u001b[39m np\u001b[38;5;241m.\u001b[39mexp(\u001b[38;5;28mself\u001b[39m\u001b[38;5;241m.\u001b[39m_scale_dist)\n\u001b[0;32m    292\u001b[0m \u001b[38;5;66;03m# Update cells in blocks\u001b[39;00m\n",
      "File \u001b[1;32mC:\\anaconda_envs\\jupyter_lab_venv\\Lib\\site-packages\\numpy\\_core\\fromnumeric.py:2776\u001b[0m, in \u001b[0;36m_max_dispatcher\u001b[1;34m(a, axis, out, keepdims, initial, where)\u001b[0m\n\u001b[0;32m   2772\u001b[0m         kwargs[\u001b[38;5;124m'\u001b[39m\u001b[38;5;124mkeepdims\u001b[39m\u001b[38;5;124m'\u001b[39m] \u001b[38;5;241m=\u001b[39m keepdims\n\u001b[0;32m   2773\u001b[0m     \u001b[38;5;28;01mreturn\u001b[39;00m _methods\u001b[38;5;241m.\u001b[39m_ptp(a, axis\u001b[38;5;241m=\u001b[39maxis, out\u001b[38;5;241m=\u001b[39mout, \u001b[38;5;241m*\u001b[39m\u001b[38;5;241m*\u001b[39mkwargs)\n\u001b[1;32m-> 2776\u001b[0m \u001b[38;5;28;01mdef\u001b[39;00m \u001b[38;5;21m_max_dispatcher\u001b[39m(a, axis\u001b[38;5;241m=\u001b[39m\u001b[38;5;28;01mNone\u001b[39;00m, out\u001b[38;5;241m=\u001b[39m\u001b[38;5;28;01mNone\u001b[39;00m, keepdims\u001b[38;5;241m=\u001b[39m\u001b[38;5;28;01mNone\u001b[39;00m, initial\u001b[38;5;241m=\u001b[39m\u001b[38;5;28;01mNone\u001b[39;00m,\n\u001b[0;32m   2777\u001b[0m                     where\u001b[38;5;241m=\u001b[39m\u001b[38;5;28;01mNone\u001b[39;00m):\n\u001b[0;32m   2778\u001b[0m     \u001b[38;5;28;01mreturn\u001b[39;00m (a, out)\n\u001b[0;32m   2781\u001b[0m \u001b[38;5;129m@array_function_dispatch\u001b[39m(_max_dispatcher)\n\u001b[0;32m   2782\u001b[0m \u001b[38;5;129m@set_module\u001b[39m(\u001b[38;5;124m'\u001b[39m\u001b[38;5;124mnumpy\u001b[39m\u001b[38;5;124m'\u001b[39m)\n\u001b[0;32m   2783\u001b[0m \u001b[38;5;28;01mdef\u001b[39;00m \u001b[38;5;21mmax\u001b[39m(a, axis\u001b[38;5;241m=\u001b[39m\u001b[38;5;28;01mNone\u001b[39;00m, out\u001b[38;5;241m=\u001b[39m\u001b[38;5;28;01mNone\u001b[39;00m, keepdims\u001b[38;5;241m=\u001b[39mnp\u001b[38;5;241m.\u001b[39m_NoValue, initial\u001b[38;5;241m=\u001b[39mnp\u001b[38;5;241m.\u001b[39m_NoValue,\n\u001b[0;32m   2784\u001b[0m          where\u001b[38;5;241m=\u001b[39mnp\u001b[38;5;241m.\u001b[39m_NoValue):\n",
      "\u001b[1;31mKeyboardInterrupt\u001b[0m: "
     ]
    }
   ],
   "source": [
    "sc.external.pp.harmony_integrate(ext_obj, key='Sample')"
   ]
  },
  {
   "cell_type": "code",
   "execution_count": null,
   "id": "e6aed868-6f01-440a-871e-f1119ad513a3",
   "metadata": {},
   "outputs": [],
   "source": [
    "sc.pp.normalize_total(ext_obj, target_sum=1e4)"
   ]
  },
  {
   "cell_type": "code",
   "execution_count": null,
   "id": "38b4e918-aa47-4b79-b54a-c0b0a5f97f86",
   "metadata": {},
   "outputs": [],
   "source": [
    "sc.pp.log1p(ext_obj)"
   ]
  },
  {
   "cell_type": "code",
   "execution_count": null,
   "id": "f030a8ff-8180-411d-87d6-532559e37658",
   "metadata": {},
   "outputs": [],
   "source": [
    "sc.pp.scale(ext_obj, max_value=10)"
   ]
  },
  {
   "cell_type": "code",
   "execution_count": null,
   "id": "471534c4-621d-4459-afc2-27b54725ad6c",
   "metadata": {},
   "outputs": [],
   "source": []
  },
  {
   "cell_type": "raw",
   "id": "8038162b-bfa2-4b51-bcf9-b6299b26bc8c",
   "metadata": {},
   "source": [
    "sc.tl.score_genes(adata = epith, gene_list = intestinal_stem, score_name = 'Intestinal stemness', use_raw = False)"
   ]
  },
  {
   "cell_type": "raw",
   "id": "1f6d448b-7ec9-4947-b93d-af597b46f6e6",
   "metadata": {},
   "source": [
    "sc.tl.score_genes(adata = epith, gene_list = gastric_stem, score_name = 'Gastric stemness', use_raw = False)"
   ]
  },
  {
   "cell_type": "raw",
   "id": "94dd9688-8a71-4967-948d-45c857fd81ac",
   "metadata": {},
   "source": [
    "sc.pl.scatter(adata = epith[epith.obs['Patient_status'] == 'IM'], x = 'Gastric stemness', y = 'Intestinal stemness', color = 'Celltypes_global', use_raw = False)"
   ]
  },
  {
   "cell_type": "raw",
   "id": "89e8d0be-562e-40d8-b4d2-9e2b56e9ab88",
   "metadata": {},
   "source": [
    "sc.pl.scatter(adata = epith[epith.obs['Patient_status'] == 'Healthy'], x = 'Gastric stemness', y = 'Intestinal stemness', color = 'Celltypes_global', use_raw = False)"
   ]
  },
  {
   "cell_type": "code",
   "execution_count": null,
   "id": "1ee0962a-4c54-402e-a468-499f197e578c",
   "metadata": {},
   "outputs": [],
   "source": []
  }
 ],
 "metadata": {
  "kernelspec": {
   "display_name": "Python 3 (ipykernel)",
   "language": "python",
   "name": "python3"
  },
  "language_info": {
   "codemirror_mode": {
    "name": "ipython",
    "version": 3
   },
   "file_extension": ".py",
   "mimetype": "text/x-python",
   "name": "python",
   "nbconvert_exporter": "python",
   "pygments_lexer": "ipython3",
   "version": "3.12.1"
  }
 },
 "nbformat": 4,
 "nbformat_minor": 5
}
