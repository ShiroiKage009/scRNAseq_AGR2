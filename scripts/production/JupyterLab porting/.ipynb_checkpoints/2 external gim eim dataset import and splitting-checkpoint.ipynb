{
 "cells": [
  {
   "cell_type": "code",
   "execution_count": 1,
   "id": "b8216885-0030-4189-9dec-4b9bfd30dfdf",
   "metadata": {},
   "outputs": [],
   "source": [
    "# Import packages\n",
    "import scanpy as sc\n",
    "import anndata as ad\n",
    "import pandas as pd\n",
    "import time"
   ]
  },
  {
   "cell_type": "code",
   "execution_count": 3,
   "id": "052a6cf6-7db0-43b5-845a-0af9cf80311d",
   "metadata": {},
   "outputs": [],
   "source": [
    "path = 'S:/data cache/code_in_out/external_datasets/'\n",
    "data = sc.read_h5ad(path + 'gim and eim unified umap of all file.h5ad')"
   ]
  }
 ],
 "metadata": {
  "kernelspec": {
   "display_name": "Python 3 (ipykernel)",
   "language": "python",
   "name": "python3"
  },
  "language_info": {
   "codemirror_mode": {
    "name": "ipython",
    "version": 3
   },
   "file_extension": ".py",
   "mimetype": "text/x-python",
   "name": "python",
   "nbconvert_exporter": "python",
   "pygments_lexer": "ipython3",
   "version": "3.11.8"
  }
 },
 "nbformat": 4,
 "nbformat_minor": 5
}
