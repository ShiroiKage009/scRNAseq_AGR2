{
 "cells": [
  {
   "cell_type": "code",
   "execution_count": 1,
   "id": "a9a32bd8-58e3-409c-8ba2-ed2b91474987",
   "metadata": {},
   "outputs": [],
   "source": [
    "import palantir\n",
    "import scanpy as sc\n",
    "import cellrank as cr\n",
    "\n",
    "# Plotting\n",
    "import matplotlib\n",
    "import matplotlib.pyplot as plt\n"
   ]
  },
  {
   "cell_type": "code",
   "execution_count": 2,
   "id": "676630ed-e35e-46d3-b072-308797297589",
   "metadata": {},
   "outputs": [],
   "source": [
    "path = '/home/achmed/ssdmnt/cache/external_datasets/'"
   ]
  },
  {
   "cell_type": "code",
   "execution_count": 3,
   "id": "d0290514-d876-4355-a30e-176722fb5adf",
   "metadata": {},
   "outputs": [
    {
     "name": "stderr",
     "output_type": "stream",
     "text": [
      "/home/achmed/ssdmnt/python_venv/jupyter_venv/lib/python3.12/site-packages/anndata/_core/anndata.py:1756: UserWarning: Variable names are not unique. To make them unique, call `.var_names_make_unique`.\n",
      "  utils.warn_names_duplicates(\"var\")\n"
     ]
    }
   ],
   "source": [
    "ad = sc.read(path + 'external_IM_epithelium_proc.h5ad')"
   ]
  },
  {
   "cell_type": "code",
   "execution_count": 4,
   "id": "ded27ff0-7cef-458f-85f0-ab80a5656ab3",
   "metadata": {},
   "outputs": [
    {
     "data": {
      "text/plain": [
       "\"AnnData object with n_obs × n_vars = 45881 × 33145\\n    obs: 'Sample', 'Tissue_in_paper', 'Batch', 'Sample_Barcode', 'sum', 'detected', 'Study', 'Patient_type', 'Patient_status', 'MT.prop', 'sizeFactor', 'Global_cluster_selected', 'Celltypes_global', 'Tissuetypes_global', 'Detailed_Cell_Type', 'cell_type_ontology_term_id', 'assay_ontology_term_id', 'tissue_ontology_term_id', 'disease_ontology_term_id', 'sex_ontology_term_id', 'organism_ontology_term_id', 'self_reported_ethnicity_ontology_term_id', 'donor_id', 'suspension_type', 'development_stage_ontology_term_id', 'is_primary_data', 'tissue_type', 'cell_type', 'assay', 'disease', 'organism', 'sex', 'tissue', 'self_reported_ethnicity', 'development_stage', 'observation_joinid', 'leiden'\\n    var: 'feature_is_filtered', 'feature_name', 'feature_reference', 'feature_biotype', 'feature_length', 'mean', 'std'\\n    uns: 'Patient_status_colors', 'X_name', 'cell_type_colors', 'citation', 'log1p', 'pca', 'schema_reference', 'schema_version', 'tissue_colors', 'title', 'tsne'\\n    obsm: 'X_pca', 'X_pca_harmony', 'X_tsne', 'X_umap_MinDist_0.01_N_Neighbors_15', 'X_umap_MinDist_0.05_N_Neighbors_15', 'X_umap_MinDist_0.1_N_Neighbors_15', 'X_umap_MinDist_0.2_N_Neighbors_15', 'X_umap_MinDist_0.3_N_Neighbors_15', 'X_umap_MinDist_0.4_N_Neighbors_15', 'X_umap_MinDist_0.5_N_Neighbors_15', 'X_umap_neighbors_100_min_dist_0.1md', 'X_umap_neighbors_100_min_dist_0.3md', 'X_umap_neighbors_100_min_dist_0.5md', 'X_umap_neighbors_10_min_dist_0.1md', 'X_umap_neighbors_10_min_dist_0.3md', 'X_umap_neighbors_10_min_dist_0.5md', 'X_umap_neighbors_15_min_dist_0.1md', 'X_umap_neighbors_15_min_dist_0.3md', 'X_umap_neighbors_15_min_dist_0.5md', 'X_umap_neighbors_30_min_dist_0.1md', 'X_umap_neighbors_30_min_dist_0.3md', 'X_umap_neighbors_30_min_dist_0.5md', 'X_umap_neighbors_50_min_dist_0.1md', 'X_umap_neighbors_50_min_dist_0.3md', 'X_umap_neighbors_50_min_dist_0.5md'\\n    varm: 'PCs'\""
      ]
     },
     "execution_count": 4,
     "metadata": {},
     "output_type": "execute_result"
    }
   ],
   "source": [
    "str(ad)"
   ]
  },
  {
   "cell_type": "code",
   "execution_count": 5,
   "id": "694f36c9-ac34-4691-92f3-786aac2086bd",
   "metadata": {},
   "outputs": [],
   "source": [
    "#sc.pp.subsample(ad, fraction = 0.75)"
   ]
  },
  {
   "cell_type": "code",
   "execution_count": 6,
   "id": "00cd39ed-ab7f-45d1-9443-85e93c694146",
   "metadata": {},
   "outputs": [
    {
     "data": {
      "text/plain": [
       "\"AnnData object with n_obs × n_vars = 45881 × 33145\\n    obs: 'Sample', 'Tissue_in_paper', 'Batch', 'Sample_Barcode', 'sum', 'detected', 'Study', 'Patient_type', 'Patient_status', 'MT.prop', 'sizeFactor', 'Global_cluster_selected', 'Celltypes_global', 'Tissuetypes_global', 'Detailed_Cell_Type', 'cell_type_ontology_term_id', 'assay_ontology_term_id', 'tissue_ontology_term_id', 'disease_ontology_term_id', 'sex_ontology_term_id', 'organism_ontology_term_id', 'self_reported_ethnicity_ontology_term_id', 'donor_id', 'suspension_type', 'development_stage_ontology_term_id', 'is_primary_data', 'tissue_type', 'cell_type', 'assay', 'disease', 'organism', 'sex', 'tissue', 'self_reported_ethnicity', 'development_stage', 'observation_joinid', 'leiden'\\n    var: 'feature_is_filtered', 'feature_name', 'feature_reference', 'feature_biotype', 'feature_length', 'mean', 'std'\\n    uns: 'Patient_status_colors', 'X_name', 'cell_type_colors', 'citation', 'log1p', 'pca', 'schema_reference', 'schema_version', 'tissue_colors', 'title', 'tsne'\\n    obsm: 'X_pca', 'X_pca_harmony', 'X_tsne', 'X_umap_MinDist_0.01_N_Neighbors_15', 'X_umap_MinDist_0.05_N_Neighbors_15', 'X_umap_MinDist_0.1_N_Neighbors_15', 'X_umap_MinDist_0.2_N_Neighbors_15', 'X_umap_MinDist_0.3_N_Neighbors_15', 'X_umap_MinDist_0.4_N_Neighbors_15', 'X_umap_MinDist_0.5_N_Neighbors_15', 'X_umap_neighbors_100_min_dist_0.1md', 'X_umap_neighbors_100_min_dist_0.3md', 'X_umap_neighbors_100_min_dist_0.5md', 'X_umap_neighbors_10_min_dist_0.1md', 'X_umap_neighbors_10_min_dist_0.3md', 'X_umap_neighbors_10_min_dist_0.5md', 'X_umap_neighbors_15_min_dist_0.1md', 'X_umap_neighbors_15_min_dist_0.3md', 'X_umap_neighbors_15_min_dist_0.5md', 'X_umap_neighbors_30_min_dist_0.1md', 'X_umap_neighbors_30_min_dist_0.3md', 'X_umap_neighbors_30_min_dist_0.5md', 'X_umap_neighbors_50_min_dist_0.1md', 'X_umap_neighbors_50_min_dist_0.3md', 'X_umap_neighbors_50_min_dist_0.5md'\\n    varm: 'PCs'\""
      ]
     },
     "execution_count": 6,
     "metadata": {},
     "output_type": "execute_result"
    }
   ],
   "source": [
    "str(ad)"
   ]
  },
  {
   "cell_type": "markdown",
   "id": "d370552f-9475-4d79-b480-e1b844420410",
   "metadata": {},
   "source": [
    "Here, we select which UMAP we want. Check the UMAPs produced in the previous script."
   ]
  },
  {
   "cell_type": "code",
   "execution_count": 7,
   "id": "efdfabed-cb6e-453a-98d1-be005928c49b",
   "metadata": {},
   "outputs": [],
   "source": [
    "ad.obsm['X_umap'] = ad.obsm['X_umap_neighbors_30_min_dist_0.5md'].copy()"
   ]
  },
  {
   "cell_type": "markdown",
   "id": "74f6a02d-d9ee-4422-8d24-215bd1f61478",
   "metadata": {},
   "source": [
    "Setting up the environment"
   ]
  },
  {
   "cell_type": "code",
   "execution_count": 8,
   "id": "4420f990-1196-40e6-a376-3c43f3c7fa27",
   "metadata": {},
   "outputs": [],
   "source": [
    "# Execution start begin with timing\n",
    "sc.settings.verbosity = 3\n",
    "sc.set_figure_params(dpi = 150, frameon = 0)\n",
    "\n",
    "global_res = 0.5"
   ]
  },
  {
   "cell_type": "code",
   "execution_count": 9,
   "id": "5ebf859f-d92c-46e9-9cb7-65788bb92d5d",
   "metadata": {},
   "outputs": [],
   "source": [
    "palantir.preprocess.log_transform(ad)"
   ]
  },
  {
   "cell_type": "code",
   "execution_count": 10,
   "id": "93d73369-8ea0-45a9-851f-4de14c985e5b",
   "metadata": {},
   "outputs": [
    {
     "name": "stdout",
     "output_type": "stream",
     "text": [
      "extracting highly variable genes\n",
      "    finished (0:00:01)\n",
      "--> added\n",
      "    'highly_variable', boolean vector (adata.var)\n",
      "    'means', float vector (adata.var)\n",
      "    'dispersions', float vector (adata.var)\n",
      "    'dispersions_norm', float vector (adata.var)\n"
     ]
    }
   ],
   "source": [
    "sc.pp.highly_variable_genes(ad, n_top_genes = 1500, flavor = \"seurat\")"
   ]
  },
  {
   "cell_type": "code",
   "execution_count": null,
   "id": "fccaa9fa-b4c9-4ee9-be88-139d419e0519",
   "metadata": {},
   "outputs": [
    {
     "name": "stdout",
     "output_type": "stream",
     "text": [
      "computing neighbors\n"
     ]
    }
   ],
   "source": [
    "sc.pp.neighbors(ad, n_neighbors = 30, use_rep = 'X_pca_harmony')"
   ]
  },
  {
   "cell_type": "code",
   "execution_count": null,
   "id": "7fb8f7ef-f0e9-4d38-97de-ef65bec4d06b",
   "metadata": {},
   "outputs": [],
   "source": [
    "dm_res = palantir.utils.run_diffusion_maps(ad, n_components = 50)"
   ]
  },
  {
   "cell_type": "code",
   "execution_count": null,
   "id": "9ee14025-c1bd-4b83-b148-18735c4f3f19",
   "metadata": {},
   "outputs": [],
   "source": [
    "ms_data = palantir.utils.determine_multiscale_space(ad)"
   ]
  },
  {
   "cell_type": "code",
   "execution_count": null,
   "id": "6f593626-faa0-4fbb-bcc7-0c9d8989d9ef",
   "metadata": {},
   "outputs": [],
   "source": [
    "sc.pl.umap(ad, color = ['STMN1', 'OLFM4', 'SMOC2', 'EPHB2', 'LGR5', 'Patient_status', 'Detailed_Cell_Type'], use_raw = False)"
   ]
  },
  {
   "cell_type": "code",
   "execution_count": null,
   "id": "52330498-2e00-4228-b98f-339e31490a5f",
   "metadata": {},
   "outputs": [],
   "source": [
    "sc.pl.umap(ad, \n",
    "           color = ['leiden', 'LGR5', 'MKI67', 'STMN1', 'ANPEP', 'MUC5AC', 'MUC6', 'LYZ', 'MUC2', 'GKN2', 'leiden'],\n",
    "           use_raw = False\n",
    "          )"
   ]
  },
  {
   "cell_type": "code",
   "execution_count": null,
   "id": "e019711e-0975-405f-bef6-4e96cd361a10",
   "metadata": {},
   "outputs": [],
   "source": [
    "palantir.utils.run_magic_imputation(ad)"
   ]
  },
  {
   "cell_type": "code",
   "execution_count": null,
   "id": "fb0afbff-5b08-4ad8-b8df-8225298e504a",
   "metadata": {},
   "outputs": [],
   "source": [
    "sc.pl.embedding(\n",
    "    ad,\n",
    "    basis=\"umap\",\n",
    "    layer=\"MAGIC_imputed_data\",\n",
    "    color=['LGR5', 'ANPEP', 'MUC5AC', 'MUC6', 'MKI67', 'MUC2', 'LYZ', 'STMN1', 'GKN2', 'Detailed_Cell_Type'],\n",
    "    frameon=False,\n",
    ")\n",
    "plt.show()"
   ]
  },
  {
   "cell_type": "code",
   "execution_count": null,
   "id": "a4809c3d-8292-438b-b37b-0897c35cbff1",
   "metadata": {
    "scrolled": true
   },
   "outputs": [],
   "source": [
    "palantir.plot.plot_diffusion_components(ad)\n",
    "plt.show()"
   ]
  },
  {
   "cell_type": "code",
   "execution_count": null,
   "id": "64f8b1de-f390-4521-ac67-a48632738a81",
   "metadata": {},
   "outputs": [],
   "source": [
    "ad_st_filt = ad[ad.obs['cell_type'] == 'stem cell']"
   ]
  },
  {
   "cell_type": "code",
   "execution_count": null,
   "id": "74b61170-131c-4ac1-9d98-f2c9855d1d6a",
   "metadata": {
    "scrolled": true
   },
   "outputs": [],
   "source": [
    "starting_cell = ad_st_filt[ad_st_filt[:, 'LGR5'].X > 6.65]\n",
    "print(starting_cell[:, 'LGR5'].X)"
   ]
  },
  {
   "cell_type": "code",
   "execution_count": null,
   "id": "0d7195cf-3be7-4529-bbf6-25eb964440bd",
   "metadata": {},
   "outputs": [],
   "source": [
    "starting_cell = starting_cell[starting_cell[:, 'LGR5'].X < 6.66]\n",
    "print(starting_cell[:, 'LGR5'].X)\n",
    "start_cell = starting_cell.obs_names"
   ]
  },
  {
   "cell_type": "markdown",
   "id": "2f26e2af-c135-4faa-970d-f8a89fe26aa0",
   "metadata": {},
   "source": [
    "Show terminal states here when defined"
   ]
  },
  {
   "cell_type": "code",
   "execution_count": null,
   "id": "6f5d4105-1834-4790-a304-ddf120198b6f",
   "metadata": {},
   "outputs": [],
   "source": [
    "palantir.plot.highlight_cells_on_umap(ad, [start_cell[0]])\n",
    "plt.show()"
   ]
  },
  {
   "cell_type": "code",
   "execution_count": null,
   "id": "0f0e6ee1-e65e-40a1-ac2d-33c93394bdf2",
   "metadata": {},
   "outputs": [],
   "source": [
    "pr_res = palantir.core.run_palantir(data = ad, early_cell = start_cell[0], num_waypoints = 500, use_early_cell_as_start = 0, knn = 100, scale_components = 1)"
   ]
  },
  {
   "cell_type": "code",
   "execution_count": null,
   "id": "c81378d2-0737-4d35-9033-76d7229c9288",
   "metadata": {},
   "outputs": [],
   "source": [
    "palantir.plot.plot_palantir_results(ad)\n",
    "plt.show()"
   ]
  },
  {
   "cell_type": "code",
   "execution_count": null,
   "id": "16d8bfb4-1b51-49ba-8ce2-fb0925889343",
   "metadata": {},
   "outputs": [],
   "source": [
    "from cellrank.kernels import PseudotimeKernel\n",
    "\n",
    "pk = PseudotimeKernel(ad, time_key=\"palantir_pseudotime\")"
   ]
  },
  {
   "cell_type": "code",
   "execution_count": null,
   "id": "49f1b73a-08bd-44d2-9995-c0ed07e0b08b",
   "metadata": {},
   "outputs": [],
   "source": [
    "pk.compute_transition_matrix()"
   ]
  },
  {
   "cell_type": "code",
   "execution_count": null,
   "id": "a680dac1-d165-456e-ac65-6d8dc7f7d269",
   "metadata": {},
   "outputs": [],
   "source": [
    "pk.plot_random_walks(\n",
    "    n_sims = 300,\n",
    "    linewidth = 0.5,\n",
    "    start_ixs = {\"cell_type\": \"stem cell\"},\n",
    "    basis = \"umap\",\n",
    "    size = 15\n",
    ")"
   ]
  },
  {
   "cell_type": "code",
   "execution_count": null,
   "id": "6a87fa1c-fc34-440a-8737-1d67cc374756",
   "metadata": {},
   "outputs": [],
   "source": [
    "pk.plot_random_walks(\n",
    "    n_sims = 300,\n",
    "    max_iter = 30,\n",
    "    linewidth = 0.5,\n",
    "    start_ixs = {\"cell_type\": \"stem cell\"},\n",
    "    basis = \"umap\",\n",
    "    size = 15\n",
    ")"
   ]
  },
  {
   "cell_type": "raw",
   "id": "b09d4ad5-68c3-4a09-a12e-ed008fe399bc",
   "metadata": {},
   "source": [
    "pk.plot_random_walks(\n",
    "    n_sims = 300,\n",
    "    linewidth = 0.5,\n",
    "    start_ixs = {\"leiden\": \"Proliferative\"},\n",
    "    basis = \"umap\",\n",
    "    size = 25,\n",
    ")"
   ]
  },
  {
   "cell_type": "code",
   "execution_count": null,
   "id": "35c81884-9e75-44e5-9356-e3b4bc56dc1a",
   "metadata": {},
   "outputs": [],
   "source": [
    "from cellrank.estimators import GPCCA\n",
    "\n",
    "g = GPCCA(pk)\n",
    "print(g)"
   ]
  },
  {
   "cell_type": "markdown",
   "id": "2a4206b8-bb31-46b0-b488-960186a4489a",
   "metadata": {},
   "source": [
    "### Bit of memory cleanup"
   ]
  },
  {
   "cell_type": "code",
   "execution_count": null,
   "id": "fdf3a7d3-84b2-4b1d-9079-4274b923a3e5",
   "metadata": {},
   "outputs": [],
   "source": [
    "del pk\n",
    "del ad\n",
    "del pr_res\n",
    "del ad_st_filt\n",
    "del dm_res\n",
    "del ms_data"
   ]
  },
  {
   "cell_type": "code",
   "execution_count": null,
   "id": "a028e3ad-ebe6-4687-99e4-ebd32a0b058c",
   "metadata": {},
   "outputs": [],
   "source": [
    "g.fit(n_states = 15, cluster_key = \"cell_type\")\n",
    "g.plot_macrostates(which = \"all\")"
   ]
  },
  {
   "cell_type": "code",
   "execution_count": null,
   "id": "b2049dfd-bc94-4350-bb25-9f406882f6d3",
   "metadata": {},
   "outputs": [],
   "source": [
    "g.predict_terminal_states(method = \"eigengap\", n_states = 15)\n",
    "g.plot_macrostates(which = \"terminal\")"
   ]
  },
  {
   "cell_type": "code",
   "execution_count": null,
   "id": "9c7296dc-172b-4a16-8c21-534795d54715",
   "metadata": {},
   "outputs": [],
   "source": [
    "g.predict_initial_states(allow_overlap = 1)\n",
    "g.plot_macrostates(which = \"initial\")"
   ]
  },
  {
   "cell_type": "code",
   "execution_count": null,
   "id": "d91e3acc-8f50-4833-aca7-a6d788d02ebe",
   "metadata": {},
   "outputs": [],
   "source": [
    "g.compute_fate_probabilities()\n",
    "g.plot_fate_probabilities(legend_loc=\"right\")"
   ]
  },
  {
   "cell_type": "code",
   "execution_count": null,
   "id": "8cdd845a-9b73-4b5f-9b1e-cb10e823a166",
   "metadata": {},
   "outputs": [],
   "source": [
    "cr.pl.circular_projection(adata, keys=\"leiden\", legend_loc=\"right\", title = '')"
   ]
  },
  {
   "cell_type": "code",
   "execution_count": null,
   "id": "5fa2f99a-31bb-4afb-8eda-288c7ad04d06",
   "metadata": {},
   "outputs": [],
   "source": []
  }
 ],
 "metadata": {
  "kernelspec": {
   "display_name": "Python 3 (ipykernel)",
   "language": "python",
   "name": "python3"
  },
  "language_info": {
   "codemirror_mode": {
    "name": "ipython",
    "version": 3
   },
   "file_extension": ".py",
   "mimetype": "text/x-python",
   "name": "python",
   "nbconvert_exporter": "python",
   "pygments_lexer": "ipython3",
   "version": "3.12.3"
  }
 },
 "nbformat": 4,
 "nbformat_minor": 5
}
