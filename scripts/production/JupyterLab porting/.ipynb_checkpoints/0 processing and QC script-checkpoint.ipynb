{
 "cells": [
  {
   "cell_type": "code",
   "execution_count": 8,
   "id": "78dd3b29-e991-4189-a4c5-8c78961b7ffa",
   "metadata": {},
   "outputs": [],
   "source": [
    "# Import packages\n",
    "import scanpy as sc\n",
    "import anndata as ad\n",
    "import pandas as pd\n",
    "import time"
   ]
  },
  {
   "cell_type": "markdown",
   "id": "fc7954b2-4fee-4ea2-baef-c5b2884ae8d6",
   "metadata": {},
   "source": [
    "Function definitions"
   ]
  },
  {
   "cell_type": "markdown",
   "id": "cb024683-2d94-40ad-bf16-01f71ebfe72f",
   "metadata": {},
   "source": [
    "Time wrapper"
   ]
  },
  {
   "cell_type": "code",
   "execution_count": 9,
   "id": "ea71e95d-5cda-44ea-a767-60f9da1eeaa1",
   "metadata": {},
   "outputs": [],
   "source": [
    "# Time wrapper\n",
    "def time_it(func):\n",
    "    def wrapper(*args, **kwargs):\n",
    "        start_time = time.time()\n",
    "        result = func(*args, **kwargs)\n",
    "        end_time = time.time()\n",
    "        print(f\"{func.__name__} executed in {end_time - start_time} seconds\")\n",
    "        return result\n",
    "    return wrapper"
   ]
  },
  {
   "cell_type": "markdown",
   "id": "1d9ce599-84fb-41dd-991f-f894bd4b0f1e",
   "metadata": {},
   "source": [
    "Filtering cells by gene for UMAP"
   ]
  },
  {
   "cell_type": "code",
   "execution_count": 10,
   "id": "d2823dd2-1fe0-4e13-99aa-95cf69d33635",
   "metadata": {},
   "outputs": [],
   "source": [
    "# DEFAULT QC VALUES. Calibrated to Sarah Teichmann's paper \"Cells of the human intestinal tract mapped across space and time.\" These QC values will apply by default for this entire script.\n",
    "def filter_cells_for_UMAP(data, min_ct = 2000, min_gen = 500, min_cell = 3, mt_pct = 60, max_genes = 0, normed = 0, d_score = 0.24): \n",
    "    adata = data # This is to avoid writing into the file that's entered as an argument\n",
    "    sc.pp.filter_cells(adata, min_counts = min_ct) # Filter cells based on number of RNA reads\n",
    "    sc.pp.filter_cells(adata, min_genes= min_gen) # Filter cells based on the number of recognized genes\n",
    "    sc.pp.filter_genes(adata, min_cells = min_cell) # Filter genes based on the minimum number of cells expressing it\n",
    "    adata_prefilt = adata[adata.obs['doublet_scores'] < 0.24]\n",
    "    if max_genes > 0:\n",
    "        adata_prefilt = adata_prefilt[adata_prefilt.obs['n_genes_by_counts'] < max_genes]\n",
    "        \n",
    "    if not normed:\n",
    "        adata_filt = adata_prefilt[adata_prefilt.obs['pct_counts_mt'] < mt_pct] # Filtering based on percentage of mitochondrial genes\n",
    "    else:\n",
    "        adata_filt = adata_prefilt\n",
    "    return adata_filt    "
   ]
  },
  {
   "cell_type": "markdown",
   "id": "2d414b3e-b89b-4e24-a1b3-a0cdb6e9025a",
   "metadata": {},
   "source": [
    "UMAP processing"
   ]
  },
  {
   "cell_type": "code",
   "execution_count": 12,
   "id": "17505219-73cd-4a7d-92f8-a6f6c6ebd731",
   "metadata": {},
   "outputs": [],
   "source": [
    "@time_it\n",
    "def process_for_UMAP(data, leiden_res = 0.8, filtering = 1, min_ct = 2000, min_gen = 500, min_cell = 3, mt_pct = 60, max_genes = 0, normed = 0, d_score = 0.24): # DEFAULT QC VALUES\n",
    "    adata = data # This is to avoid writing into the file that's entered as an argument\n",
    "    if filtering:\n",
    "        adata_filt = filter_cells_for_UMAP(data = adata, min_ct = min_ct, min_gen = min_gen, min_cell = min_cell, max_genes = max_genes, mt_pct = mt_pct, d_score = d_score)\n",
    "    else:\n",
    "        adata_filt = adata       \n",
    "    sc.pp.normalize_total(adata_filt, target_sum=1e4) # Normalize\n",
    "    sc.pp.log1p(adata_filt) # Log scaling\n",
    "    sc.pp.highly_variable_genes(adata_filt, min_mean = 0.0125, max_mean = 3, min_disp = 0.5) # Compute differentially expressed genes within the sample\n",
    "    adata_filt.raw = adata_filt # Store the raw files in its own layer\n",
    "    adata_filt = adata_filt[:, adata_filt.var.highly_variable] # Filter on genes that are highly variable\n",
    "    sc.pp.regress_out(adata_filt, ['total_counts', 'pct_counts_mt']) # Regression. Not sure what that is.\n",
    "    sc.pp.scale(adata_filt, max_value = 10) # Scale the data\n",
    "    sc.tl.pca(adata_filt, svd_solver='arpack') # Compute PCA\n",
    "    sc.tl.tsne(adata_filt) # Calculate tsne\n",
    "    sc.pp.neighbors(adata_filt) # Calculate neighbors\n",
    "    sc.tl.leiden(adata_filt, resolution = leiden_res) # Calculate Leiden clusters\n",
    "    sc.tl.paga(adata_filt) # Calculate PAGA\n",
    "    sc.pl.paga(adata_filt, plot = 1)  # remove `plot=False` if you want to see the coarse-grained graph\n",
    "    sc.tl.umap(adata_filt, init_pos='paga') # Plot PAGA\n",
    "    sc.tl.umap(adata_filt) # Calculate UMAP\n",
    "    sc.pl.umap(adata_filt, color = ['leiden']) # Plot UMAP and show Leiden clusters\n",
    "    return adata_filt"
   ]
  },
  {
   "cell_type": "markdown",
   "id": "6b4a5581-2cd2-4df4-ba96-80b9b1d2c8b8",
   "metadata": {},
   "source": [
    "Function for recalculating the UMAP"
   ]
  },
  {
   "cell_type": "code",
   "execution_count": 13,
   "id": "01e04652-753d-4d6b-9564-219ad43b191a",
   "metadata": {},
   "outputs": [],
   "source": [
    "@time_it\n",
    "def recalc_UMAP(data_filt, leiden_res = 0.8):\n",
    "    adata_filt = data_filt\n",
    "    sc.tl.pca(adata_filt, svd_solver='arpack') # Compute PCA\n",
    "    sc.tl.tsne(adata_filt) # Calculate tsne\n",
    "    sc.pp.neighbors(adata_filt) # Calculate neighbors\n",
    "    sc.tl.leiden(adata_filt, resolution = leiden_res) # Calculate Leiden clusters)\n",
    "    sc.tl.paga(adata_filt) # Calculate PAGA\n",
    "    sc.pl.paga(adata_filt, plot = 1)  # remove `plot=False` if you want to see the coarse-grained graph\n",
    "    sc.tl.umap(adata_filt, init_pos='paga') # Calculate PAGA\n",
    "    sc.tl.umap(adata_filt) # Calculate UMAP\n",
    "    sc.pl.umap(adata_filt, color = ['leiden']) # Plot UMAP and show Leiden clusters\n",
    "    return adata_filt"
   ]
  },
  {
   "cell_type": "markdown",
   "id": "173804ea-8397-4e75-be58-ad773a91fd32",
   "metadata": {},
   "source": [
    "Isolate cells by gene expression"
   ]
  },
  {
   "cell_type": "code",
   "execution_count": 14,
   "id": "4f3f2f76-7512-4ec1-8410-e75c97d9b04c",
   "metadata": {},
   "outputs": [],
   "source": [
    "def isolate_cells_by_gene(data, gene, threshold):\n",
    "    # Now subset_ant_mt_filt contains only the highly variable genes\n",
    "    data_subset = data[data[:, gene].X > threshold]\n",
    "    return data_subset"
   ]
  },
  {
   "cell_type": "markdown",
   "id": "0fd5471e-cb25-4760-aa99-9835c04e4769",
   "metadata": {},
   "source": [
    "Filter clusters by differential gene expression"
   ]
  },
  {
   "cell_type": "code",
   "execution_count": 15,
   "id": "39bf4271-e7fa-4880-bdef-2b16149c06e8",
   "metadata": {},
   "outputs": [],
   "source": [
    "# This function filters the leiden clusters that are positivefor the gene you specify\n",
    "# It assumes that you already did the differential expression analysis. \n",
    "# diff is boolean specifying if differential expresion is already done\n",
    "# threshold is the threshold of expression\n",
    "def filter_clusters_by_gene(data, gene, threshold = 0.5):\n",
    "    # Load your AnnData object\n",
    "    adata = data\n",
    "    sc.tl.rank_genes_groups(adata, groupby='leiden')\n",
    "    # Extract the DataFrame for the differential expression results\n",
    "    de_results = pd.DataFrame(adata.uns['rank_genes_groups']['names'])\n",
    "    # Define a threshold for significant expression (adjust as needed)\n",
    "    expression_threshold = threshold\n",
    "    # Find clusters with significant gene expression\n",
    "    significant_clusters = []\n",
    "    for cluster in de_results.columns:\n",
    "        gene_presence = de_results[cluster].str.contains(gene)\n",
    "        gene_expression = adata.uns['rank_genes_groups']['logfoldchanges'][cluster][gene_presence]\n",
    "        if any(gene_expression >= expression_threshold):\n",
    "            significant_clusters.append(cluster)\n",
    "    # Subset the data to include only cells from the significant clusters\n",
    "    adata_subset = adata[adata.obs['leiden'].isin(significant_clusters)].copy()\n",
    "    return adata_subset"
   ]
  },
  {
   "cell_type": "markdown",
   "id": "c964b2fa-0fba-435b-97e2-17c4810ae403",
   "metadata": {},
   "source": [
    "Setting envuronmental and other variables"
   ]
  },
  {
   "cell_type": "code",
   "execution_count": 16,
   "id": "3e44da96-68bd-4cb5-ab51-b86b8a3d721c",
   "metadata": {},
   "outputs": [],
   "source": [
    "#%% Environment settings and misc variables\n",
    "sc.settings.verbosity = 3\n",
    "sc.set_figure_params(dpi = 600)\n",
    "# MIK67 = Ki67, TNSFRSF19 = TROY\n",
    "inspect_stem = ['LGR5', 'MKI67', 'TNFRSF19', 'BMI1', 'LRIG1', 'leiden', 'Localization']\n",
    "global_res = 0.5\n",
    "start_time = time.time()"
   ]
  },
  {
   "cell_type": "markdown",
   "id": "802f598c-45af-4811-96ba-b6260b1d545b",
   "metadata": {},
   "source": [
    "Reading files"
   ]
  },
  {
   "cell_type": "code",
   "execution_count": 17,
   "id": "793f4ba0-61d3-4a8e-abc3-c321f6a70745",
   "metadata": {},
   "outputs": [
    {
     "name": "stderr",
     "output_type": "stream",
     "text": [
      "C:\\anaconda_envs\\spyder\\Lib\\site-packages\\anndata\\__init__.py:51: FutureWarning: `anndata.read` is deprecated, use `anndata.read_h5ad` instead. `ad.read` will be removed in mid 2024.\n",
      "  warnings.warn(\n",
      "C:\\anaconda_envs\\spyder\\Lib\\site-packages\\anndata\\__init__.py:51: FutureWarning: `anndata.read` is deprecated, use `anndata.read_h5ad` instead. `ad.read` will be removed in mid 2024.\n",
      "  warnings.warn(\n",
      "C:\\anaconda_envs\\spyder\\Lib\\site-packages\\anndata\\__init__.py:51: FutureWarning: `anndata.read` is deprecated, use `anndata.read_h5ad` instead. `ad.read` will be removed in mid 2024.\n",
      "  warnings.warn(\n",
      "C:\\anaconda_envs\\spyder\\Lib\\site-packages\\anndata\\__init__.py:51: FutureWarning: `anndata.read` is deprecated, use `anndata.read_h5ad` instead. `ad.read` will be removed in mid 2024.\n",
      "  warnings.warn(\n"
     ]
    }
   ],
   "source": [
    "#%% Read the files\n",
    "col_org_unfilt = sc.read(\"C:/Work cache/Project sync/PhD/Research projects/AGR2 follow-up/Data cache/ssRNAseq/Aline/raw_data/agr2colon_organoids_unfilt.h5ad\")\n",
    "ant_unfilt = sc.read(\"C:/Work cache/Project sync/PhD/Research projects/AGR2 follow-up/Data cache/ssRNAseq/Aline/raw_data/agr2_unfilt_antrum.h5ad\")\n",
    "duo_unfilt = sc.read(\"C:/Work cache/Project sync/PhD/Research projects/AGR2 follow-up/Data cache/ssRNAseq/Aline/raw_data/agr2_unfilt_duodenum.h5ad\")\n",
    "col_unfilt = sc.read(\"C:/Work cache/Project sync/PhD/Research projects/AGR2 follow-up/Data cache/ssRNAseq/Aline/raw_data/agr2_unfilt_colon.h5ad\")"
   ]
  },
  {
   "cell_type": "markdown",
   "id": "0e94a6e2-ed80-48df-9190-3bdb8677a1b3",
   "metadata": {},
   "source": [
    "Combining files then adding the Localization column"
   ]
  },
  {
   "cell_type": "code",
   "execution_count": 18,
   "id": "6eadec46-4d3f-4f24-bb57-3f22e7607734",
   "metadata": {},
   "outputs": [
    {
     "name": "stderr",
     "output_type": "stream",
     "text": [
      "C:\\Users\\alsha\\AppData\\Local\\Temp\\ipykernel_9616\\2258478041.py:10: ImplicitModificationWarning: Trying to modify attribute `.obs` of view, initializing view as actual.\n",
      "  combined_control.obs['Localization'] = combined_control.obs['Site'].astype(str) + ' ' + combined_control.obs['Patient'].astype(str)\n",
      "C:\\Users\\alsha\\AppData\\Local\\Temp\\ipykernel_9616\\2258478041.py:12: ImplicitModificationWarning: Trying to modify attribute `.obs` of view, initializing view as actual.\n",
      "  combined_patient.obs['Localization'] = combined_patient.obs['Site'].astype(str) + ' ' + combined_patient.obs['Patient'].astype(str)\n"
     ]
    }
   ],
   "source": [
    "#%% Tagging and labeling\n",
    "combined = ad.concat([ant_unfilt, duo_unfilt, col_unfilt], join = 'outer')\n",
    "combined_unique = combined[~combined.obs['cellbarcode'].duplicated(keep = 'first')].copy()\n",
    "combined_nocol = ad.concat([ant_unfilt, duo_unfilt], join = 'outer')\n",
    "combined.obs['Localization'] = combined.obs['Site'].astype(str) + ' ' + combined.obs['Patient'].astype(str)\n",
    "combined_nocol = ad.concat([ant_unfilt, duo_unfilt], join = 'outer')\n",
    "combined_nocol.obs['Localization'] = combined_nocol.obs['Site'].astype(str) + ' ' + combined_nocol.obs['Patient'].astype(str)\n",
    "ant_unfilt.obs['Localization'] = ant_unfilt.obs['Site'].astype(str) + ' ' + ant_unfilt.obs['Patient'].astype(str)\n",
    "combined_control = combined_unique[combined_unique.obs['Patient'] == 'GI6253', :] # Using the unique object seems to work for filtering while usign the combined object directly doesn't. No idea why.\n",
    "combined_control.obs['Localization'] = combined_control.obs['Site'].astype(str) + ' ' + combined_control.obs['Patient'].astype(str)\n",
    "combined_patient = combined_unique[combined_unique.obs['Patient'] == 'P26', :] # Using the unique object seems to work for filtering while usign the combined object directly doesn't. No idea why.\n",
    "combined_patient.obs['Localization'] = combined_patient.obs['Site'].astype(str) + ' ' + combined_patient.obs['Patient'].astype(str)\n",
    "duo_unfilt.obs['Localization'] = duo_unfilt.obs['Site'].astype(str) + ' ' + duo_unfilt.obs['Patient'].astype(str)\n",
    "duo_pat_unfilt = duo_unfilt[duo_unfilt.obs['Patient'] == 'P26', :]\n",
    "duo_pat_unique = duo_pat_unfilt[~duo_pat_unfilt.obs['cellbarcode'].duplicated(keep = 'first')].copy()\n",
    "duo_cont_unfilt = duo_unfilt[duo_unfilt.obs['Patient'] == 'GI6253', :]\n",
    "duo_cont_unique = duo_cont_unfilt[~duo_cont_unfilt.obs['cellbarcode'].duplicated(keep = 'first')].copy()"
   ]
  },
  {
   "cell_type": "markdown",
   "id": "1961427d-4a20-4b36-8e16-402b00eb8456",
   "metadata": {},
   "source": [
    "First-processing for UMAP so as to prepare those files"
   ]
  },
  {
   "cell_type": "code",
   "execution_count": null,
   "id": "0194c014-8c76-47f3-a24e-71d84dbc055c",
   "metadata": {},
   "outputs": [],
   "source": [
    "#%% Initial processing the UMAP\n",
    "combined_proc = process_for_UMAP(combined, leiden_res = global_res)"
   ]
  },
  {
   "cell_type": "code",
   "execution_count": null,
   "id": "061bb771-e43f-401b-9902-458608cdbbcd",
   "metadata": {},
   "outputs": [],
   "source": [
    "combined_nocol_proc = process_for_UMAP(combined_nocol, leiden_res = global_res)"
   ]
  },
  {
   "cell_type": "code",
   "execution_count": null,
   "id": "61e0ad02-9587-472d-85c5-14a68a92ee8b",
   "metadata": {},
   "outputs": [],
   "source": [
    "antrum_proc = process_for_UMAP(ant_unfilt, leiden_res = global_res)"
   ]
  },
  {
   "cell_type": "code",
   "execution_count": null,
   "id": "f5092a6a-f094-4021-aaf1-77aff0c7055f",
   "metadata": {},
   "outputs": [],
   "source": [
    "combined_control_proc = process_for_UMAP(combined_control, leiden_res = global_res)"
   ]
  },
  {
   "cell_type": "code",
   "execution_count": null,
   "id": "8f01a465-1349-4025-8d27-daff287d0bb6",
   "metadata": {},
   "outputs": [],
   "source": [
    "combined_patient_proc = process_for_UMAP(combined_patient, leiden_res = global_res)"
   ]
  },
  {
   "cell_type": "code",
   "execution_count": null,
   "id": "c7f61392-3f0b-4af7-aede-d5914be62cbe",
   "metadata": {},
   "outputs": [],
   "source": [
    "duo_proc = process_for_UMAP(duo_unfilt, leiden_res = global_res)"
   ]
  },
  {
   "cell_type": "code",
   "execution_count": null,
   "id": "e09afae4-d281-4302-a038-62becd911657",
   "metadata": {},
   "outputs": [],
   "source": [
    "duo_pat_proc = process_for_UMAP(duo_pat_unique, leiden_res = global_res)"
   ]
  },
  {
   "cell_type": "code",
   "execution_count": null,
   "id": "e950b4ac-a156-4258-97e4-3f8934dd53b3",
   "metadata": {},
   "outputs": [],
   "source": [
    "duo_cont_proc = process_for_UMAP(duo_cont_unique, leiden_res = global_res)"
   ]
  },
  {
   "cell_type": "markdown",
   "id": "08229a0d-bcae-433e-a238-d56130ee1fa0",
   "metadata": {},
   "source": [
    "Writing the files for downstream use"
   ]
  },
  {
   "cell_type": "code",
   "execution_count": null,
   "id": "1fc3cad1-f981-4390-a15e-a5ed33ee6c20",
   "metadata": {},
   "outputs": [],
   "source": [
    "#%% Write files to save then load in the next script\n",
    "combined_proc.write_h5ad(filename = 'C:/Work cache/py_projs/scRNAseq_AGR2/project data cache/testing integration with separation and the stem cells part 2/saved files/combined_proc.h5ad')"
   ]
  },
  {
   "cell_type": "code",
   "execution_count": null,
   "id": "0f60e078-6830-4c56-87a4-dab84991667d",
   "metadata": {},
   "outputs": [],
   "source": [
    "combined_nocol_proc.write_h5ad(filename = 'C:/Work cache/py_projs/scRNAseq_AGR2/project data cache/testing integration with separation and the stem cells part 2/saved files/combined_nocol_proc.h5ad')"
   ]
  },
  {
   "cell_type": "code",
   "execution_count": null,
   "id": "aa96a928-5ca5-4c86-acad-29f1dee36a43",
   "metadata": {},
   "outputs": [],
   "source": [
    "antrum_proc.write_h5ad(filename = 'C:/Work cache/py_projs/scRNAseq_AGR2/project data cache/testing integration with separation and the stem cells part 2/saved files/antrum_proc.h5ad')"
   ]
  },
  {
   "cell_type": "code",
   "execution_count": null,
   "id": "eecf15f2-0473-4277-8552-eb36d51e3dea",
   "metadata": {},
   "outputs": [],
   "source": [
    "combined_control_proc.write_h5ad(filename = 'C:/Work cache/py_projs/scRNAseq_AGR2/project data cache/testing integration with separation and the stem cells part 2/saved files/combined_control_proc.h5ad')"
   ]
  },
  {
   "cell_type": "code",
   "execution_count": null,
   "id": "86766a00-766b-4472-b8db-0fce03b9ebec",
   "metadata": {},
   "outputs": [],
   "source": [
    "combined_patient_proc.write_h5ad(filename = 'C:/Work cache/py_projs/scRNAseq_AGR2/project data cache/testing integration with separation and the stem cells part 2/saved files/combined_patient_proc.h5ad')"
   ]
  },
  {
   "cell_type": "code",
   "execution_count": null,
   "id": "a927eb75-1a75-4e60-bb07-c0aa4d2ec03a",
   "metadata": {},
   "outputs": [],
   "source": [
    "duo_proc.write_h5ad(filename = 'C:/Work cache/py_projs/scRNAseq_AGR2/project data cache/testing integration with separation and the stem cells part 2/saved files/duodenum_combined.h5ad')"
   ]
  },
  {
   "cell_type": "code",
   "execution_count": null,
   "id": "d58280cc-2751-4c4d-9e9d-eff24157a68c",
   "metadata": {},
   "outputs": [],
   "source": [
    "duo_pat_proc.write_h5ad(filename = 'C:/Work cache/py_projs/scRNAseq_AGR2/project data cache/testing integration with separation and the stem cells part 2/saved files/duodenum_patient.h5ad')"
   ]
  },
  {
   "cell_type": "code",
   "execution_count": null,
   "id": "c71da771-897a-4dcb-abb8-32facbcdb7ea",
   "metadata": {},
   "outputs": [],
   "source": [
    "duo_cont_proc.write_h5ad(filename = 'C:/Work cache/py_projs/scRNAseq_AGR2/project data cache/testing integration with separation and the stem cells part 2/saved files/duodenum_control.h5ad')"
   ]
  }
 ],
 "metadata": {
  "kernelspec": {
   "display_name": "Python 3 (ipykernel)",
   "language": "python",
   "name": "python3"
  },
  "language_info": {
   "codemirror_mode": {
    "name": "ipython",
    "version": 3
   },
   "file_extension": ".py",
   "mimetype": "text/x-python",
   "name": "python",
   "nbconvert_exporter": "python",
   "pygments_lexer": "ipython3",
   "version": "3.11.8"
  }
 },
 "nbformat": 4,
 "nbformat_minor": 5
}
