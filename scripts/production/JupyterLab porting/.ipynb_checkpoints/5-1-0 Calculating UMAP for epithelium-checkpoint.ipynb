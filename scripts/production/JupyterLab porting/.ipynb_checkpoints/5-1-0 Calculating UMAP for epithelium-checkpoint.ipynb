{
 "cells": [
  {
   "cell_type": "markdown",
   "id": "0cbbc7fd-da3b-4a51-a34e-7c820ea46ec3",
   "metadata": {},
   "source": [
    "CRUCIAL NOTE!\n",
    "This script overwrites the object fed to it from the previous script to save on space. The information is preserved and the umaps are embedded, but it's important to know."
   ]
  },
  {
   "cell_type": "code",
   "execution_count": null,
   "id": "3f38995b-71b1-4215-b7df-d314287f9370",
   "metadata": {},
   "outputs": [],
   "source": [
    "import scanpy as sc\n",
    "import anndata as ad\n",
    "import matplotlib.pyplot as plt"
   ]
  },
  {
   "cell_type": "code",
   "execution_count": null,
   "id": "4885ad40-601a-420b-b3a5-b89b37de9f36",
   "metadata": {},
   "outputs": [],
   "source": [
    "sc.settings.verbosity = 3\n",
    "fig_res = 300\n",
    "sc.set_figure_params(dpi = fig_res, frameon = 0)"
   ]
  },
  {
   "cell_type": "code",
   "execution_count": null,
   "id": "0b424209-07a8-4ae2-9c22-5a52a41f455b",
   "metadata": {},
   "outputs": [],
   "source": [
    "path = '/home/achmed/cache/external_datasets/'"
   ]
  },
  {
   "cell_type": "code",
   "execution_count": null,
   "id": "5ae6e8ef-71d6-40e2-a597-ed663f302f5d",
   "metadata": {},
   "outputs": [],
   "source": [
    "epithelium = sc.read(path + 'external_epithelium_proc.h5ad')\n",
    "healthy_epithelium = sc.read(path + 'external_healthy_epithelium_proc.h5ad')\n",
    "IM_epithelium = sc.read(path + 'external_IM_epithelium_proc.h5ad')"
   ]
  },
  {
   "cell_type": "code",
   "execution_count": null,
   "id": "5489818b-548d-4ad5-ae1f-446071423b6c",
   "metadata": {},
   "outputs": [],
   "source": [
    "str(epithelium)"
   ]
  },
  {
   "cell_type": "markdown",
   "id": "4c6fc7e7-64ce-4638-b9e2-c6c944bf803f",
   "metadata": {},
   "source": [
    "# Calculating all the things"
   ]
  },
  {
   "cell_type": "code",
   "execution_count": null,
   "id": "6346607b-8c0a-4ff0-ad98-80b56fec074d",
   "metadata": {},
   "outputs": [],
   "source": [
    "epithelium.obs['leiden'] = epithelium.obs['cell_type'].copy()\n",
    "healthy_epithelium.obs['leiden'] = healthy_epithelium.obs['cell_type'].copy()\n",
    "IM_epithelium.obs['leiden'] = IM_epithelium.obs['cell_type'].copy()"
   ]
  },
  {
   "cell_type": "markdown",
   "id": "7a44d81f-d0fb-4478-a07e-d722cf34f0e2",
   "metadata": {},
   "source": [
    "## Integrated epithelium"
   ]
  },
  {
   "cell_type": "code",
   "execution_count": null,
   "id": "fcbdc220-3b60-45b9-992f-08e915c93119",
   "metadata": {
    "scrolled": true
   },
   "outputs": [],
   "source": [
    "# Running all the things with PAGA as the basis. It's different number of neighbors and minimum distances. All embedded in the object.\n",
    "n_components_list = [10, 15, 30, 50, 100]\n",
    "min_dist_list = [0.1, 0.3, 0.5]\n",
    "\n",
    "# UMAP embedding and storing in AnnData's obsm\n",
    "for n_components in n_components_list:\n",
    "    # Refresh a copy of the object\n",
    "    adata_copy = epithelium.copy()  \n",
    "    # Calculate neighbors\n",
    "    sc.pp.neighbors(adata_copy, n_neighbors = n_components, use_rep = 'X_pca_harmony')\n",
    "    # Calculate paga\n",
    "    sc.tl.paga(adata_copy)\n",
    "    sc.pl.paga(adata_copy)\n",
    "    \n",
    "    for min_dist in min_dist_list:\n",
    "        # Calculate UMAP\n",
    "        sc.tl.umap(adata_copy, n_components = n_components, min_dist = min_dist, init_pos = 'paga')\n",
    "        # Store UMAP embeddings in obsm with appropriate name\n",
    "        obsm_name = f'X_umap_neighbors_{n_components}_min_dist_{min_dist}md'\n",
    "        epithelium.obsm[obsm_name] = adata_copy.obsm['X_umap'].copy()  # Copy the computed UMAP embeddings\n"
   ]
  },
  {
   "cell_type": "code",
   "execution_count": null,
   "id": "be79f054-a3c3-4531-8128-037ab5060f3c",
   "metadata": {},
   "outputs": [],
   "source": [
    "# Plotting all UMAPs\n",
    "fig, axes = plt.subplots(len(n_components_list), 3, figsize=(15, len(n_components_list) * 4))\n",
    "\n",
    "for i, n_components in enumerate(n_components_list):\n",
    "    for j, min_dist in enumerate(min_dist_list):\n",
    "        # Plot UMAP\n",
    "        ax = axes[i, j]\n",
    "        sc.pl.embedding(epithelium, color='cell_type', ax=ax, show=False, basis=f'X_umap_neighbors_{n_components}_min_dist_{min_dist}md')\n",
    "        ax.set_title(f'X_umap_neighbors_{n_components}_min_dist_{min_dist}md')\n",
    "\n",
    "plt.tight_layout()\n",
    "plt.show()\n"
   ]
  },
  {
   "cell_type": "markdown",
   "id": "685fd844-ffba-4bbc-81df-7705b2401fc4",
   "metadata": {},
   "source": [
    "^^^^ I think the best one is 30 neighbors with 0.5 minimum distance"
   ]
  },
  {
   "cell_type": "code",
   "execution_count": null,
   "id": "d8c6a8c5-7a09-499b-b551-0a0abd8b1938",
   "metadata": {},
   "outputs": [],
   "source": [
    "sc.pl.tsne(epithelium, color = 'cell_type')"
   ]
  },
  {
   "cell_type": "code",
   "execution_count": null,
   "id": "02a4ee1e-cc14-4ddb-b942-80d1fcd67339",
   "metadata": {},
   "outputs": [],
   "source": [
    "epithelium.write_h5ad(path + 'external_epithelium_proc.h5ad')"
   ]
  },
  {
   "cell_type": "code",
   "execution_count": null,
   "id": "144f5507-00e3-4326-91cc-5f49a0bfd123",
   "metadata": {},
   "outputs": [],
   "source": [
    "sc.pl.embedding(epithelium, basis = 'X_umap_MinDist_0.3_N_Neighbors_15', color = ['STMN1', 'LGR5', 'OLFM4', 'MKI67', 'SMOC2', 'Detailed_Cell_Type'], use_raw = False)"
   ]
  },
  {
   "cell_type": "markdown",
   "id": "83439d55-9b7f-474b-ab7d-49e6cc94ddc4",
   "metadata": {},
   "source": [
    "## Healthy epithelium"
   ]
  },
  {
   "cell_type": "code",
   "execution_count": null,
   "id": "820ce7da-217a-4ae8-bc9f-79701de9f7de",
   "metadata": {
    "scrolled": true
   },
   "outputs": [],
   "source": [
    "# Running all the things with PAGA as the basis. It's different number of neighbors and minimum distances. All embedded in the object.\n",
    "n_components_list = [10, 15, 30, 50, 100]\n",
    "min_dist_list = [0.1, 0.3, 0.5]\n",
    "\n",
    "# UMAP embedding and storing in AnnData's obsm\n",
    "for n_components in n_components_list:\n",
    "    # Refresh a copy of the object\n",
    "    adata_copy = healthy_epithelium.copy()  \n",
    "    # Calculate neighbors\n",
    "    sc.pp.neighbors(adata_copy, n_neighbors = n_components, use_rep = 'X_pca_harmony')\n",
    "    # Calculate paga\n",
    "    sc.tl.paga(adata_copy)\n",
    "    sc.pl.paga(adata_copy)\n",
    "    \n",
    "    for min_dist in min_dist_list:\n",
    "        # Calculate UMAP\n",
    "        sc.tl.umap(adata_copy, n_components = n_components, min_dist = min_dist, init_pos = 'paga')\n",
    "        # Store UMAP embeddings in obsm with appropriate name\n",
    "        obsm_name = f'X_umap_neighbors_{n_components}_min_dist_{min_dist}md'\n",
    "        healthy_epithelium.obsm[obsm_name] = adata_copy.obsm['X_umap'].copy()  # Copy the computed UMAP embeddings\n"
   ]
  },
  {
   "cell_type": "code",
   "execution_count": null,
   "id": "e17e99ca-a65a-48d4-a9e0-41ad17b79a1d",
   "metadata": {},
   "outputs": [],
   "source": [
    "# Plotting all UMAPs\n",
    "fig, axes = plt.subplots(len(n_components_list), 3, figsize=(15, len(n_components_list) * 4))\n",
    "\n",
    "for i, n_components in enumerate(n_components_list):\n",
    "    for j, min_dist in enumerate(min_dist_list):\n",
    "        # Plot UMAP\n",
    "        ax = axes[i, j]\n",
    "        sc.pl.embedding(healthy_epithelium, color='cell_type', ax=ax, show=False, basis=f'X_umap_neighbors_{n_components}_min_dist_{min_dist}md')\n",
    "        ax.set_title(f'X_umap_neighbors_{n_components}_min_dist_{min_dist}md')\n",
    "\n",
    "plt.tight_layout()\n",
    "plt.show()\n"
   ]
  },
  {
   "cell_type": "markdown",
   "id": "325b0a6e-3fe2-44fa-abeb-a7aa43055dc1",
   "metadata": {},
   "source": [
    "^^^^ I think the best one is 30 neighbors with 0.5 minimum distance"
   ]
  },
  {
   "cell_type": "code",
   "execution_count": null,
   "id": "3f77eb0d-81df-447d-8201-03d90273996b",
   "metadata": {},
   "outputs": [],
   "source": [
    "sc.pl.tsne(healthy_epithelium, color = 'cell_type')"
   ]
  },
  {
   "cell_type": "code",
   "execution_count": null,
   "id": "fb24183f-7fb2-414d-a51e-154508c45225",
   "metadata": {},
   "outputs": [],
   "source": [
    "healthy_epithelium.write_h5ad(path + 'external_healthy_epithelium_proc.h5ad')"
   ]
  },
  {
   "cell_type": "code",
   "execution_count": null,
   "id": "b38376c5-ac34-469e-8bb7-fd75e9f25d86",
   "metadata": {},
   "outputs": [],
   "source": [
    "sc.pl.embedding(healthy_epithelium, basis = 'X_umap_MinDist_0.3_N_Neighbors_15', color = ['STMN1', 'LGR5', 'OLFM4', 'MKI67', 'SMOC2', 'Detailed_Cell_Type'], use_raw = False)"
   ]
  },
  {
   "cell_type": "markdown",
   "id": "184c8a5f-58b0-4c95-a813-b544607b75ea",
   "metadata": {},
   "source": [
    "## Now the IM epithelium"
   ]
  },
  {
   "cell_type": "code",
   "execution_count": null,
   "id": "c8b6a5e9-e770-48bd-942d-258e54dc4c36",
   "metadata": {
    "scrolled": true
   },
   "outputs": [],
   "source": [
    "# Running all the things with PAGA as the basis. It's different number of neighbors and minimum distances. All embedded in the object.\n",
    "n_components_list = [10, 15, 30, 50, 100]\n",
    "min_dist_list = [0.1, 0.3, 0.5]\n",
    "\n",
    "# UMAP embedding and storing in AnnData's obsm\n",
    "for n_components in n_components_list:\n",
    "    # Refresh a copy of the object\n",
    "    adata_copy = IM_epithelium.copy()  \n",
    "    # Calculate neighbors\n",
    "    sc.pp.neighbors(adata_copy, n_neighbors = n_components, use_rep = 'X_pca_harmony')\n",
    "    # Calculate paga\n",
    "    sc.tl.paga(adata_copy)\n",
    "    sc.pl.paga(adata_copy)\n",
    "    \n",
    "    for min_dist in min_dist_list:\n",
    "        # Calculate UMAP\n",
    "        sc.tl.umap(adata_copy, n_components = n_components, min_dist = min_dist, init_pos = 'paga')\n",
    "        # Store UMAP embeddings in obsm with appropriate name\n",
    "        obsm_name = f'X_umap_neighbors_{n_components}_min_dist_{min_dist}md'\n",
    "        IM_epithelium.obsm[obsm_name] = adata_copy.obsm['X_umap'].copy()  # Copy the computed UMAP embeddings\n"
   ]
  },
  {
   "cell_type": "code",
   "execution_count": null,
   "id": "f1f3d8e1-a547-4329-9bcb-4ba4735c5cb2",
   "metadata": {},
   "outputs": [],
   "source": [
    "# Plotting all UMAPs\n",
    "fig, axes = plt.subplots(len(n_components_list), 3, figsize=(15, len(n_components_list) * 4))\n",
    "\n",
    "for i, n_components in enumerate(n_components_list):\n",
    "    for j, min_dist in enumerate(min_dist_list):\n",
    "        # Plot UMAP\n",
    "        ax = axes[i, j]\n",
    "        sc.pl.embedding(IM_epithelium, color='cell_type', ax=ax, show=False, basis=f'X_umap_neighbors_{n_components}_min_dist_{min_dist}md')\n",
    "        ax.set_title(f'X_umap_neighbors_{n_components}_min_dist_{min_dist}md')\n",
    "\n",
    "plt.tight_layout()\n",
    "plt.show()\n"
   ]
  },
  {
   "cell_type": "markdown",
   "id": "715aa8e2-0273-49a0-a1bb-4cae2a1e0873",
   "metadata": {},
   "source": [
    "^^^^ I think the best one is 30 neighbors with 0.5 minimum distance"
   ]
  },
  {
   "cell_type": "code",
   "execution_count": null,
   "id": "822b3334-c5d1-47c4-beba-7546a5c30789",
   "metadata": {},
   "outputs": [],
   "source": [
    "sc.pl.tsne(IM_epithelium, color = 'cell_type')"
   ]
  },
  {
   "cell_type": "code",
   "execution_count": null,
   "id": "7bd31e1f-1851-4700-92a0-44e6d33492a4",
   "metadata": {},
   "outputs": [],
   "source": [
    "IM_epithelium.write_h5ad(path + 'external_IM_epithelium_proc.h5ad')"
   ]
  },
  {
   "cell_type": "code",
   "execution_count": null,
   "id": "069bb259-0541-43a0-9744-e3cd1b054893",
   "metadata": {},
   "outputs": [],
   "source": [
    "sc.pl.embedding(IM_epithelium, basis = 'X_umap_MinDist_0.3_N_Neighbors_15', color = ['STMN1', 'LGR5', 'OLFM4', 'MKI67', 'SMOC2', 'Detailed_Cell_Type'], use_raw = False)"
   ]
  }
 ],
 "metadata": {
  "kernelspec": {
   "display_name": "Python 3 (ipykernel)",
   "language": "python",
   "name": "python3"
  },
  "language_info": {
   "codemirror_mode": {
    "name": "ipython",
    "version": 3
   },
   "file_extension": ".py",
   "mimetype": "text/x-python",
   "name": "python",
   "nbconvert_exporter": "python",
   "pygments_lexer": "ipython3",
   "version": "3.12.3"
  }
 },
 "nbformat": 4,
 "nbformat_minor": 5
}
