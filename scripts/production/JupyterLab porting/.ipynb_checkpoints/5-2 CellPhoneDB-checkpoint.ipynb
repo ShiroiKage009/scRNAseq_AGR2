{
 "cells": [
  {
   "cell_type": "code",
   "execution_count": 1,
   "id": "50d56a67-b063-45eb-a35d-ef9f8b64d0a4",
   "metadata": {},
   "outputs": [],
   "source": [
    "import pandas as pd\n",
    "import anndata as ad"
   ]
  },
  {
   "cell_type": "code",
   "execution_count": 2,
   "id": "8f54b1fd-d555-4f1c-b721-d46ebd189d3f",
   "metadata": {},
   "outputs": [],
   "source": [
    "path = '/home/achmed/ssdmnt/cache/external_datasets'"
   ]
  },
  {
   "cell_type": "code",
   "execution_count": 3,
   "id": "03bdd2c0-d7d6-41df-a4b3-1322f9a6178f",
   "metadata": {},
   "outputs": [
    {
     "name": "stderr",
     "output_type": "stream",
     "text": [
      "/home/achmed/ssdmnt/python_venv/jupyter_venv/lib/python3.12/site-packages/anndata/__init__.py:55: FutureWarning: `anndata.read` is deprecated, use `anndata.read_h5ad` instead. `ad.read` will be removed in mid 2024.\n",
      "  warnings.warn(\n",
      "/home/achmed/ssdmnt/python_venv/jupyter_venv/lib/python3.12/site-packages/anndata/_core/anndata.py:1756: UserWarning: Variable names are not unique. To make them unique, call `.var_names_make_unique`.\n",
      "  utils.warn_names_duplicates(\"var\")\n"
     ]
    }
   ],
   "source": [
    "ext = ad.read(path + '/external_geneid_unproc.h5ad')"
   ]
  },
  {
   "cell_type": "code",
   "execution_count": 4,
   "id": "24bd0dcc-171c-4fb0-b5e8-7517cea9ac7a",
   "metadata": {},
   "outputs": [],
   "source": [
    "interest = [\n",
    "    'stem cell', \n",
    "    'parietal cell', \n",
    "    'enteroendocrine cell', \n",
    "    'intestine goblet cell', \n",
    "    'peptic cell', \n",
    "    'type G enteroendocrine cell', \n",
    "    'enterocyte', \n",
    "    'mucous neck cell',\n",
    "    'foveolar cell of stomach',\n",
    "    'epithelial cell of esophagus',\n",
    "    'P/D1 enteroendocrine cell',\n",
    "    'glandular cell of esophagus',\n",
    "    'fibroblast', \n",
    "    'mast cell', \n",
    "    'capillary endothelial cell',\n",
    "    'endothelial cell of artery',\n",
    "    'vein endothelial cell'\n",
    "          ]"
   ]
  },
  {
   "cell_type": "code",
   "execution_count": 5,
   "id": "7ca10e32-6840-4f8c-8cbb-a29a43a236ce",
   "metadata": {},
   "outputs": [
    {
     "name": "stderr",
     "output_type": "stream",
     "text": [
      "/home/achmed/ssdmnt/python_venv/jupyter_venv/lib/python3.12/site-packages/anndata/_core/anndata.py:1756: UserWarning: Variable names are not unique. To make them unique, call `.var_names_make_unique`.\n",
      "  utils.warn_names_duplicates(\"var\")\n"
     ]
    }
   ],
   "source": [
    "adata = ext[ext.obs['cell_type'].isin(interest)].copy()"
   ]
  },
  {
   "cell_type": "code",
   "execution_count": 6,
   "id": "d44882a8-495b-40ca-b16f-e2871859add4",
   "metadata": {},
   "outputs": [],
   "source": [
    "del interest\n",
    "del ext"
   ]
  },
  {
   "cell_type": "code",
   "execution_count": 7,
   "id": "0d2d4594-cac3-4692-9649-4b950791e564",
   "metadata": {},
   "outputs": [
    {
     "data": {
      "text/plain": [
       "\"AnnData object with n_obs × n_vars = 119744 × 33145\\n    obs: 'Sample', 'Tissue_in_paper', 'Batch', 'Sample_Barcode', 'sum', 'detected', 'Study', 'Patient_type', 'Patient_status', 'MT.prop', 'sizeFactor', 'Global_cluster_selected', 'Celltypes_global', 'Tissuetypes_global', 'Detailed_Cell_Type', 'cell_type_ontology_term_id', 'assay_ontology_term_id', 'tissue_ontology_term_id', 'disease_ontology_term_id', 'sex_ontology_term_id', 'organism_ontology_term_id', 'self_reported_ethnicity_ontology_term_id', 'donor_id', 'suspension_type', 'development_stage_ontology_term_id', 'is_primary_data', 'tissue_type', 'cell_type', 'assay', 'disease', 'organism', 'sex', 'tissue', 'self_reported_ethnicity', 'development_stage', 'observation_joinid'\\n    var: 'feature_is_filtered', 'feature_name', 'feature_reference', 'feature_biotype', 'feature_length'\\n    uns: 'X_name', 'citation', 'schema_reference', 'schema_version', 'tissue_colors', 'title'\\n    obsm: 'X_umap_MinDist_0.01_N_Neighbors_15', 'X_umap_MinDist_0.05_N_Neighbors_15', 'X_umap_MinDist_0.1_N_Neighbors_15', 'X_umap_MinDist_0.2_N_Neighbors_15', 'X_umap_MinDist_0.3_N_Neighbors_15', 'X_umap_MinDist_0.4_N_Neighbors_15', 'X_umap_MinDist_0.5_N_Neighbors_15'\""
      ]
     },
     "execution_count": 7,
     "metadata": {},
     "output_type": "execute_result"
    }
   ],
   "source": [
    "str(adata)"
   ]
  },
  {
   "cell_type": "code",
   "execution_count": 8,
   "id": "c2484de3-defd-4163-b67f-943fc60bd26b",
   "metadata": {},
   "outputs": [],
   "source": [
    "# Replace 'cell_type' with the actual column name in adata.obs if different\n",
    "metadata = pd.DataFrame({\n",
    "    'barcode_sample': adata.obs.index,  # Cell barcodes\n",
    "    'cell_type': adata.obs['cell_type']  # Cell type or cluster labels\n",
    "})\n",
    "\n",
    "# Save the metadata to a .tsv file\n",
    "meta_file_path = '/home/achmed/ssdmnt/cache/external_datasets/cellphonedb_out/method1/metadata.tsv'\n",
    "metadata.to_csv(meta_file_path, sep='\\t', index=False)\n"
   ]
  },
  {
   "cell_type": "code",
   "execution_count": 9,
   "id": "8bc722c9-e9f2-4f02-80f2-8a8377820a9e",
   "metadata": {},
   "outputs": [],
   "source": [
    "adata.write_h5ad('/home/achmed/ssdmnt/cache/external_datasets/epith_strom.h5ad')"
   ]
  }
 ],
 "metadata": {
  "kernelspec": {
   "display_name": "Python 3 (ipykernel)",
   "language": "python",
   "name": "python3"
  },
  "language_info": {
   "codemirror_mode": {
    "name": "ipython",
    "version": 3
   },
   "file_extension": ".py",
   "mimetype": "text/x-python",
   "name": "python",
   "nbconvert_exporter": "python",
   "pygments_lexer": "ipython3",
   "version": "3.12.3"
  }
 },
 "nbformat": 4,
 "nbformat_minor": 5
}
