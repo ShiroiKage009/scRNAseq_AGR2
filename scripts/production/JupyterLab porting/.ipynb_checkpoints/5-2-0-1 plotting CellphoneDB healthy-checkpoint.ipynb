{
 "cells": [
  {
   "cell_type": "code",
   "execution_count": 1,
   "id": "79e762ba-c5bf-45f9-9c54-2fe27d5dac9d",
   "metadata": {},
   "outputs": [],
   "source": [
    "import os\n",
    "import anndata as ad\n",
    "import pandas as pd\n",
    "import ktplotspy as kpy\n",
    "import matplotlib.pyplot as plt"
   ]
  },
  {
   "cell_type": "markdown",
   "id": "e18c9d16-2e6e-4281-977e-3b16349ecfc9",
   "metadata": {},
   "source": [
    "# Method 1"
   ]
  },
  {
   "cell_type": "markdown",
   "id": "10d4c9a5-125f-431e-bce8-2185650de69b",
   "metadata": {},
   "source": [
    "## Healthy"
   ]
  },
  {
   "cell_type": "code",
   "execution_count": 2,
   "id": "3e07d552-50d7-4de6-ad81-03127e1422ca",
   "metadata": {},
   "outputs": [
    {
     "name": "stderr",
     "output_type": "stream",
     "text": [
      "/home/achmed/ssdmnt/python_venv/jupyter_venv/lib/python3.12/site-packages/anndata/_core/anndata.py:1756: UserWarning: Variable names are not unique. To make them unique, call `.var_names_make_unique`.\n"
     ]
    }
   ],
   "source": [
    "# read in the files\n",
    "# 1) .h5ad file used for performing CellPhoneDB\n",
    "adata = ad.read_h5ad(\"/home/achmed/ssdmnt/cache/external_datasets/im_epith_strom.h5ad\")\n",
    "\n",
    "# 2) output from CellPhoneDB\n",
    "means = pd.read_csv(\"/home/achmed/ssdmnt/cache/external_datasets/cellphonedb_out/method1/healthy/simple_analysis_means_result_10_26_2024_135750.txt\", sep=\"\\t\")\n",
    "pvals = pd.read_csv(\"/home/achmed/ssdmnt/cache/external_datasets/cellphonedb_out/method1/healthy/simple_analysis_interaction_scores_10_26_2024_135750.txt\", sep=\"\\t\")\n",
    "decon = pd.read_csv(\"/home/achmed/ssdmnt/cache/external_datasets/cellphonedb_out/method1/healthy/simple_analysis_deconvoluted_10_26_2024_135750.txt\", sep=\"\\t\")"
   ]
  },
  {
   "cell_type": "code",
   "execution_count": null,
   "id": "8843c20b-6a46-40bd-a1dc-cc9b6a348097",
   "metadata": {},
   "outputs": [],
   "source": [
    "kpy.plot_cpdb_heatmap(pvals=pvals, title=\"Sum of significant interactions\")"
   ]
  },
  {
   "cell_type": "code",
   "execution_count": null,
   "id": "1e62ce8e-829d-431c-9c2f-836b98d56cba",
   "metadata": {
    "scrolled": true
   },
   "outputs": [],
   "source": [
    "kpy.plot_cpdb(\n",
    "    adata=adata,\n",
    "    cell_type1=\"stem cell\",\n",
    "    cell_type2=\".\",\n",
    "    means=means,\n",
    "    pvals=pvals,\n",
    "    celltype_key=\"cell_type\",\n",
    "    highlight_size=1,\n",
    "    figsize=(15, 25),\n",
    ")"
   ]
  },
  {
   "cell_type": "code",
   "execution_count": null,
   "id": "41952122-83d4-449e-bd33-b7e2bf99cfbf",
   "metadata": {
    "scrolled": true
   },
   "outputs": [],
   "source": [
    "kpy.plot_cpdb_chord(\n",
    "    adata=adata,\n",
    "    cell_type1=\"stem cell\",\n",
    "    cell_type2=\".\",\n",
    "    means=means,\n",
    "    pvals=pvals,\n",
    "    deconvoluted=decon,\n",
    "    celltype_key=\"cell_type\",\n",
    "    figsize=(15, 15),\n",
    "    labelposition=50,\n",
    ")"
   ]
  },
  {
   "cell_type": "markdown",
   "id": "c07eb022-4abb-47aa-a373-122c0fe1dbbd",
   "metadata": {},
   "source": [
    "## IM"
   ]
  },
  {
   "cell_type": "code",
   "execution_count": null,
   "id": "6afc2036-4d4b-4f1a-817f-6ab34d1bb29a",
   "metadata": {},
   "outputs": [],
   "source": [
    "# read in the files\n",
    "# 1) .h5ad file used for performing CellPhoneDB\n",
    "adata = ad.read_h5ad(\"/home/achmed/ssdmnt/cache/external_datasets/im_epith_strom.h5ad\")\n",
    "\n",
    "# 2) output from CellPhoneDB\n",
    "means = pd.read_csv(\"/home/achmed/ssdmnt/cache/external_datasets/cellphonedb_out/method1/statistical_analysis_means_10_26_2024_005618.txt\", sep=\"\\t\")\n",
    "pvals = pd.read_csv(\"/home/achmed/ssdmnt/cache/external_datasets/cellphonedb_out/method1/statistical_analysis_pvalues_10_26_2024_005618.txt\", sep=\"\\t\")\n",
    "decon = pd.read_csv(\"/home/achmed/ssdmnt/cache/external_datasets/cellphonedb_out/method1/statistical_analysis_deconvoluted_10_26_2024_005618.txt\", sep=\"\\t\")"
   ]
  },
  {
   "cell_type": "code",
   "execution_count": null,
   "id": "26c01211-3722-4e0b-87d6-fe95fb6a61c0",
   "metadata": {},
   "outputs": [],
   "source": [
    "kpy.plot_cpdb_heatmap(pvals=pvals, title=\"Sum of significant interactions\")"
   ]
  },
  {
   "cell_type": "code",
   "execution_count": null,
   "id": "6a0e9993-e0c9-4903-b505-2a68952a989d",
   "metadata": {
    "scrolled": true
   },
   "outputs": [],
   "source": [
    "kpy.plot_cpdb(\n",
    "    adata=adata,\n",
    "    cell_type1=\"stem cell\",\n",
    "    cell_type2=\".\",\n",
    "    means=means,\n",
    "    pvals=pvals,\n",
    "    celltype_key=\"cell_type\",\n",
    "    highlight_size=1,\n",
    "    figsize=(15, 25),\n",
    ")"
   ]
  },
  {
   "cell_type": "code",
   "execution_count": null,
   "id": "e7610227-057a-4a1b-bc89-7684e95e77bc",
   "metadata": {
    "scrolled": true
   },
   "outputs": [],
   "source": [
    "kpy.plot_cpdb_chord(\n",
    "    adata=adata,\n",
    "    cell_type1=\"stem cell\",\n",
    "    cell_type2=\".\",\n",
    "    means=means,\n",
    "    pvals=pvals,\n",
    "    deconvoluted=decon,\n",
    "    celltype_key=\"cell_type\",\n",
    "    figsize=(15, 15),\n",
    "    labelposition=50,\n",
    ")"
   ]
  },
  {
   "cell_type": "markdown",
   "id": "46d6da4a-63d0-4b61-aa9e-ef82aa81a0e5",
   "metadata": {},
   "source": [
    "# Statistical method"
   ]
  },
  {
   "cell_type": "markdown",
   "id": "9c796e4f-186f-4350-946d-c251bbd3b1a5",
   "metadata": {},
   "source": [
    "## Healthy"
   ]
  },
  {
   "cell_type": "markdown",
   "id": "fffbc062-ef29-4744-8102-26f3c0bf0ad9",
   "metadata": {},
   "source": [
    "## IM"
   ]
  }
 ],
 "metadata": {
  "kernelspec": {
   "display_name": "Python 3 (ipykernel)",
   "language": "python",
   "name": "python3"
  },
  "language_info": {
   "codemirror_mode": {
    "name": "ipython",
    "version": 3
   },
   "file_extension": ".py",
   "mimetype": "text/x-python",
   "name": "python",
   "nbconvert_exporter": "python",
   "pygments_lexer": "ipython3",
   "version": "3.12.3"
  }
 },
 "nbformat": 4,
 "nbformat_minor": 5
}
