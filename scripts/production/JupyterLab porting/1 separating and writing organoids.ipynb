{
 "cells": [
  {
   "cell_type": "markdown",
   "id": "c43c6f60-559c-49d6-823c-597788764def",
   "metadata": {},
   "source": [
    "Importing basic libraries"
   ]
  },
  {
   "cell_type": "code",
   "execution_count": 1,
   "id": "73f3f1ec-5ff4-4fee-a692-c843182fe959",
   "metadata": {},
   "outputs": [],
   "source": [
    "import scanpy as sc"
   ]
  },
  {
   "cell_type": "markdown",
   "id": "66736961-74c5-4606-8c22-695c1ec08a35",
   "metadata": {},
   "source": [
    "Setting up the environment"
   ]
  },
  {
   "cell_type": "code",
   "execution_count": 2,
   "id": "d52fc58b-8e58-410b-828c-197ee9a7ae5e",
   "metadata": {},
   "outputs": [],
   "source": [
    "path = 'C:/Work cache/py_projs/scRNAseq_AGR2/project data cache/testing integration with separation and the stem cells part 2/saved files/cellrank_test/'"
   ]
  },
  {
   "cell_type": "code",
   "execution_count": 3,
   "id": "a8d1853b-b443-466b-b556-e42fc8422699",
   "metadata": {},
   "outputs": [],
   "source": [
    "orgs = sc.read_h5ad('C:/Work cache/Project sync/PhD/Research projects/AGR2 follow-up/Data cache/ssRNAseq/Aline/Data annotation/Antrum_organoids/ant_organoid_annotated.h5ad')"
   ]
  },
  {
   "cell_type": "raw",
   "id": "e84b95b2-cfc8-4665-9f7d-fcd38cf42f6c",
   "metadata": {},
   "source": [
    "str(orgs)"
   ]
  },
  {
   "cell_type": "markdown",
   "id": "8b8b00ac-7129-47c9-b7ce-81e72a7191d4",
   "metadata": {},
   "source": [
    "orgs.obs['sample_id']"
   ]
  },
  {
   "cell_type": "code",
   "execution_count": 5,
   "id": "bb38a655-6fcb-4684-84cf-865ea3f3b424",
   "metadata": {},
   "outputs": [],
   "source": [
    "pat_org = orgs[orgs.obs['sample_id'] == 'Ant_organoid_AGR2']"
   ]
  },
  {
   "cell_type": "code",
   "execution_count": 6,
   "id": "2cba525c-24fc-4ac3-991a-f8885356e7d8",
   "metadata": {},
   "outputs": [],
   "source": [
    "cont_org = orgs[orgs.obs['sample_id'] == 'Ant_organoid_Ctrl']"
   ]
  },
  {
   "cell_type": "code",
   "execution_count": 7,
   "id": "81a4e024-a122-4af6-871b-f7a68633132c",
   "metadata": {},
   "outputs": [],
   "source": [
    "cont_org.write_h5ad(path + 'ant_cont_organoid.h5ad')"
   ]
  },
  {
   "cell_type": "code",
   "execution_count": 8,
   "id": "79320acd-470e-4e16-8173-dbdf29965c44",
   "metadata": {},
   "outputs": [],
   "source": [
    "pat_org.write_h5ad(path + 'ant_agr2_organoid.h5ad')"
   ]
  }
 ],
 "metadata": {
  "kernelspec": {
   "display_name": "Python 3 (ipykernel)",
   "language": "python",
   "name": "python3"
  },
  "language_info": {
   "codemirror_mode": {
    "name": "ipython",
    "version": 3
   },
   "file_extension": ".py",
   "mimetype": "text/x-python",
   "name": "python",
   "nbconvert_exporter": "python",
   "pygments_lexer": "ipython3",
   "version": "3.11.8"
  }
 },
 "nbformat": 4,
 "nbformat_minor": 5
}
