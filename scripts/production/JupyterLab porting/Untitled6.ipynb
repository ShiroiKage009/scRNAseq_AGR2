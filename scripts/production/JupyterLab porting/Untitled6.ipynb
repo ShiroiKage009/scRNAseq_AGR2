{
 "cells": [
  {
   "cell_type": "code",
   "execution_count": 1,
   "id": "5460a93f-5a0b-4d59-b703-b26d009f2be9",
   "metadata": {},
   "outputs": [],
   "source": [
    "# Import packages\n",
    "import scanpy as sc\n",
    "import anndata as ad\n",
    "import pandas as pd\n",
    "import time"
   ]
  },
  {
   "cell_type": "markdown",
   "id": "4061fc84-20c5-4fa7-90af-a1e732ae6e1e",
   "metadata": {},
   "source": [
    "Function definitions"
   ]
  },
  {
   "cell_type": "markdown",
   "id": "70688f9f-0c01-4cf1-b133-b4b03448bfd6",
   "metadata": {},
   "source": [
    "Time wrapper"
   ]
  },
  {
   "cell_type": "code",
   "execution_count": 2,
   "id": "256d0ea8-8453-4df9-b2ed-62f9741a249c",
   "metadata": {},
   "outputs": [],
   "source": [
    "# Time wrapper\n",
    "def time_it(func):\n",
    "    def wrapper(*args, **kwargs):\n",
    "        start_time = time.time()\n",
    "        result = func(*args, **kwargs)\n",
    "        end_time = time.time()\n",
    "        print(f\"{func.__name__} executed in {end_time - start_time} seconds\")\n",
    "        return result\n",
    "    return wrapper"
   ]
  },
  {
   "cell_type": "markdown",
   "id": "b3214508-9ad0-412c-aa78-a5a4905e246c",
   "metadata": {},
   "source": [
    "Filtering cells by gene for UMAP"
   ]
  },
  {
   "cell_type": "code",
   "execution_count": 3,
   "id": "c5a60df8-782d-4bf1-b52e-4cc098b9ab8b",
   "metadata": {},
   "outputs": [],
   "source": [
    "# DEFAULT QC VALUES. Calibrated to Sarah Teichmann's paper \"Cells of the human intestinal tract mapped across space and time.\" These QC values will apply by default for this entire script.\n",
    "def filter_cells_for_UMAP(data, min_ct = 2000, min_gen = 500, min_cell = 3, mt_pct = 60, max_genes = 0, normed = 0, d_score = 0.24): \n",
    "    adata = data # This is to avoid writing into the file that's entered as an argument\n",
    "    sc.pp.filter_cells(adata, min_counts = min_ct) # Filter cells based on number of RNA reads\n",
    "    sc.pp.filter_cells(adata, min_genes= min_gen) # Filter cells based on the number of recognized genes\n",
    "    sc.pp.filter_genes(adata, min_cells = min_cell) # Filter genes based on the minimum number of cells expressing it\n",
    "    adata_prefilt = adata[adata.obs['doublet_scores'] < 0.24]\n",
    "    if max_genes > 0:\n",
    "        adata_prefilt = adata_prefilt[adata_prefilt.obs['n_genes_by_counts'] < max_genes]\n",
    "        \n",
    "    if not normed:\n",
    "        adata_filt = adata_prefilt[adata_prefilt.obs['pct_counts_mt'] < mt_pct] # Filtering based on percentage of mitochondrial genes\n",
    "    else:\n",
    "        adata_filt = adata_prefilt\n",
    "    return adata_filt    "
   ]
  },
  {
   "cell_type": "markdown",
   "id": "f5f745e0-4664-4970-8a8c-32e28dad2b5c",
   "metadata": {},
   "source": [
    "UMAP processing"
   ]
  },
  {
   "cell_type": "code",
   "execution_count": 4,
   "id": "e099d9e3-bd2b-4847-9a90-be1a9f89855b",
   "metadata": {},
   "outputs": [],
   "source": [
    "@time_it\n",
    "def process_for_UMAP(data, leiden_res = 0.8, filtering = 1, min_ct = 2000, min_gen = 500, min_cell = 3, mt_pct = 60, max_genes = 0, normed = 0, d_score = 0.24): # DEFAULT QC VALUES\n",
    "    adata = data # This is to avoid writing into the file that's entered as an argument\n",
    "    if filtering:\n",
    "        adata_filt = filter_cells_for_UMAP(data = adata, min_ct = min_ct, min_gen = min_gen, min_cell = min_cell, max_genes = max_genes, mt_pct = mt_pct, d_score = d_score)\n",
    "    else:\n",
    "        adata_filt = adata       \n",
    "    sc.pp.normalize_total(adata_filt, target_sum=1e4) # Normalize\n",
    "    sc.pp.log1p(adata_filt) # Log scaling\n",
    "    sc.pp.highly_variable_genes(adata_filt, min_mean = 0.0125, max_mean = 3, min_disp = 0.5) # Compute differentially expressed genes within the sample\n",
    "    adata_filt.raw = adata_filt # Store the raw files in its own layer\n",
    "    #adata_filt = adata_filt[:, adata_filt.var.highly_variable] # Filter on genes that are highly variable\n",
    "    sc.pp.regress_out(adata_filt, ['total_counts', 'pct_counts_mt']) # Regression. Not sure what that is.\n",
    "    sc.pp.scale(adata_filt, max_value = 10) # Scale the data\n",
    "    sc.tl.pca(adata_filt, svd_solver='arpack') # Compute PCA\n",
    "    sc.tl.tsne(adata_filt) # Calculate tsne\n",
    "    sc.pp.neighbors(adata_filt) # Calculate neighbors\n",
    "    sc.tl.leiden(adata_filt, resolution = leiden_res) # Calculate Leiden clusters\n",
    "    sc.tl.paga(adata_filt) # Calculate PAGA\n",
    "    sc.pl.paga(adata_filt, plot = 1)  # remove `plot=False` if you want to see the coarse-grained graph\n",
    "    sc.tl.umap(adata_filt, init_pos='paga') # Plot PAGA\n",
    "    sc.tl.umap(adata_filt) # Calculate UMAP\n",
    "    sc.pl.umap(adata_filt, color = ['leiden']) # Plot UMAP and show Leiden clusters\n",
    "    return adata_filt"
   ]
  },
  {
   "cell_type": "markdown",
   "id": "00902adc-8787-4291-95f9-23ed70a86e18",
   "metadata": {},
   "source": [
    "Function for recalculating the UMAP"
   ]
  },
  {
   "cell_type": "code",
   "execution_count": 5,
   "id": "3630d99a-3028-47ed-91a9-f187f10d9cc1",
   "metadata": {},
   "outputs": [],
   "source": [
    "@time_it\n",
    "def recalc_UMAP(data_filt, leiden_res = 0.8):\n",
    "    adata_filt = data_filt\n",
    "    sc.tl.pca(adata_filt, svd_solver='arpack') # Compute PCA\n",
    "    sc.tl.tsne(adata_filt) # Calculate tsne\n",
    "    sc.pp.neighbors(adata_filt) # Calculate neighbors\n",
    "    sc.tl.leiden(adata_filt, resolution = leiden_res) # Calculate Leiden clusters)\n",
    "    sc.tl.paga(adata_filt) # Calculate PAGA\n",
    "    sc.pl.paga(adata_filt, plot = 1)  # remove `plot=False` if you want to see the coarse-grained graph\n",
    "    sc.tl.umap(adata_filt, init_pos='paga') # Calculate PAGA\n",
    "    sc.tl.umap(adata_filt) # Calculate UMAP\n",
    "    sc.pl.umap(adata_filt, color = ['leiden']) # Plot UMAP and show Leiden clusters\n",
    "    return adata_filt"
   ]
  },
  {
   "cell_type": "markdown",
   "id": "50303079-b79d-4629-9721-5f28c8cfacb7",
   "metadata": {},
   "source": [
    "Isolate cells by gene expression"
   ]
  },
  {
   "cell_type": "code",
   "execution_count": 6,
   "id": "59c82fd8-32bd-42c8-81e8-ce1742846370",
   "metadata": {},
   "outputs": [],
   "source": [
    "def isolate_cells_by_gene(data, gene, threshold):\n",
    "    # Now subset_ant_mt_filt contains only the highly variable genes\n",
    "    data_subset = data[data[:, gene].X > threshold]\n",
    "    return data_subset"
   ]
  },
  {
   "cell_type": "markdown",
   "id": "6f31a5a2-6287-4014-8d22-078783ae643e",
   "metadata": {},
   "source": [
    "Filter clusters by differential gene expression"
   ]
  },
  {
   "cell_type": "code",
   "execution_count": 7,
   "id": "65a2f5f3-89f3-4b24-9c1d-3c89370c6c47",
   "metadata": {},
   "outputs": [],
   "source": [
    "# This function filters the leiden clusters that are positivefor the gene you specify\n",
    "# It assumes that you already did the differential expression analysis. \n",
    "# diff is boolean specifying if differential expresion is already done\n",
    "# threshold is the threshold of expression\n",
    "def filter_clusters_by_gene(data, gene, threshold = 0.5):\n",
    "    # Load your AnnData object\n",
    "    adata = data\n",
    "    sc.tl.rank_genes_groups(adata, groupby='leiden')\n",
    "    # Extract the DataFrame for the differential expression results\n",
    "    de_results = pd.DataFrame(adata.uns['rank_genes_groups']['names'])\n",
    "    # Define a threshold for significant expression (adjust as needed)\n",
    "    expression_threshold = threshold\n",
    "    # Find clusters with significant gene expression\n",
    "    significant_clusters = []\n",
    "    for cluster in de_results.columns:\n",
    "        gene_presence = de_results[cluster].str.contains(gene)\n",
    "        gene_expression = adata.uns['rank_genes_groups']['logfoldchanges'][cluster][gene_presence]\n",
    "        if any(gene_expression >= expression_threshold):\n",
    "            significant_clusters.append(cluster)\n",
    "    # Subset the data to include only cells from the significant clusters\n",
    "    adata_subset = adata[adata.obs['leiden'].isin(significant_clusters)].copy()\n",
    "    return adata_subset"
   ]
  },
  {
   "cell_type": "markdown",
   "id": "40ca7807-100e-432b-9642-e8fb0783dade",
   "metadata": {},
   "source": [
    "Setting envuronmental and other variables"
   ]
  },
  {
   "cell_type": "code",
   "execution_count": 8,
   "id": "f28b7484-9177-4bfa-ba85-16d4a4f14cc3",
   "metadata": {},
   "outputs": [],
   "source": [
    "#%% Environment settings and misc variables\n",
    "sc.settings.verbosity = 3\n",
    "sc.set_figure_params(dpi = 600)\n",
    "# MIK67 = Ki67, TNSFRSF19 = TROY\n",
    "inspect_stem = ['LGR5', 'MKI67', 'TNFRSF19', 'BMI1', 'LRIG1', 'leiden', 'Localization']\n",
    "global_res = 0.5\n",
    "start_time = time.time()"
   ]
  },
  {
   "cell_type": "markdown",
   "id": "58a97c2e-c0d4-4b56-bd41-5ddcdb2ff6fb",
   "metadata": {},
   "source": [
    "Reading files"
   ]
  },
  {
   "cell_type": "code",
   "execution_count": 15,
   "id": "465ea812-f8c5-4420-98fb-dcf265ed1e51",
   "metadata": {},
   "outputs": [],
   "source": [
    "#%% Read the files\n",
    "path = 'S:/data cache/code_in_out/external_datasets/GSE134520/GSE134520_RAW/txt/'"
   ]
  },
  {
   "cell_type": "code",
   "execution_count": 16,
   "id": "76bc0b61-5a5d-46e2-a3cf-72317609d246",
   "metadata": {},
   "outputs": [],
   "source": [
    "adata = sc.read_text(path + 'dt.IMW2.txt')"
   ]
  },
  {
   "cell_type": "code",
   "execution_count": 42,
   "id": "84d2c102-4a1d-428e-9fba-8c13e0ad0029",
   "metadata": {},
   "outputs": [
    {
     "data": {
      "text/plain": [
       "AnnData object with n_obs × n_vars = 2384 × 22910"
      ]
     },
     "execution_count": 42,
     "metadata": {},
     "output_type": "execute_result"
    }
   ],
   "source": [
    "adata.transpose()"
   ]
  },
  {
   "cell_type": "code",
   "execution_count": 44,
   "id": "ad305ccb-8522-49a0-8e0c-2a7c55370153",
   "metadata": {},
   "outputs": [
    {
     "data": {
      "text/plain": [
       "Index(['RP11-34P13.7', 'AL627309.1', 'AP006222.2', 'RP4-669L17.10',\n",
       "       'RP5-857K21.4', 'RP11-206L10.3', 'RP11-206L10.5', 'RP11-206L10.4',\n",
       "       'RP11-206L10.2', 'RP11-206L10.9',\n",
       "       ...\n",
       "       'AC109135.1', 'AC145212.1', 'AC011043.1', 'AL592183.1', 'AC011841.1',\n",
       "       'AL354822.1', 'KIR2DL2', 'PNRC2.1', 'SRSF10.1', 'CU459201.1'],\n",
       "      dtype='object', length=22910)"
      ]
     },
     "execution_count": 44,
     "metadata": {},
     "output_type": "execute_result"
    }
   ],
   "source": [
    "adata.obs_names"
   ]
  },
  {
   "cell_type": "code",
   "execution_count": null,
   "id": "c57b7bf0-bf88-4732-a972-5f3e3a5d430d",
   "metadata": {},
   "outputs": [],
   "source": []
  }
 ],
 "metadata": {
  "kernelspec": {
   "display_name": "Python 3 (ipykernel)",
   "language": "python",
   "name": "python3"
  },
  "language_info": {
   "codemirror_mode": {
    "name": "ipython",
    "version": 3
   },
   "file_extension": ".py",
   "mimetype": "text/x-python",
   "name": "python",
   "nbconvert_exporter": "python",
   "pygments_lexer": "ipython3",
   "version": "3.12.1"
  }
 },
 "nbformat": 4,
 "nbformat_minor": 5
}
