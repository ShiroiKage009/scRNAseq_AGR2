{
 "cells": [
  {
   "cell_type": "code",
   "execution_count": 1,
   "id": "50d56a67-b063-45eb-a35d-ef9f8b64d0a4",
   "metadata": {},
   "outputs": [],
   "source": [
    "import pandas as pd\n",
    "import anndata as ad"
   ]
  },
  {
   "cell_type": "code",
   "execution_count": 2,
   "id": "8f54b1fd-d555-4f1c-b721-d46ebd189d3f",
   "metadata": {},
   "outputs": [],
   "source": [
    "path = '/home/achmed/ssdmnt/cache/external_datasets'"
   ]
  },
  {
   "cell_type": "code",
   "execution_count": 3,
   "id": "03bdd2c0-d7d6-41df-a4b3-1322f9a6178f",
   "metadata": {},
   "outputs": [
    {
     "name": "stderr",
     "output_type": "stream",
     "text": [
      "/home/achmed/ssdmnt/python_venv/jupyter_venv/lib/python3.12/site-packages/anndata/__init__.py:55: FutureWarning: `anndata.read` is deprecated, use `anndata.read_h5ad` instead. `ad.read` will be removed in mid 2024.\n",
      "  warnings.warn(\n",
      "/home/achmed/ssdmnt/python_venv/jupyter_venv/lib/python3.12/site-packages/anndata/_core/anndata.py:1756: UserWarning: Variable names are not unique. To make them unique, call `.var_names_make_unique`.\n",
      "  utils.warn_names_duplicates(\"var\")\n"
     ]
    }
   ],
   "source": [
    "ext = ad.read(path + '/external_geneid_unproc.h5ad')"
   ]
  },
  {
   "cell_type": "code",
   "execution_count": 4,
   "id": "24bd0dcc-171c-4fb0-b5e8-7517cea9ac7a",
   "metadata": {},
   "outputs": [],
   "source": [
    "interest = [\n",
    "    'stem cell', \n",
    "    'parietal cell', \n",
    "    'enteroendocrine cell', \n",
    "    'intestine goblet cell', \n",
    "    'peptic cell', \n",
    "    'type G enteroendocrine cell', \n",
    "    'enterocyte', \n",
    "    'mucous neck cell',\n",
    "    'foveolar cell of stomach',\n",
    "    'epithelial cell of esophagus',\n",
    "    'P/D1 enteroendocrine cell',\n",
    "    'glandular cell of esophagus',\n",
    "    'fibroblast', \n",
    "          ]"
   ]
  },
  {
   "cell_type": "markdown",
   "id": "494ea834-8ebb-4153-862a-424dffacf3d8",
   "metadata": {},
   "source": [
    "# IM"
   ]
  },
  {
   "cell_type": "code",
   "execution_count": 5,
   "id": "7ca10e32-6840-4f8c-8cbb-a29a43a236ce",
   "metadata": {},
   "outputs": [
    {
     "name": "stderr",
     "output_type": "stream",
     "text": [
      "/home/achmed/ssdmnt/python_venv/jupyter_venv/lib/python3.12/site-packages/anndata/_core/anndata.py:1756: UserWarning: Variable names are not unique. To make them unique, call `.var_names_make_unique`.\n",
      "  utils.warn_names_duplicates(\"var\")\n"
     ]
    }
   ],
   "source": [
    "adata = ext[ext.obs['cell_type'].isin(interest)].copy()"
   ]
  },
  {
   "cell_type": "code",
   "execution_count": 6,
   "id": "4d8a5538-9d3b-4da9-bbba-269d2f11bef9",
   "metadata": {
    "editable": true,
    "slideshow": {
     "slide_type": ""
    },
    "tags": []
   },
   "outputs": [],
   "source": [
    "adata = adata[adata.obs['tissue'].isin(['body of stomach', 'cardia of stomach'])]"
   ]
  },
  {
   "cell_type": "code",
   "execution_count": 7,
   "id": "c8bc55ec-1593-4fb1-9587-99d76342f651",
   "metadata": {
    "editable": true,
    "slideshow": {
     "slide_type": ""
    },
    "tags": []
   },
   "outputs": [],
   "source": [
    "adata = adata[adata.obs['Patient_status'] != 'IM']"
   ]
  },
  {
   "cell_type": "code",
   "execution_count": 8,
   "id": "0d2d4594-cac3-4692-9649-4b950791e564",
   "metadata": {},
   "outputs": [
    {
     "data": {
      "text/plain": [
       "\"View of AnnData object with n_obs × n_vars = 9346 × 33145\\n    obs: 'Sample', 'Tissue_in_paper', 'Batch', 'Sample_Barcode', 'sum', 'detected', 'Study', 'Patient_type', 'Patient_status', 'MT.prop', 'sizeFactor', 'Global_cluster_selected', 'Celltypes_global', 'Tissuetypes_global', 'Detailed_Cell_Type', 'cell_type_ontology_term_id', 'assay_ontology_term_id', 'tissue_ontology_term_id', 'disease_ontology_term_id', 'sex_ontology_term_id', 'organism_ontology_term_id', 'self_reported_ethnicity_ontology_term_id', 'donor_id', 'suspension_type', 'development_stage_ontology_term_id', 'is_primary_data', 'tissue_type', 'cell_type', 'assay', 'disease', 'organism', 'sex', 'tissue', 'self_reported_ethnicity', 'development_stage', 'observation_joinid'\\n    var: 'feature_is_filtered', 'feature_name', 'feature_reference', 'feature_biotype', 'feature_length'\\n    uns: 'X_name', 'citation', 'schema_reference', 'schema_version', 'tissue_colors', 'title'\\n    obsm: 'X_umap_MinDist_0.01_N_Neighbors_15', 'X_umap_MinDist_0.05_N_Neighbors_15', 'X_umap_MinDist_0.1_N_Neighbors_15', 'X_umap_MinDist_0.2_N_Neighbors_15', 'X_umap_MinDist_0.3_N_Neighbors_15', 'X_umap_MinDist_0.4_N_Neighbors_15', 'X_umap_MinDist_0.5_N_Neighbors_15'\""
      ]
     },
     "execution_count": 8,
     "metadata": {},
     "output_type": "execute_result"
    }
   ],
   "source": [
    "str(adata)"
   ]
  },
  {
   "cell_type": "code",
   "execution_count": 9,
   "id": "c2484de3-defd-4163-b67f-943fc60bd26b",
   "metadata": {},
   "outputs": [],
   "source": [
    "# Replace 'cell_type' with the actual column name in adata.obs if different\n",
    "metadata = pd.DataFrame({\n",
    "    'barcode_sample': adata.obs.index,  # Cell barcodes\n",
    "    'cell_type': adata.obs['cell_type']  # Cell type or cluster labels\n",
    "})\n",
    "\n",
    "# Save the metadata to a .tsv file\n",
    "meta_file_path = '/home/achmed/ssdmnt/cache/external_datasets/cellphonedb_out/prep/im/im_metadata.tsv'\n",
    "metadata.to_csv(meta_file_path, sep='\\t', index=False)\n"
   ]
  },
  {
   "cell_type": "code",
   "execution_count": 10,
   "id": "8bc722c9-e9f2-4f02-80f2-8a8377820a9e",
   "metadata": {},
   "outputs": [],
   "source": [
    "adata.write_h5ad('/home/achmed/ssdmnt/cache/external_datasets/healthy_epith_strom.h5ad')"
   ]
  },
  {
   "cell_type": "markdown",
   "id": "02c329bb-6f26-42df-8c03-cbd921958b93",
   "metadata": {},
   "source": [
    "# Healthy"
   ]
  },
  {
   "cell_type": "code",
   "execution_count": 11,
   "id": "8eba79e1-0809-4f77-acfd-e1958350e64f",
   "metadata": {},
   "outputs": [
    {
     "name": "stderr",
     "output_type": "stream",
     "text": [
      "/home/achmed/ssdmnt/python_venv/jupyter_venv/lib/python3.12/site-packages/anndata/_core/anndata.py:1756: UserWarning: Variable names are not unique. To make them unique, call `.var_names_make_unique`.\n",
      "  utils.warn_names_duplicates(\"var\")\n"
     ]
    }
   ],
   "source": [
    "adata = ext[ext.obs['cell_type'].isin(interest)].copy()"
   ]
  },
  {
   "cell_type": "code",
   "execution_count": 12,
   "id": "2cf901a2-a1d6-4c64-ab67-0fa667be86a6",
   "metadata": {
    "editable": true,
    "slideshow": {
     "slide_type": ""
    },
    "tags": []
   },
   "outputs": [],
   "source": [
    "adata = adata[adata.obs['tissue'].isin(['body of stomach', 'cardia of stomach'])]"
   ]
  },
  {
   "cell_type": "code",
   "execution_count": 13,
   "id": "e1892d75-73df-45c8-a0e3-1bbfa87a96e4",
   "metadata": {
    "editable": true,
    "slideshow": {
     "slide_type": ""
    },
    "tags": []
   },
   "outputs": [],
   "source": [
    "adata = adata[adata.obs['Patient_status'] != 'Healthy']"
   ]
  },
  {
   "cell_type": "code",
   "execution_count": 14,
   "id": "a93ca4fe-1d1b-40ef-a3ed-3cfc2754c941",
   "metadata": {},
   "outputs": [
    {
     "data": {
      "text/plain": [
       "\"View of AnnData object with n_obs × n_vars = 49016 × 33145\\n    obs: 'Sample', 'Tissue_in_paper', 'Batch', 'Sample_Barcode', 'sum', 'detected', 'Study', 'Patient_type', 'Patient_status', 'MT.prop', 'sizeFactor', 'Global_cluster_selected', 'Celltypes_global', 'Tissuetypes_global', 'Detailed_Cell_Type', 'cell_type_ontology_term_id', 'assay_ontology_term_id', 'tissue_ontology_term_id', 'disease_ontology_term_id', 'sex_ontology_term_id', 'organism_ontology_term_id', 'self_reported_ethnicity_ontology_term_id', 'donor_id', 'suspension_type', 'development_stage_ontology_term_id', 'is_primary_data', 'tissue_type', 'cell_type', 'assay', 'disease', 'organism', 'sex', 'tissue', 'self_reported_ethnicity', 'development_stage', 'observation_joinid'\\n    var: 'feature_is_filtered', 'feature_name', 'feature_reference', 'feature_biotype', 'feature_length'\\n    uns: 'X_name', 'citation', 'schema_reference', 'schema_version', 'tissue_colors', 'title'\\n    obsm: 'X_umap_MinDist_0.01_N_Neighbors_15', 'X_umap_MinDist_0.05_N_Neighbors_15', 'X_umap_MinDist_0.1_N_Neighbors_15', 'X_umap_MinDist_0.2_N_Neighbors_15', 'X_umap_MinDist_0.3_N_Neighbors_15', 'X_umap_MinDist_0.4_N_Neighbors_15', 'X_umap_MinDist_0.5_N_Neighbors_15'\""
      ]
     },
     "execution_count": 14,
     "metadata": {},
     "output_type": "execute_result"
    }
   ],
   "source": [
    "str(adata)"
   ]
  },
  {
   "cell_type": "code",
   "execution_count": 15,
   "id": "c3bb9986-ab5b-4c27-8c63-862c472dcb50",
   "metadata": {},
   "outputs": [],
   "source": [
    "# Replace 'cell_type' with the actual column name in adata.obs if different\n",
    "metadata = pd.DataFrame({\n",
    "    'barcode_sample': adata.obs.index,  # Cell barcodes\n",
    "    'cell_type': adata.obs['cell_type']  # Cell type or cluster labels\n",
    "})\n",
    "\n",
    "# Save the metadata to a .tsv file\n",
    "meta_file_path = '/home/achmed/ssdmnt/cache/external_datasets/cellphonedb_out/prep/healthy/healthy_metadata.tsv'\n",
    "metadata.to_csv(meta_file_path, sep='\\t', index=False)\n"
   ]
  },
  {
   "cell_type": "code",
   "execution_count": 16,
   "id": "08bb67f4-2ffb-4514-9f65-c279aced3c23",
   "metadata": {},
   "outputs": [],
   "source": [
    "adata.write_h5ad('/home/achmed/ssdmnt/cache/external_datasets/healthy_epith_strom.h5ad')"
   ]
  }
 ],
 "metadata": {
  "kernelspec": {
   "display_name": "Python 3 (ipykernel)",
   "language": "python",
   "name": "python3"
  },
  "language_info": {
   "codemirror_mode": {
    "name": "ipython",
    "version": 3
   },
   "file_extension": ".py",
   "mimetype": "text/x-python",
   "name": "python",
   "nbconvert_exporter": "python",
   "pygments_lexer": "ipython3",
   "version": "3.12.3"
  }
 },
 "nbformat": 4,
 "nbformat_minor": 5
}
