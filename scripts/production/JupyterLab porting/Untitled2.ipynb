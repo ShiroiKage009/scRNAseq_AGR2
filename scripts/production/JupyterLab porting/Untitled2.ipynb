{
 "cells": [
  {
   "cell_type": "code",
   "execution_count": 1,
   "id": "1031335b-0b5d-45bf-91f7-c31f493f21d7",
   "metadata": {},
   "outputs": [],
   "source": [
    "import scanpy as sc\n",
    "import scanpy.external as sce\n",
    "import pandas as pd\n",
    "import matplotlib.pyplot as plt\n",
    "import seaborn as sns\n",
    "import numpy as np\n",
    "import time\n",
    "import palantir\n",
    "import cellrank"
   ]
  },
  {
   "cell_type": "markdown",
   "id": "097d831c-372f-4d89-8827-e8ac685063de",
   "metadata": {},
   "source": [
    "Function definitions. One Function per cell"
   ]
  },
  {
   "cell_type": "code",
   "execution_count": 2,
   "id": "0e0ca994-17cc-4516-9954-ed7fc08463d3",
   "metadata": {},
   "outputs": [],
   "source": [
    "# Time wrapper function\n",
    "def time_it(func):\n",
    "    def wrapper(*args, **kwargs):\n",
    "        start_time = time.time()\n",
    "        result = func(*args, **kwargs)\n",
    "        end_time = time.time()\n",
    "        print(f\"{func.__name__} executed in {end_time - start_time} seconds\")\n",
    "        return result\n",
    "    return wrapper"
   ]
  },
  {
   "cell_type": "code",
   "execution_count": 3,
   "id": "2de3deeb-70be-40d8-8e26-9eb14696abb7",
   "metadata": {},
   "outputs": [],
   "source": [
    "# Cell filtering and QC for UMAP\n",
    "def filter_cells_for_UMAP(data, min_gen = 500, min_cell = 3, mt_pct = 60, normed = 0, doublet_threshold = 0.24, min_ct = 0, max_genes = 0): #min_ct is removed. Consider restoring it later. You will find it commented out below. Max genes is also removed and commented even further below\n",
    "    # Working default arguments:\n",
    "    # data, min_gen = 500, min_cell = 3, mt_pct = 60, normed = 0, doublet_threshold = 0.24, min_ct = 0, max_genes = 0\n",
    "    adata = data # This is to avoid writing into the file that's entered as an argument\n",
    "    if min_ct > 0:\n",
    "        sc.pp.filter_cells(adata, min_counts = min_ct) # Filter cells based on number of RNA reads\n",
    "    sc.pp.filter_cells(adata, min_genes= min_gen) # Filter cells based on the number of recognized genes\n",
    "    sc.pp.filter_genes(adata, min_cells = min_cell) # Filter genes based on the minimum number of cells expressing it\n",
    "    adata_prefilt = adata[adata.obs['doublet_scores'] < doublet_threshold]\n",
    "    if max_genes > 0:\n",
    "        adata_prefilt = adata_prefilt[adata_prefilt.obs['n_genes_by_counts'] < max_genes]\n",
    "        \n",
    "    if not normed:\n",
    "        adata_filt = adata_prefilt[adata_prefilt.obs['pct_counts_mt'] < mt_pct] # Filtering based on percentage of mitochondrial genes\n",
    "    else:\n",
    "        adata_filt = adata_prefilt\n",
    "    return adata_filt    "
   ]
  },
  {
   "cell_type": "code",
   "execution_count": 4,
   "id": "2fe3fe5f-4d23-4611-8c37-aa5dff1ef052",
   "metadata": {},
   "outputs": [],
   "source": [
    "# Processing for UMAP from QC all the way to the end\n",
    "@time_it # Timing wrapper for benchmarking purposes. Can comment out\n",
    "def process_for_UMAP(data, normed = 0, leiden_res = 0.8, filtering = 1, min_gen = 500, min_cell = 3, mt_pct = 60, neighbors = 50): # DEFAULT QC VALUES\n",
    "    # Working default arguments:\n",
    "    # data, normed = 0, leiden_res = 0.8, filtering = 1, min_gen = 500, min_cell = 3, mt_pct = 60, neighbors = 15\n",
    "    adata = data # This is to avoid writing into the file that's entered as an argument\n",
    "    if filtering:\n",
    "        adata_filt = filter_cells_for_UMAP(data = adata, min_gen = min_gen, min_cell = min_cell, mt_pct = mt_pct) #min ct is removed. Think about restoring it later.\n",
    "    else:\n",
    "        adata_filt = adata       \n",
    "    sc.pp.normalize_total(adata_filt, target_sum=1e4) # Normalize\n",
    "    sc.pp.log1p(adata_filt) # Log scaling\n",
    "    sc.pp.highly_variable_genes(adata_filt, min_mean = 0.0125, max_mean = 3, min_disp = 0.5) # Compute differentially expressed genes within the sample\n",
    "    adata_filt.raw = adata_filt # Store the raw files in its own layer\n",
    "    #adata_filt = adata_filt[:, adata_filt.var.highly_variable] # Filter on genes that are highly variable\n",
    "    sc.pp.regress_out(adata_filt, ['total_counts', 'pct_counts_mt']) # Regression. Not sure what that is.\n",
    "    sc.pp.scale(adata_filt, max_value = 10) # Scale the data\n",
    "    sc.tl.pca(adata_filt, svd_solver='arpack') # Compute PCA\n",
    "    sc.tl.tsne(adata_filt) # Calculate tsne\n",
    "    sc.pp.neighbors(adata_filt, n_neighbors = neighbors) # Calculate neighbors\n",
    "    sc.tl.leiden(adata_filt, resolution = leiden_res) # Calculate Leiden clusters\n",
    "    sc.tl.paga(adata_filt) # Calculate PAGA\n",
    "    sc.pl.paga(adata_filt, plot = 1)  # remove `plot=False` if you want to see the coarse-grained graph\n",
    "    sc.tl.umap(adata_filt, init_pos='paga') # Plot PAGA\n",
    "    sc.tl.umap(adata_filt) # Calculate UMAP\n",
    "    sc.pl.umap(adata_filt, color = ['leiden']) # Plot UMAP and show Leiden clusters\n",
    "    return adata_filt"
   ]
  },
  {
   "cell_type": "code",
   "execution_count": 5,
   "id": "18b17435-51c1-4dc8-949b-a9ea75d85bc4",
   "metadata": {},
   "outputs": [],
   "source": [
    "# Isolating cells by gene expression. It uses the value as-is so if it's normalized it'll use it\n",
    "def isolate_cells_by_gene(data, gene, threshold):\n",
    "    # Now subset_ant_mt_filt contains only the highly variable genes\n",
    "    data_subset = data[data[:, gene].X > threshold]\n",
    "    return data_subset"
   ]
  },
  {
   "cell_type": "code",
   "execution_count": 6,
   "id": "408634e3-0c4e-4ea4-b584-3b8055706849",
   "metadata": {},
   "outputs": [],
   "source": [
    "# This function filters the leiden clusters that are positive for a specified gene\n",
    "# diff is boolean specifying if differential expresion is already done\n",
    "# Default assumes you didn't do your ranked gene expression analysis\n",
    "# Default method is kept as the default method for the function\n",
    "# threshold is the threshold of expression\n",
    "def filter_clusters_by_gene(data, gene, threshold = 0.5, diff = 0, method = None):\n",
    "    # Load your AnnData object\n",
    "    adata = data\n",
    "    if diff == 0:\n",
    "        sc.tl.rank_genes_groups(adata, groupby = 'leiden_samp', method = method)\n",
    "    # Extract the DataFrame for the differential expression results\n",
    "    de_results = pd.DataFrame(adata.uns['rank_genes_groups']['names'])\n",
    "    # Define a threshold for significant expression (adjust as needed)\n",
    "    expression_threshold = threshold\n",
    "    # Find clusters with significant gene expression\n",
    "    significant_clusters = []\n",
    "    for cluster in de_results.columns:\n",
    "        gene_presence = de_results[cluster].str.contains(gene)\n",
    "        gene_expression = adata.uns['rank_genes_groups']['logfoldchanges'][cluster][gene_presence]\n",
    "        if any(gene_expression >= expression_threshold):\n",
    "            significant_clusters.append(cluster)\n",
    "    # Subset the data to include only cells from the significant clusters\n",
    "    adata_subset = adata[adata.obs['leiden_samp'].isin(significant_clusters)].copy()\n",
    "    return adata_subset"
   ]
  },
  {
   "cell_type": "code",
   "execution_count": 7,
   "id": "61fb51e1-c465-4a88-be53-4bd943ae18a3",
   "metadata": {},
   "outputs": [],
   "source": [
    "# This function makes a density scatter plot like what one might see with flow analysis.\n",
    "# The X and Y axes defaults are specified to my specific use, but they can be changed\n",
    "def scatter_density_plot(data, background = 'grey', cmap = 'hsv', upxlim = None, loxlim = None, upylim = None, loylim = None, size = None, bw_adjust = 0.5, x = 'Gastric stemness', y = 'Intestinal stemness'):\n",
    "    # Extract the data from the AnnData object\n",
    "    x_data = data.obs[x].values\n",
    "    y_data = data.obs[y].values\n",
    "    \n",
    "    # Creating the density plot\n",
    "    plt.figure()\n",
    "    \n",
    "    # Set the axes\n",
    "    plt.xlim(loxlim, upxlim);\n",
    "    plt.ylim(loylim, upylim);\n",
    "    \n",
    "    # Create the base scatter plot\n",
    "    plt.scatter(x_data, y_data, c = 'gray', s = size, edgecolor='none')\n",
    "\n",
    "    # Create the heatmap on top    \n",
    "    sns.kdeplot(x = x_data, y = y_data, cmap = \"hsv\", shade=True, bw_adjust = bw_adjust)\n",
    "    \n",
    "    # Label the axes\n",
    "    plt.xlabel(x)\n",
    "    plt.ylabel(y)\n",
    "    \n",
    "    # Show the plot\n",
    "    plt.show()\n",
    "    \n",
    "    return(plt)"
   ]
  },
  {
   "cell_type": "code",
   "execution_count": 8,
   "id": "eb11accd-d597-4a9c-9910-ce618c77ba9c",
   "metadata": {},
   "outputs": [],
   "source": [
    "# Function for mapping names to columns\n",
    "# Must create the mapping set and feed it here\n",
    "def map_to_column(data, map_set, column = 'Localization'):\n",
    "    data.obs[column + '_old'] = data.obs[column]\n",
    "    data.obs[column] = data.obs[column].map(map_set)\n",
    "    print(data.obs[column])\n",
    "    print(data.obs[column + '_old'])\n",
    "    return 'Mapping function done'"
   ]
  },
  {
   "cell_type": "markdown",
   "id": "9a9d7a00-9168-431d-b1c4-7fe0f46f43cc",
   "metadata": {},
   "source": [
    "Setting up the environmental and misc variables alongside starting the timer to measure script execution time"
   ]
  },
  {
   "cell_type": "code",
   "execution_count": 9,
   "id": "154b1de1-69c9-4217-9740-e0c6c2fca29e",
   "metadata": {},
   "outputs": [],
   "source": [
    "# Execution start begin with timing\n",
    "start_time = time.time()\n",
    "sc.settings.verbosity = 3\n",
    "sc.set_figure_params(dpi = 150)\n",
    "global_res = 0.5"
   ]
  },
  {
   "cell_type": "code",
   "execution_count": 10,
   "id": "428889bc-c142-4954-a9f7-ceefe8e0ccca",
   "metadata": {},
   "outputs": [],
   "source": [
    "path = 'S:/data cache/code_in_out/agr2/agr2_init_files/Aline/raw_data/'\n",
    "antrum = sc.read_h5ad(path + 'agr2_unfilt_antrum.h5ad')"
   ]
  },
  {
   "cell_type": "code",
   "execution_count": 12,
   "id": "abf9bc95-e078-41f3-9f41-dba19c16c88f",
   "metadata": {},
   "outputs": [
    {
     "name": "stdout",
     "output_type": "stream",
     "text": [
      "filtered out 2331 cells that have less than 500 genes expressed\n",
      "filtered out 14348 genes that are detected in less than 3 cells\n"
     ]
    }
   ],
   "source": [
    "filt = filter_cells_for_UMAP(antrum)"
   ]
  },
  {
   "cell_type": "code",
   "execution_count": 14,
   "id": "e9cb200e-9a86-4f6c-be1b-a3e2d31e6e6b",
   "metadata": {},
   "outputs": [
    {
     "name": "stdout",
     "output_type": "stream",
     "text": [
      "computing PCA\n",
      "    with n_comps=50\n",
      "    finished (0:00:06)\n"
     ]
    },
    {
     "name": "stderr",
     "output_type": "stream",
     "text": [
      "C:\\anaconda_envs\\spyder\\Lib\\site-packages\\scanpy\\preprocessing\\_pca.py:229: ImplicitModificationWarning: Setting element `.obsm['X_pca']` of view, initializing view as actual.\n",
      "  adata.obsm['X_pca'] = X_pca\n"
     ]
    }
   ],
   "source": [
    "sc.pp.pca(filt)"
   ]
  },
  {
   "cell_type": "code",
   "execution_count": 15,
   "id": "74630f74-e0a3-44f2-8870-0b37f71d0aa5",
   "metadata": {},
   "outputs": [
    {
     "name": "stderr",
     "output_type": "stream",
     "text": [
      "2024-08-29 01:26:29,050 - harmonypy - INFO - Computing initial centroids with sklearn.KMeans...\n"
     ]
    },
    {
     "ename": "AttributeError",
     "evalue": "'NoneType' object has no attribute 'split'",
     "output_type": "error",
     "traceback": [
      "\u001b[1;31m---------------------------------------------------------------------------\u001b[0m",
      "\u001b[1;31mAttributeError\u001b[0m                            Traceback (most recent call last)",
      "Cell \u001b[1;32mIn[15], line 1\u001b[0m\n\u001b[1;32m----> 1\u001b[0m sce\u001b[38;5;241m.\u001b[39mpp\u001b[38;5;241m.\u001b[39mharmony_integrate(filt, key \u001b[38;5;241m=\u001b[39m \u001b[38;5;124m'\u001b[39m\u001b[38;5;124mPatient\u001b[39m\u001b[38;5;124m'\u001b[39m)\n",
      "File \u001b[1;32mC:\\anaconda_envs\\spyder\\Lib\\site-packages\\scanpy\\external\\pp\\_harmony_integrate.py:82\u001b[0m, in \u001b[0;36mharmony_integrate\u001b[1;34m(adata, key, basis, adjusted_basis, **kwargs)\u001b[0m\n\u001b[0;32m     79\u001b[0m \u001b[38;5;28;01mexcept\u001b[39;00m \u001b[38;5;167;01mImportError\u001b[39;00m:\n\u001b[0;32m     80\u001b[0m     \u001b[38;5;28;01mraise\u001b[39;00m \u001b[38;5;167;01mImportError\u001b[39;00m(\u001b[38;5;124m\"\u001b[39m\u001b[38;5;130;01m\\n\u001b[39;00m\u001b[38;5;124mplease install harmonypy:\u001b[39m\u001b[38;5;130;01m\\n\u001b[39;00m\u001b[38;5;130;01m\\n\u001b[39;00m\u001b[38;5;130;01m\\t\u001b[39;00m\u001b[38;5;124mpip install harmonypy\u001b[39m\u001b[38;5;124m\"\u001b[39m)\n\u001b[1;32m---> 82\u001b[0m harmony_out \u001b[38;5;241m=\u001b[39m harmonypy\u001b[38;5;241m.\u001b[39mrun_harmony(adata\u001b[38;5;241m.\u001b[39mobsm[basis], adata\u001b[38;5;241m.\u001b[39mobs, key, \u001b[38;5;241m*\u001b[39m\u001b[38;5;241m*\u001b[39mkwargs)\n\u001b[0;32m     84\u001b[0m adata\u001b[38;5;241m.\u001b[39mobsm[adjusted_basis] \u001b[38;5;241m=\u001b[39m harmony_out\u001b[38;5;241m.\u001b[39mZ_corr\u001b[38;5;241m.\u001b[39mT\n",
      "File \u001b[1;32mC:\\anaconda_envs\\spyder\\Lib\\site-packages\\harmonypy\\harmony.py:124\u001b[0m, in \u001b[0;36mrun_harmony\u001b[1;34m(data_mat, meta_data, vars_use, theta, lamb, sigma, nclust, tau, block_size, max_iter_harmony, max_iter_kmeans, epsilon_cluster, epsilon_harmony, plot_convergence, verbose, reference_values, cluster_prior, random_state)\u001b[0m\n\u001b[0;32m    120\u001b[0m phi_moe \u001b[38;5;241m=\u001b[39m np\u001b[38;5;241m.\u001b[39mvstack((np\u001b[38;5;241m.\u001b[39mrepeat(\u001b[38;5;241m1\u001b[39m, N), phi))\n\u001b[0;32m    122\u001b[0m np\u001b[38;5;241m.\u001b[39mrandom\u001b[38;5;241m.\u001b[39mseed(random_state)\n\u001b[1;32m--> 124\u001b[0m ho \u001b[38;5;241m=\u001b[39m Harmony(\n\u001b[0;32m    125\u001b[0m     data_mat, phi, phi_moe, Pr_b, sigma, theta, max_iter_harmony, max_iter_kmeans,\n\u001b[0;32m    126\u001b[0m     epsilon_cluster, epsilon_harmony, nclust, block_size, lamb_mat, verbose\n\u001b[0;32m    127\u001b[0m )\n\u001b[0;32m    129\u001b[0m \u001b[38;5;28;01mreturn\u001b[39;00m ho\n",
      "File \u001b[1;32mC:\\anaconda_envs\\spyder\\Lib\\site-packages\\harmonypy\\harmony.py:172\u001b[0m, in \u001b[0;36mHarmony.__init__\u001b[1;34m(self, Z, Phi, Phi_moe, Pr_b, sigma, theta, max_iter_harmony, max_iter_kmeans, epsilon_kmeans, epsilon_harmony, K, block_size, lamb, verbose)\u001b[0m\n\u001b[0;32m    169\u001b[0m \u001b[38;5;28mself\u001b[39m\u001b[38;5;241m.\u001b[39mkmeans_rounds  \u001b[38;5;241m=\u001b[39m []\n\u001b[0;32m    171\u001b[0m \u001b[38;5;28mself\u001b[39m\u001b[38;5;241m.\u001b[39mallocate_buffers()\n\u001b[1;32m--> 172\u001b[0m \u001b[38;5;28mself\u001b[39m\u001b[38;5;241m.\u001b[39minit_cluster()\n\u001b[0;32m    173\u001b[0m \u001b[38;5;28mself\u001b[39m\u001b[38;5;241m.\u001b[39mharmonize(\u001b[38;5;28mself\u001b[39m\u001b[38;5;241m.\u001b[39mmax_iter_harmony, \u001b[38;5;28mself\u001b[39m\u001b[38;5;241m.\u001b[39mverbose)\n",
      "File \u001b[1;32mC:\\anaconda_envs\\spyder\\Lib\\site-packages\\harmonypy\\harmony.py:191\u001b[0m, in \u001b[0;36mHarmony.init_cluster\u001b[1;34m(self)\u001b[0m\n\u001b[0;32m    188\u001b[0m logger\u001b[38;5;241m.\u001b[39minfo(\u001b[38;5;124m\"\u001b[39m\u001b[38;5;124mComputing initial centroids with sklearn.KMeans...\u001b[39m\u001b[38;5;124m\"\u001b[39m)\n\u001b[0;32m    189\u001b[0m model \u001b[38;5;241m=\u001b[39m KMeans(n_clusters\u001b[38;5;241m=\u001b[39m\u001b[38;5;28mself\u001b[39m\u001b[38;5;241m.\u001b[39mK, init\u001b[38;5;241m=\u001b[39m\u001b[38;5;124m'\u001b[39m\u001b[38;5;124mk-means++\u001b[39m\u001b[38;5;124m'\u001b[39m,\n\u001b[0;32m    190\u001b[0m                n_init\u001b[38;5;241m=\u001b[39m\u001b[38;5;241m10\u001b[39m, max_iter\u001b[38;5;241m=\u001b[39m\u001b[38;5;241m25\u001b[39m)\n\u001b[1;32m--> 191\u001b[0m model\u001b[38;5;241m.\u001b[39mfit(\u001b[38;5;28mself\u001b[39m\u001b[38;5;241m.\u001b[39mZ_cos\u001b[38;5;241m.\u001b[39mT)\n\u001b[0;32m    192\u001b[0m km_centroids, km_labels \u001b[38;5;241m=\u001b[39m model\u001b[38;5;241m.\u001b[39mcluster_centers_, model\u001b[38;5;241m.\u001b[39mlabels_\n\u001b[0;32m    193\u001b[0m logger\u001b[38;5;241m.\u001b[39minfo(\u001b[38;5;124m\"\u001b[39m\u001b[38;5;124msklearn.KMeans initialization complete.\u001b[39m\u001b[38;5;124m\"\u001b[39m)\n",
      "File \u001b[1;32mC:\\anaconda_envs\\spyder\\Lib\\site-packages\\sklearn\\cluster\\_kmeans.py:1417\u001b[0m, in \u001b[0;36mKMeans.fit\u001b[1;34m(self, X, y, sample_weight)\u001b[0m\n\u001b[0;32m   1414\u001b[0m     \u001b[38;5;28mprint\u001b[39m(\u001b[38;5;124m\"\u001b[39m\u001b[38;5;124mInitialization complete\u001b[39m\u001b[38;5;124m\"\u001b[39m)\n\u001b[0;32m   1416\u001b[0m \u001b[38;5;66;03m# run a k-means once\u001b[39;00m\n\u001b[1;32m-> 1417\u001b[0m labels, inertia, centers, n_iter_ \u001b[38;5;241m=\u001b[39m kmeans_single(\n\u001b[0;32m   1418\u001b[0m     X,\n\u001b[0;32m   1419\u001b[0m     sample_weight,\n\u001b[0;32m   1420\u001b[0m     centers_init,\n\u001b[0;32m   1421\u001b[0m     max_iter\u001b[38;5;241m=\u001b[39m\u001b[38;5;28mself\u001b[39m\u001b[38;5;241m.\u001b[39mmax_iter,\n\u001b[0;32m   1422\u001b[0m     verbose\u001b[38;5;241m=\u001b[39m\u001b[38;5;28mself\u001b[39m\u001b[38;5;241m.\u001b[39mverbose,\n\u001b[0;32m   1423\u001b[0m     tol\u001b[38;5;241m=\u001b[39m\u001b[38;5;28mself\u001b[39m\u001b[38;5;241m.\u001b[39m_tol,\n\u001b[0;32m   1424\u001b[0m     x_squared_norms\u001b[38;5;241m=\u001b[39mx_squared_norms,\n\u001b[0;32m   1425\u001b[0m     n_threads\u001b[38;5;241m=\u001b[39m\u001b[38;5;28mself\u001b[39m\u001b[38;5;241m.\u001b[39m_n_threads,\n\u001b[0;32m   1426\u001b[0m )\n\u001b[0;32m   1428\u001b[0m \u001b[38;5;66;03m# determine if these results are the best so far\u001b[39;00m\n\u001b[0;32m   1429\u001b[0m \u001b[38;5;66;03m# we chose a new run if it has a better inertia and the clustering is\u001b[39;00m\n\u001b[0;32m   1430\u001b[0m \u001b[38;5;66;03m# different from the best so far (it's possible that the inertia is\u001b[39;00m\n\u001b[0;32m   1431\u001b[0m \u001b[38;5;66;03m# slightly better even if the clustering is the same with potentially\u001b[39;00m\n\u001b[0;32m   1432\u001b[0m \u001b[38;5;66;03m# permuted labels, due to rounding errors)\u001b[39;00m\n\u001b[0;32m   1433\u001b[0m \u001b[38;5;28;01mif\u001b[39;00m best_inertia \u001b[38;5;129;01mis\u001b[39;00m \u001b[38;5;28;01mNone\u001b[39;00m \u001b[38;5;129;01mor\u001b[39;00m (\n\u001b[0;32m   1434\u001b[0m     inertia \u001b[38;5;241m<\u001b[39m best_inertia\n\u001b[0;32m   1435\u001b[0m     \u001b[38;5;129;01mand\u001b[39;00m \u001b[38;5;129;01mnot\u001b[39;00m _is_same_clustering(labels, best_labels, \u001b[38;5;28mself\u001b[39m\u001b[38;5;241m.\u001b[39mn_clusters)\n\u001b[0;32m   1436\u001b[0m ):\n",
      "File \u001b[1;32mC:\\anaconda_envs\\spyder\\Lib\\site-packages\\sklearn\\cluster\\_kmeans.py:646\u001b[0m, in \u001b[0;36m_kmeans_single_lloyd\u001b[1;34m(X, sample_weight, centers_init, max_iter, verbose, x_squared_norms, tol, n_threads)\u001b[0m\n\u001b[0;32m    642\u001b[0m strict_convergence \u001b[38;5;241m=\u001b[39m \u001b[38;5;28;01mFalse\u001b[39;00m\n\u001b[0;32m    644\u001b[0m \u001b[38;5;66;03m# Threadpoolctl context to limit the number of threads in second level of\u001b[39;00m\n\u001b[0;32m    645\u001b[0m \u001b[38;5;66;03m# nested parallelism (i.e. BLAS) to avoid oversubscription.\u001b[39;00m\n\u001b[1;32m--> 646\u001b[0m \u001b[38;5;28;01mwith\u001b[39;00m threadpool_limits(limits\u001b[38;5;241m=\u001b[39m\u001b[38;5;241m1\u001b[39m, user_api\u001b[38;5;241m=\u001b[39m\u001b[38;5;124m\"\u001b[39m\u001b[38;5;124mblas\u001b[39m\u001b[38;5;124m\"\u001b[39m):\n\u001b[0;32m    647\u001b[0m     \u001b[38;5;28;01mfor\u001b[39;00m i \u001b[38;5;129;01min\u001b[39;00m \u001b[38;5;28mrange\u001b[39m(max_iter):\n\u001b[0;32m    648\u001b[0m         lloyd_iter(\n\u001b[0;32m    649\u001b[0m             X,\n\u001b[0;32m    650\u001b[0m             sample_weight,\n\u001b[1;32m   (...)\u001b[0m\n\u001b[0;32m    657\u001b[0m             n_threads,\n\u001b[0;32m    658\u001b[0m         )\n",
      "File \u001b[1;32mC:\\anaconda_envs\\spyder\\Lib\\site-packages\\sklearn\\utils\\fixes.py:151\u001b[0m, in \u001b[0;36mthreadpool_limits\u001b[1;34m(limits, user_api)\u001b[0m\n\u001b[0;32m    149\u001b[0m     \u001b[38;5;28;01mreturn\u001b[39;00m controller\u001b[38;5;241m.\u001b[39mlimit(limits\u001b[38;5;241m=\u001b[39mlimits, user_api\u001b[38;5;241m=\u001b[39muser_api)\n\u001b[0;32m    150\u001b[0m \u001b[38;5;28;01melse\u001b[39;00m:\n\u001b[1;32m--> 151\u001b[0m     \u001b[38;5;28;01mreturn\u001b[39;00m threadpoolctl\u001b[38;5;241m.\u001b[39mthreadpool_limits(limits\u001b[38;5;241m=\u001b[39mlimits, user_api\u001b[38;5;241m=\u001b[39muser_api)\n",
      "File \u001b[1;32mC:\\anaconda_envs\\spyder\\Lib\\site-packages\\threadpoolctl.py:171\u001b[0m, in \u001b[0;36mthreadpool_limits.__init__\u001b[1;34m(self, limits, user_api)\u001b[0m\n\u001b[0;32m    167\u001b[0m \u001b[38;5;28;01mdef\u001b[39;00m \u001b[38;5;21m__init__\u001b[39m(\u001b[38;5;28mself\u001b[39m, limits\u001b[38;5;241m=\u001b[39m\u001b[38;5;28;01mNone\u001b[39;00m, user_api\u001b[38;5;241m=\u001b[39m\u001b[38;5;28;01mNone\u001b[39;00m):\n\u001b[0;32m    168\u001b[0m     \u001b[38;5;28mself\u001b[39m\u001b[38;5;241m.\u001b[39m_limits, \u001b[38;5;28mself\u001b[39m\u001b[38;5;241m.\u001b[39m_user_api, \u001b[38;5;28mself\u001b[39m\u001b[38;5;241m.\u001b[39m_prefixes \u001b[38;5;241m=\u001b[39m \\\n\u001b[0;32m    169\u001b[0m         \u001b[38;5;28mself\u001b[39m\u001b[38;5;241m.\u001b[39m_check_params(limits, user_api)\n\u001b[1;32m--> 171\u001b[0m     \u001b[38;5;28mself\u001b[39m\u001b[38;5;241m.\u001b[39m_original_info \u001b[38;5;241m=\u001b[39m \u001b[38;5;28mself\u001b[39m\u001b[38;5;241m.\u001b[39m_set_threadpool_limits()\n",
      "File \u001b[1;32mC:\\anaconda_envs\\spyder\\Lib\\site-packages\\threadpoolctl.py:268\u001b[0m, in \u001b[0;36mthreadpool_limits._set_threadpool_limits\u001b[1;34m(self)\u001b[0m\n\u001b[0;32m    265\u001b[0m \u001b[38;5;28;01mif\u001b[39;00m \u001b[38;5;28mself\u001b[39m\u001b[38;5;241m.\u001b[39m_limits \u001b[38;5;129;01mis\u001b[39;00m \u001b[38;5;28;01mNone\u001b[39;00m:\n\u001b[0;32m    266\u001b[0m     \u001b[38;5;28;01mreturn\u001b[39;00m \u001b[38;5;28;01mNone\u001b[39;00m\n\u001b[1;32m--> 268\u001b[0m modules \u001b[38;5;241m=\u001b[39m _ThreadpoolInfo(prefixes\u001b[38;5;241m=\u001b[39m\u001b[38;5;28mself\u001b[39m\u001b[38;5;241m.\u001b[39m_prefixes,\n\u001b[0;32m    269\u001b[0m                           user_api\u001b[38;5;241m=\u001b[39m\u001b[38;5;28mself\u001b[39m\u001b[38;5;241m.\u001b[39m_user_api)\n\u001b[0;32m    270\u001b[0m \u001b[38;5;28;01mfor\u001b[39;00m module \u001b[38;5;129;01min\u001b[39;00m modules:\n\u001b[0;32m    271\u001b[0m     \u001b[38;5;66;03m# self._limits is a dict {key: num_threads} where key is either\u001b[39;00m\n\u001b[0;32m    272\u001b[0m     \u001b[38;5;66;03m# a prefix or a user_api. If a module matches both, the limit\u001b[39;00m\n\u001b[0;32m    273\u001b[0m     \u001b[38;5;66;03m# corresponding to the prefix is chosed.\u001b[39;00m\n\u001b[0;32m    274\u001b[0m     \u001b[38;5;28;01mif\u001b[39;00m module\u001b[38;5;241m.\u001b[39mprefix \u001b[38;5;129;01min\u001b[39;00m \u001b[38;5;28mself\u001b[39m\u001b[38;5;241m.\u001b[39m_limits:\n",
      "File \u001b[1;32mC:\\anaconda_envs\\spyder\\Lib\\site-packages\\threadpoolctl.py:340\u001b[0m, in \u001b[0;36m_ThreadpoolInfo.__init__\u001b[1;34m(self, user_api, prefixes, modules)\u001b[0m\n\u001b[0;32m    337\u001b[0m     \u001b[38;5;28mself\u001b[39m\u001b[38;5;241m.\u001b[39muser_api \u001b[38;5;241m=\u001b[39m [] \u001b[38;5;28;01mif\u001b[39;00m user_api \u001b[38;5;129;01mis\u001b[39;00m \u001b[38;5;28;01mNone\u001b[39;00m \u001b[38;5;28;01melse\u001b[39;00m user_api\n\u001b[0;32m    339\u001b[0m     \u001b[38;5;28mself\u001b[39m\u001b[38;5;241m.\u001b[39mmodules \u001b[38;5;241m=\u001b[39m []\n\u001b[1;32m--> 340\u001b[0m     \u001b[38;5;28mself\u001b[39m\u001b[38;5;241m.\u001b[39m_load_modules()\n\u001b[0;32m    341\u001b[0m     \u001b[38;5;28mself\u001b[39m\u001b[38;5;241m.\u001b[39m_warn_if_incompatible_openmp()\n\u001b[0;32m    342\u001b[0m \u001b[38;5;28;01melse\u001b[39;00m:\n",
      "File \u001b[1;32mC:\\anaconda_envs\\spyder\\Lib\\site-packages\\threadpoolctl.py:373\u001b[0m, in \u001b[0;36m_ThreadpoolInfo._load_modules\u001b[1;34m(self)\u001b[0m\n\u001b[0;32m    371\u001b[0m     \u001b[38;5;28mself\u001b[39m\u001b[38;5;241m.\u001b[39m_find_modules_with_dyld()\n\u001b[0;32m    372\u001b[0m \u001b[38;5;28;01melif\u001b[39;00m sys\u001b[38;5;241m.\u001b[39mplatform \u001b[38;5;241m==\u001b[39m \u001b[38;5;124m\"\u001b[39m\u001b[38;5;124mwin32\u001b[39m\u001b[38;5;124m\"\u001b[39m:\n\u001b[1;32m--> 373\u001b[0m     \u001b[38;5;28mself\u001b[39m\u001b[38;5;241m.\u001b[39m_find_modules_with_enum_process_module_ex()\n\u001b[0;32m    374\u001b[0m \u001b[38;5;28;01melse\u001b[39;00m:\n\u001b[0;32m    375\u001b[0m     \u001b[38;5;28mself\u001b[39m\u001b[38;5;241m.\u001b[39m_find_modules_with_dl_iterate_phdr()\n",
      "File \u001b[1;32mC:\\anaconda_envs\\spyder\\Lib\\site-packages\\threadpoolctl.py:485\u001b[0m, in \u001b[0;36m_ThreadpoolInfo._find_modules_with_enum_process_module_ex\u001b[1;34m(self)\u001b[0m\n\u001b[0;32m    482\u001b[0m         filepath \u001b[38;5;241m=\u001b[39m buf\u001b[38;5;241m.\u001b[39mvalue\n\u001b[0;32m    484\u001b[0m         \u001b[38;5;66;03m# Store the module if it is supported and selected\u001b[39;00m\n\u001b[1;32m--> 485\u001b[0m         \u001b[38;5;28mself\u001b[39m\u001b[38;5;241m.\u001b[39m_make_module_from_path(filepath)\n\u001b[0;32m    486\u001b[0m \u001b[38;5;28;01mfinally\u001b[39;00m:\n\u001b[0;32m    487\u001b[0m     kernel_32\u001b[38;5;241m.\u001b[39mCloseHandle(h_process)\n",
      "File \u001b[1;32mC:\\anaconda_envs\\spyder\\Lib\\site-packages\\threadpoolctl.py:515\u001b[0m, in \u001b[0;36m_ThreadpoolInfo._make_module_from_path\u001b[1;34m(self, filepath)\u001b[0m\n\u001b[0;32m    513\u001b[0m \u001b[38;5;28;01mif\u001b[39;00m prefix \u001b[38;5;129;01min\u001b[39;00m \u001b[38;5;28mself\u001b[39m\u001b[38;5;241m.\u001b[39mprefixes \u001b[38;5;129;01mor\u001b[39;00m user_api \u001b[38;5;129;01min\u001b[39;00m \u001b[38;5;28mself\u001b[39m\u001b[38;5;241m.\u001b[39muser_api:\n\u001b[0;32m    514\u001b[0m     module_class \u001b[38;5;241m=\u001b[39m \u001b[38;5;28mglobals\u001b[39m()[module_class]\n\u001b[1;32m--> 515\u001b[0m     module \u001b[38;5;241m=\u001b[39m module_class(filepath, prefix, user_api, internal_api)\n\u001b[0;32m    516\u001b[0m     \u001b[38;5;28mself\u001b[39m\u001b[38;5;241m.\u001b[39mmodules\u001b[38;5;241m.\u001b[39mappend(module)\n",
      "File \u001b[1;32mC:\\anaconda_envs\\spyder\\Lib\\site-packages\\threadpoolctl.py:606\u001b[0m, in \u001b[0;36m_Module.__init__\u001b[1;34m(self, filepath, prefix, user_api, internal_api)\u001b[0m\n\u001b[0;32m    604\u001b[0m \u001b[38;5;28mself\u001b[39m\u001b[38;5;241m.\u001b[39minternal_api \u001b[38;5;241m=\u001b[39m internal_api\n\u001b[0;32m    605\u001b[0m \u001b[38;5;28mself\u001b[39m\u001b[38;5;241m.\u001b[39m_dynlib \u001b[38;5;241m=\u001b[39m ctypes\u001b[38;5;241m.\u001b[39mCDLL(filepath, mode\u001b[38;5;241m=\u001b[39m_RTLD_NOLOAD)\n\u001b[1;32m--> 606\u001b[0m \u001b[38;5;28mself\u001b[39m\u001b[38;5;241m.\u001b[39mversion \u001b[38;5;241m=\u001b[39m \u001b[38;5;28mself\u001b[39m\u001b[38;5;241m.\u001b[39mget_version()\n\u001b[0;32m    607\u001b[0m \u001b[38;5;28mself\u001b[39m\u001b[38;5;241m.\u001b[39mnum_threads \u001b[38;5;241m=\u001b[39m \u001b[38;5;28mself\u001b[39m\u001b[38;5;241m.\u001b[39mget_num_threads()\n\u001b[0;32m    608\u001b[0m \u001b[38;5;28mself\u001b[39m\u001b[38;5;241m.\u001b[39m_get_extra_info()\n",
      "File \u001b[1;32mC:\\anaconda_envs\\spyder\\Lib\\site-packages\\threadpoolctl.py:646\u001b[0m, in \u001b[0;36m_OpenBLASModule.get_version\u001b[1;34m(self)\u001b[0m\n\u001b[0;32m    643\u001b[0m get_config \u001b[38;5;241m=\u001b[39m \u001b[38;5;28mgetattr\u001b[39m(\u001b[38;5;28mself\u001b[39m\u001b[38;5;241m.\u001b[39m_dynlib, \u001b[38;5;124m\"\u001b[39m\u001b[38;5;124mopenblas_get_config\u001b[39m\u001b[38;5;124m\"\u001b[39m,\n\u001b[0;32m    644\u001b[0m                      \u001b[38;5;28;01mlambda\u001b[39;00m: \u001b[38;5;28;01mNone\u001b[39;00m)\n\u001b[0;32m    645\u001b[0m get_config\u001b[38;5;241m.\u001b[39mrestype \u001b[38;5;241m=\u001b[39m ctypes\u001b[38;5;241m.\u001b[39mc_char_p\n\u001b[1;32m--> 646\u001b[0m config \u001b[38;5;241m=\u001b[39m get_config()\u001b[38;5;241m.\u001b[39msplit()\n\u001b[0;32m    647\u001b[0m \u001b[38;5;28;01mif\u001b[39;00m config[\u001b[38;5;241m0\u001b[39m] \u001b[38;5;241m==\u001b[39m \u001b[38;5;124mb\u001b[39m\u001b[38;5;124m\"\u001b[39m\u001b[38;5;124mOpenBLAS\u001b[39m\u001b[38;5;124m\"\u001b[39m:\n\u001b[0;32m    648\u001b[0m     \u001b[38;5;28;01mreturn\u001b[39;00m config[\u001b[38;5;241m1\u001b[39m]\u001b[38;5;241m.\u001b[39mdecode(\u001b[38;5;124m\"\u001b[39m\u001b[38;5;124mutf-8\u001b[39m\u001b[38;5;124m\"\u001b[39m)\n",
      "\u001b[1;31mAttributeError\u001b[0m: 'NoneType' object has no attribute 'split'"
     ]
    }
   ],
   "source": [
    "sce.pp.harmony_integrate(filt, key = 'Patient')"
   ]
  },
  {
   "cell_type": "code",
   "execution_count": null,
   "id": "7dfec1ff-ed4e-40c6-8fa7-d235bb2cb251",
   "metadata": {},
   "outputs": [],
   "source": []
  }
 ],
 "metadata": {
  "kernelspec": {
   "display_name": "Python 3 (ipykernel)",
   "language": "python",
   "name": "python3"
  },
  "language_info": {
   "codemirror_mode": {
    "name": "ipython",
    "version": 3
   },
   "file_extension": ".py",
   "mimetype": "text/x-python",
   "name": "python",
   "nbconvert_exporter": "python",
   "pygments_lexer": "ipython3",
   "version": "3.11.8"
  }
 },
 "nbformat": 4,
 "nbformat_minor": 5
}
