{
 "cells": [
  {
   "cell_type": "code",
   "execution_count": 20,
   "id": "f1f7b8c8-f275-4b87-8de2-3d438db1ac90",
   "metadata": {},
   "outputs": [],
   "source": [
    "# Import packages\n",
    "import scanpy as sc\n",
    "import anndata as ad\n",
    "import pandas as pd\n",
    "import time"
   ]
  },
  {
   "cell_type": "markdown",
   "id": "e42f5dd9-8243-4a6d-b62b-d5f0fb18f7ca",
   "metadata": {},
   "source": [
    "Function definitions"
   ]
  },
  {
   "cell_type": "markdown",
   "id": "d7ec3bcf-ca9e-44c7-9468-5aac7762c62b",
   "metadata": {},
   "source": [
    "Time wrapper"
   ]
  },
  {
   "cell_type": "code",
   "execution_count": 21,
   "id": "e0372e23-fefd-48f4-8845-6aca0a27c368",
   "metadata": {},
   "outputs": [],
   "source": [
    "# Time wrapper\n",
    "def time_it(func):\n",
    "    def wrapper(*args, **kwargs):\n",
    "        start_time = time.time()\n",
    "        result = func(*args, **kwargs)\n",
    "        end_time = time.time()\n",
    "        print(f\"{func.__name__} executed in {end_time - start_time} seconds\")\n",
    "        return result\n",
    "    return wrapper"
   ]
  },
  {
   "cell_type": "markdown",
   "id": "32ecf63c-aa90-441e-b240-99a023c77321",
   "metadata": {},
   "source": [
    "Filtering cells by gene for UMAP"
   ]
  },
  {
   "cell_type": "code",
   "execution_count": 22,
   "id": "b2d3c72f-c47f-46c2-ab89-efa823b77503",
   "metadata": {},
   "outputs": [],
   "source": [
    "# DEFAULT QC VALUES. Calibrated to Sarah Teichmann's paper \"Cells of the human intestinal tract mapped across space and time.\" These QC values will apply by default for this entire script.\n",
    "def filter_cells_for_UMAP(data, min_ct = 2000, min_gen = 500, min_cell = 3, mt_pct = 60, max_genes = 0, normed = 0, d_score = 0.24): \n",
    "    adata = data # This is to avoid writing into the file that's entered as an argument\n",
    "    sc.pp.filter_cells(adata, min_counts = min_ct) # Filter cells based on number of RNA reads\n",
    "    sc.pp.filter_cells(adata, min_genes= min_gen) # Filter cells based on the number of recognized genes\n",
    "    sc.pp.filter_genes(adata, min_cells = min_cell) # Filter genes based on the minimum number of cells expressing it\n",
    "    adata_prefilt = adata[adata.obs['doublet_scores'] < 0.24]\n",
    "    if max_genes > 0:\n",
    "        adata_prefilt = adata_prefilt[adata_prefilt.obs['n_genes_by_counts'] < max_genes]\n",
    "        \n",
    "    if not normed:\n",
    "        adata_filt = adata_prefilt[adata_prefilt.obs['pct_counts_mt'] < mt_pct] # Filtering based on percentage of mitochondrial genes\n",
    "    else:\n",
    "        adata_filt = adata_prefilt\n",
    "    return adata_filt    "
   ]
  },
  {
   "cell_type": "markdown",
   "id": "4ba72924-ba92-4466-880a-d06b14608506",
   "metadata": {},
   "source": [
    "UMAP processing"
   ]
  },
  {
   "cell_type": "code",
   "execution_count": 23,
   "id": "787bf7dd-2927-47a0-b282-13a212dbfa9b",
   "metadata": {},
   "outputs": [],
   "source": [
    "@time_it\n",
    "def process_for_UMAP(data, leiden_res = 0.8, filtering = 1, min_ct = 2000, min_gen = 500, min_cell = 3, mt_pct = 60, max_genes = 0, normed = 0, d_score = 0.24): # DEFAULT QC VALUES\n",
    "    adata = data # This is to avoid writing into the file that's entered as an argument\n",
    "    if filtering:\n",
    "        adata_filt = filter_cells_for_UMAP(data = adata, min_ct = min_ct, min_gen = min_gen, min_cell = min_cell, max_genes = max_genes, mt_pct = mt_pct, d_score = d_score)\n",
    "    else:\n",
    "        adata_filt = adata       \n",
    "    sc.pp.normalize_total(adata_filt, target_sum=1e4) # Normalize\n",
    "    sc.pp.log1p(adata_filt) # Log scaling\n",
    "    sc.pp.highly_variable_genes(adata_filt, min_mean = 0.0125, max_mean = 3, min_disp = 0.5) # Compute differentially expressed genes within the sample\n",
    "    adata_filt.raw = adata_filt # Store the raw files in its own layer\n",
    "    #adata_filt = adata_filt[:, adata_filt.var.highly_variable] # Filter on genes that are highly variable\n",
    "    sc.pp.regress_out(adata_filt, ['total_counts', 'pct_counts_mt']) # Regression. Not sure what that is.\n",
    "    sc.pp.scale(adata_filt, max_value = 10) # Scale the data\n",
    "    sc.tl.pca(adata_filt, svd_solver='arpack') # Compute PCA\n",
    "    sc.tl.tsne(adata_filt) # Calculate tsne\n",
    "    sc.pp.neighbors(adata_filt) # Calculate neighbors\n",
    "    sc.tl.leiden(adata_filt, resolution = leiden_res) # Calculate Leiden clusters\n",
    "    sc.tl.paga(adata_filt) # Calculate PAGA\n",
    "    sc.pl.paga(adata_filt, plot = 1)  # remove `plot=False` if you want to see the coarse-grained graph\n",
    "    sc.tl.umap(adata_filt, init_pos='paga') # Plot PAGA\n",
    "    sc.tl.umap(adata_filt) # Calculate UMAP\n",
    "    sc.pl.umap(adata_filt, color = ['leiden']) # Plot UMAP and show Leiden clusters\n",
    "    return adata_filt"
   ]
  },
  {
   "cell_type": "markdown",
   "id": "153fd523-5cb1-4317-9d7e-cc56ffa9b63d",
   "metadata": {},
   "source": [
    "Function for recalculating the UMAP"
   ]
  },
  {
   "cell_type": "code",
   "execution_count": 24,
   "id": "4d058fdc-d0f1-4d96-b3fe-e97c32ffc1b1",
   "metadata": {},
   "outputs": [],
   "source": [
    "@time_it\n",
    "def recalc_UMAP(data_filt, leiden_res = 0.8):\n",
    "    adata_filt = data_filt\n",
    "    sc.tl.pca(adata_filt, svd_solver='arpack') # Compute PCA\n",
    "    sc.tl.tsne(adata_filt) # Calculate tsne\n",
    "    sc.pp.neighbors(adata_filt) # Calculate neighbors\n",
    "    sc.tl.leiden(adata_filt, resolution = leiden_res) # Calculate Leiden clusters)\n",
    "    sc.tl.paga(adata_filt) # Calculate PAGA\n",
    "    sc.pl.paga(adata_filt, plot = 1)  # remove `plot=False` if you want to see the coarse-grained graph\n",
    "    sc.tl.umap(adata_filt, init_pos='paga') # Calculate PAGA\n",
    "    sc.tl.umap(adata_filt) # Calculate UMAP\n",
    "    sc.pl.umap(adata_filt, color = ['leiden']) # Plot UMAP and show Leiden clusters\n",
    "    return adata_filt"
   ]
  },
  {
   "cell_type": "markdown",
   "id": "488ef82f-75d8-4bf9-8c51-9be1f70d0d95",
   "metadata": {},
   "source": [
    "Isolate cells by gene expression"
   ]
  },
  {
   "cell_type": "code",
   "execution_count": 25,
   "id": "d06192ff-0f77-4122-84f8-724b16268b60",
   "metadata": {},
   "outputs": [],
   "source": [
    "def isolate_cells_by_gene(data, gene, threshold):\n",
    "    # Now subset_ant_mt_filt contains only the highly variable genes\n",
    "    data_subset = data[data[:, gene].X > threshold]\n",
    "    return data_subset"
   ]
  },
  {
   "cell_type": "markdown",
   "id": "5855a202-304b-4dca-b564-c3b44e08d8e0",
   "metadata": {},
   "source": [
    "Filter clusters by differential gene expression"
   ]
  },
  {
   "cell_type": "code",
   "execution_count": 26,
   "id": "3211ebe2-76c3-429b-b431-a4ec0f638e65",
   "metadata": {},
   "outputs": [],
   "source": [
    "# This function filters the leiden clusters that are positivefor the gene you specify\n",
    "# It assumes that you already did the differential expression analysis. \n",
    "# diff is boolean specifying if differential expresion is already done\n",
    "# threshold is the threshold of expression\n",
    "def filter_clusters_by_gene(data, gene, threshold = 0.5):\n",
    "    # Load your AnnData object\n",
    "    adata = data\n",
    "    sc.tl.rank_genes_groups(adata, groupby='leiden')\n",
    "    # Extract the DataFrame for the differential expression results\n",
    "    de_results = pd.DataFrame(adata.uns['rank_genes_groups']['names'])\n",
    "    # Define a threshold for significant expression (adjust as needed)\n",
    "    expression_threshold = threshold\n",
    "    # Find clusters with significant gene expression\n",
    "    significant_clusters = []\n",
    "    for cluster in de_results.columns:\n",
    "        gene_presence = de_results[cluster].str.contains(gene)\n",
    "        gene_expression = adata.uns['rank_genes_groups']['logfoldchanges'][cluster][gene_presence]\n",
    "        if any(gene_expression >= expression_threshold):\n",
    "            significant_clusters.append(cluster)\n",
    "    # Subset the data to include only cells from the significant clusters\n",
    "    adata_subset = adata[adata.obs['leiden'].isin(significant_clusters)].copy()\n",
    "    return adata_subset"
   ]
  },
  {
   "cell_type": "markdown",
   "id": "c2e3f307-c900-4ea1-9824-b504146ce09a",
   "metadata": {},
   "source": [
    "Setting envuronmental and other variables"
   ]
  },
  {
   "cell_type": "code",
   "execution_count": 27,
   "id": "998f6d0d-1f0f-4753-bbb4-1e60794ef9aa",
   "metadata": {},
   "outputs": [],
   "source": [
    "#%% Environment settings and misc variables\n",
    "sc.settings.verbosity = 3\n",
    "sc.set_figure_params(dpi = 600)\n",
    "# MIK67 = Ki67, TNSFRSF19 = TROY\n",
    "inspect_stem = ['LGR5', 'MKI67', 'TNFRSF19', 'BMI1', 'LRIG1', 'leiden', 'Localization']\n",
    "global_res = 0.5\n",
    "start_time = time.time()"
   ]
  },
  {
   "cell_type": "markdown",
   "id": "9ea8db94-8103-4639-aa02-e6475de0cc0e",
   "metadata": {},
   "source": [
    "Reading files"
   ]
  },
  {
   "cell_type": "code",
   "execution_count": 28,
   "id": "6046cd53-f7d4-40b7-9136-ed9bc0717abf",
   "metadata": {},
   "outputs": [],
   "source": [
    "#%% Read the files\n",
    "path = 'S:/data cache/code_in_out/agr2/agr2_init_files/Aline/raw_data/'\n",
    "col_org_unfilt = sc.read_h5ad(path + 'agr2colon_organoids_unfilt.h5ad')\n",
    "ant_unfilt = sc.read_h5ad(path + 'agr2_unfilt_antrum.h5ad')\n",
    "ant_unfilt_2 = ant_unfilt.copy()\n",
    "all_org_harmony = sc.read_h5ad('S:/data cache/code_in_out/agr2/agr2_init_files/agr2_nneigh30_pcs75_dir/agr2_bcharmony_meteuclidean_neighbors.h5ad')"
   ]
  },
  {
   "cell_type": "markdown",
   "id": "60606d67-881e-4fff-92fb-f9913db116eb",
   "metadata": {
    "scrolled": true
   },
   "source": [
    "ant_file = process_for_UMAP(ant_unfilt)"
   ]
  },
  {
   "cell_type": "markdown",
   "id": "a31c39d4-3778-4d6f-a8c4-bb60c3361691",
   "metadata": {},
   "source": [
    "sc.pp.normalize_total(ant_unfilt_2, target_sum=1e4)"
   ]
  },
  {
   "cell_type": "code",
   "execution_count": 29,
   "id": "476e03cd-0a01-476d-b4ac-ad7b4779e96d",
   "metadata": {},
   "outputs": [
    {
     "name": "stdout",
     "output_type": "stream",
     "text": [
      "filtered out 14288 genes that are detected in less than 3 cells\n"
     ]
    }
   ],
   "source": [
    "sc.pp.filter_genes(ant_unfilt_2, min_cells = 3)"
   ]
  },
  {
   "cell_type": "code",
   "execution_count": 30,
   "id": "8c165e97-0361-4a70-8655-153a032ae3ab",
   "metadata": {},
   "outputs": [
    {
     "data": {
      "text/plain": [
       "\"AnnData object with n_obs × n_vars = 9980 × 22313\\n    obs: 'sample_id', 'SampleID', 'Patient', 'Biopsies', 'Site', 'Inflammation', 'Age', 'Sex', 'doublet_scores', 'predicted_doublets', 'n_genes_by_counts', 'total_counts', 'total_counts_mt', 'pct_counts_mt', 'total_counts_rp', 'pct_counts_rp', 'total_counts_hb', 'pct_counts_hb', 'total_counts_ig', 'pct_counts_ig', 'S_score', 'G2M_score', 'phase', 'cellbarcode'\\n    var: 'gene_ids', 'feature_types', 'hb', 'ig', 'rp', 'mt', 'n_cells_by_counts', 'mean_counts', 'pct_dropout_by_counts', 'total_counts', 'n_cells'\\n    uns: 'sample_id_colors'\""
      ]
     },
     "execution_count": 30,
     "metadata": {},
     "output_type": "execute_result"
    }
   ],
   "source": [
    "str(ant_unfilt_2)"
   ]
  },
  {
   "cell_type": "markdown",
   "id": "d0429e83-aede-4da8-b57b-6e804fb966d7",
   "metadata": {
    "scrolled": true
   },
   "source": [
    "sc.pp.filter_cells(ant_unfilt_2, min_counts = 2000)"
   ]
  },
  {
   "cell_type": "code",
   "execution_count": 31,
   "id": "af5fdfeb-d478-4607-ab2a-d77331676755",
   "metadata": {},
   "outputs": [
    {
     "name": "stdout",
     "output_type": "stream",
     "text": [
      "filtered out 2331 cells that have less than 500 genes expressed\n"
     ]
    }
   ],
   "source": [
    "sc.pp.filter_cells(ant_unfilt_2, min_genes = 500)"
   ]
  },
  {
   "cell_type": "code",
   "execution_count": 32,
   "id": "0a1e8434-9e73-4730-b4ec-39c75b9a39ee",
   "metadata": {},
   "outputs": [],
   "source": [
    "miss = pd.read_csv('S:/missing_barcodes.csv')"
   ]
  },
  {
   "cell_type": "code",
   "execution_count": 33,
   "id": "1e27a8c9-dc88-4f3f-80cf-4b27d0f3b837",
   "metadata": {},
   "outputs": [],
   "source": [
    "# Check if barcodes are in adata.obs_names\n",
    "barcode_in_obs = miss.isin(ant_unfilt_2.obs_names)"
   ]
  },
  {
   "cell_type": "code",
   "execution_count": 34,
   "id": "b51db3d9-67f1-47c1-907f-328b2a015bc1",
   "metadata": {},
   "outputs": [
    {
     "data": {
      "text/plain": [
       "'    barcodes\\n0       True\\n1       True\\n2       True\\n3       True\\n4       True\\n..       ...\\n74      True\\n75      True\\n76      True\\n77      True\\n78      True\\n\\n[79 rows x 1 columns]'"
      ]
     },
     "execution_count": 34,
     "metadata": {},
     "output_type": "execute_result"
    }
   ],
   "source": [
    "str(barcode_in_obs)"
   ]
  },
  {
   "cell_type": "code",
   "execution_count": 35,
   "id": "397ba882-74c0-4687-b0b9-788a1b183e17",
   "metadata": {
    "scrolled": true
   },
   "outputs": [
    {
     "name": "stdout",
     "output_type": "stream",
     "text": [
      "    barcodes\n",
      "0       True\n",
      "1       True\n",
      "2       True\n",
      "3       True\n",
      "4       True\n",
      "..       ...\n",
      "74      True\n",
      "75      True\n",
      "76      True\n",
      "77      True\n",
      "78      True\n",
      "\n",
      "[79 rows x 1 columns]\n"
     ]
    }
   ],
   "source": [
    "print(barcode_in_obs)"
   ]
  },
  {
   "cell_type": "code",
   "execution_count": 36,
   "id": "9f7ccc06-2798-4c42-912a-bb2db6bd9f52",
   "metadata": {},
   "outputs": [
    {
     "name": "stdout",
     "output_type": "stream",
     "text": [
      "Barcodes in CSV file: 79\n",
      "Barcodes in .obs_names: barcodes    79\n",
      "dtype: int64 out of 79\n"
     ]
    }
   ],
   "source": [
    "# Print or store the result\n",
    "print(f\"Barcodes in CSV file: {len(miss)}\")\n",
    "print(f\"Barcodes in .obs_names: {barcode_in_obs.sum()} out of {len(miss)}\")"
   ]
  },
  {
   "cell_type": "code",
   "execution_count": null,
   "id": "73537c48-c440-45bd-91c6-09ff100c0160",
   "metadata": {},
   "outputs": [],
   "source": [
    "sc.pp.normalize_total(all_org_harmony, target_sum=1e4)"
   ]
  },
  {
   "cell_type": "code",
   "execution_count": null,
   "id": "7f554a41-7eda-4db3-972d-24b3f734b10f",
   "metadata": {},
   "outputs": [],
   "source": [
    "sc.pp.filter_cells(all_org_harmony, min_genes = 200)"
   ]
  },
  {
   "cell_type": "code",
   "execution_count": null,
   "id": "6e2bb980-d8c6-4bce-882c-7525d4e272f5",
   "metadata": {
    "scrolled": true
   },
   "outputs": [],
   "source": [
    "sc.pp.filter_cells(all_org_harmony, min_counts = 2000)"
   ]
  },
  {
   "cell_type": "code",
   "execution_count": null,
   "id": "0481482a-b603-4b59-8e0b-a9bd773a1c16",
   "metadata": {},
   "outputs": [],
   "source": [
    "sc.pp.filter_genes(all_org_harmony, min_cells = 3)"
   ]
  },
  {
   "cell_type": "code",
   "execution_count": null,
   "id": "a56d0210-5b00-4017-9398-d22ac43c08e7",
   "metadata": {},
   "outputs": [],
   "source": [
    "# Check if barcodes are in adata.obs_names\n",
    "barcode_in_obs = miss.isin(all_org_harmony.obs_names)"
   ]
  },
  {
   "cell_type": "code",
   "execution_count": null,
   "id": "4c2c8ad3-aeb3-41b2-af0b-197ebbfa87f0",
   "metadata": {},
   "outputs": [],
   "source": [
    "str(barcode_in_obs)"
   ]
  },
  {
   "cell_type": "code",
   "execution_count": null,
   "id": "46d45e84-a087-477a-9c20-5c5518d30db0",
   "metadata": {},
   "outputs": [],
   "source": [
    "print(barcode_in_obs)"
   ]
  },
  {
   "cell_type": "code",
   "execution_count": null,
   "id": "220e8392-9161-47ff-8ee8-ca939f1ac1e2",
   "metadata": {},
   "outputs": [],
   "source": [
    "# Print or store the result\n",
    "print(f\"Barcodes in CSV file: {len(miss)}\")\n",
    "print(f\"Barcodes in .obs_names: {barcode_in_obs.sum()} out of {len(miss)}\")"
   ]
  },
  {
   "cell_type": "code",
   "execution_count": null,
   "id": "bc9e65cc-dda5-45e7-afef-26fb0cd7b8b3",
   "metadata": {},
   "outputs": [],
   "source": [
    "str(ant_file)"
   ]
  },
  {
   "cell_type": "code",
   "execution_count": null,
   "id": "0b8182b6-aa33-4576-88a2-125e5e49efd1",
   "metadata": {},
   "outputs": [],
   "source": [
    "str(ant_unfilt)"
   ]
  },
  {
   "cell_type": "code",
   "execution_count": null,
   "id": "8bceb57f-b554-4818-aab3-c85e532bd74b",
   "metadata": {},
   "outputs": [],
   "source": [
    "str(all_org_harmony[all_org_harmony.obs['Site'] == 'Antrum'])"
   ]
  }
 ],
 "metadata": {
  "kernelspec": {
   "display_name": "Python 3 (ipykernel)",
   "language": "python",
   "name": "python3"
  },
  "language_info": {
   "codemirror_mode": {
    "name": "ipython",
    "version": 3
   },
   "file_extension": ".py",
   "mimetype": "text/x-python",
   "name": "python",
   "nbconvert_exporter": "python",
   "pygments_lexer": "ipython3",
   "version": "3.12.1"
  }
 },
 "nbformat": 4,
 "nbformat_minor": 5
}
