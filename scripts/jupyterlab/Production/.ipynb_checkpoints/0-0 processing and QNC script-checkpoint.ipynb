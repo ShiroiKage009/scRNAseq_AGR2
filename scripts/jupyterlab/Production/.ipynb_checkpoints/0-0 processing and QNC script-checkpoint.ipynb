{
 "cells": [
  {
   "cell_type": "markdown",
   "id": "a11f7517-0c90-4970-8919-1b48d76be18a",
   "metadata": {},
   "source": [
    "# This script is meant for the processing of different files into a format that's ready for filtering by expression\n",
    "# and downstream analyses"
   ]
  },
  {
   "cell_type": "code",
   "execution_count": null,
   "id": "87745ceb-6d4c-4501-9b52-86a0b8ee4b6c",
   "metadata": {},
   "outputs": [],
   "source": [
    "# Import packages\n",
    "import scanpy as sc\n",
    "import anndata as ad\n",
    "import pandas as pd\n",
    "import time"
   ]
  },
  {
   "cell_type": "markdown",
   "id": "ba6cb630-a9a8-447f-a58e-1061a81ad39c",
   "metadata": {},
   "source": [
    "# Function definitions start here"
   ]
  },
  {
   "cell_type": "code",
   "execution_count": 2,
   "id": "9754bdbd-c510-4083-8a5d-75c409da047a",
   "metadata": {},
   "outputs": [],
   "source": [
    "#Time wrapper\n",
    "def time_it(func):\n",
    "    def wrapper(*args, **kwargs):\n",
    "        start_time = time.time()\n",
    "        result = func(*args, **kwargs)\n",
    "        end_time = time.time()\n",
    "        print(f\"{func.__name__} executed in {end_time - start_time} seconds\")\n",
    "        return result\n",
    "    return wrapper"
   ]
  },
  {
   "cell_type": "code",
   "execution_count": 3,
   "id": "a0027383-cc44-4ec8-994b-9c50e1713d0d",
   "metadata": {},
   "outputs": [],
   "source": [
    "# DEFAULT QC VALUES. Calibrated to Sarah Teichmann's paper \"Cells of the human intestinal tract mapped across space and time.\" These QC values will apply by default for this entire script.\n",
    "def filter_cells_for_UMAP(data, min_ct = 2000, min_gen = 500, min_cell = 3, mt_pct = 60, max_genes = 0, normed = 0, d_score = 0.24): \n",
    "    adata = data # This is to avoid writing into the file that's entered as an argument\n",
    "    print(\"################# Filtering ... #################\")\n",
    "    sc.pp.filter_cells(adata, min_counts = min_ct) # Filter cells based on number of RNA reads\n",
    "    sc.pp.filter_cells(adata, min_genes= min_gen) # Filter cells based on the number of recognized genes\n",
    "    sc.pp.filter_genes(adata, min_cells = min_cell) # Filter genes based on the minimum number of cells expressing it\n",
    "    adata_prefilt = adata[adata.obs['doublet_scores'] < 0.24]\n",
    "    if max_genes > 0:\n",
    "        adata_prefilt = adata_prefilt[adata_prefilt.obs['n_genes_by_counts'] < max_genes]\n",
    "        \n",
    "    if not normed:\n",
    "        adata_filt = adata_prefilt[adata_prefilt.obs['pct_counts_mt'] < mt_pct] # Filtering based on percentage of mitochondrial genes\n",
    "    else:\n",
    "        adata_filt = adata_prefilt\n",
    "    return adata_filt    "
   ]
  },
  {
   "cell_type": "code",
   "execution_count": 4,
   "id": "9240de50-8162-41db-b321-548e3b44b0c3",
   "metadata": {},
   "outputs": [],
   "source": [
    "@time_it\n",
    "def process_for_UMAP(data, leiden_res = 0.8, filtering = 1, min_ct = 2000, min_gen = 500, min_cell = 3, mt_pct = 60, max_genes = 0, normed = 0, d_score = 0.24): # DEFAULT QC VALUES\n",
    "    adata = data # This is to avoid writing into the file that's entered as an argument\n",
    "    if filtering:\n",
    "        adata_filt = filter_cells_for_UMAP(data = adata, min_ct = min_ct, min_gen = min_gen, min_cell = min_cell, max_genes = max_genes, mt_pct = mt_pct, d_score = d_score)\n",
    "    else:\n",
    "        adata_filt = adata       \n",
    "    print(\"################# Normalizing ... #################\")\n",
    "    sc.pp.normalize_total(adata_filt, target_sum=1e4) # Normalize\n",
    "    print(\"################# Log scaling ... #################\")\n",
    "    sc.pp.log1p(adata_filt) # Log scaling\n",
    "    print(\"################# Finding variable genes ... #################\")\n",
    "    sc.pp.highly_variable_genes(adata_filt, min_mean = 0.0125, max_mean = 3, min_disp = 0.5) # Compute differentially expressed genes within the sample\n",
    "    print(\"################# Saving raw data ... #################\")\n",
    "    adata_filt.raw = adata_filt # Store the raw files in its own layer\n",
    "    print(\"################# Filtering on variable genes ... #################\")\n",
    "    adata_filt = adata_filt[:, adata_filt.var.highly_variable] # Filter on genes that are highly variable\n",
    "    print(\"################# Regressing ... #################\")\n",
    "    sc.pp.regress_out(adata_filt, ['total_counts', 'pct_counts_mt']) # Regression. Not sure what that is.\n",
    "    print(\"################# Scaling ... #################\")\n",
    "    sc.pp.scale(adata_filt, max_value = 10) # Scale the data\n",
    "    print(\"################# Calculating PCA ... #################\")\n",
    "    sc.tl.pca(adata_filt, svd_solver='arpack') # Compute PCA\n",
    "    print(\"################# Calculating tSNE ... #################\")\n",
    "    sc.tl.tsne(adata_filt) # Calculate tsne\n",
    "    print(\"################# Calculating neighbors ... #################\")\n",
    "    sc.pp.neighbors(adata_filt) # Calculate neighbors\n",
    "    print(\"################# Calculating Leiden ... #################\")\n",
    "    sc.tl.leiden(adata_filt, resolution = leiden_res) # Calculate Leiden clusters\n",
    "    print(\"################# Calculating PAGA ... #################\")\n",
    "    sc.tl.paga(adata_filt) # Calculate PAGA\n",
    "    print(\"################# Plotting PAGA ... #################\")\n",
    "    sc.pl.paga(adata_filt, plot = 1)  # remove `plot=False` if you want to see the coarse-grained graph\n",
    "    print(\"################# Calculating UMAP init_pos = paga #################\")\n",
    "    sc.tl.umap(adata_filt, init_pos='paga') # Plot PAGA\n",
    "    print(\"################# Calculating UMAP ... #################\")\n",
    "    sc.tl.umap(adata_filt) # Calculate UMAP\n",
    "    print(\"#################Plotting UMAP ... #################\")\n",
    "    sc.pl.umap(adata_filt, color = ['leiden']) # Plot UMAP and show Leiden clusters\n",
    "    return adata_filt\n",
    "#######################################################\n",
    "################## FUNCTION DEF END ###################\n",
    "#######################################################"
   ]
  },
  {
   "cell_type": "code",
   "execution_count": 5,
   "id": "7b54157c-8d3d-4bea-ab92-e07ddf59b59d",
   "metadata": {},
   "outputs": [],
   "source": [
    "@time_it\n",
    "def recalc_UMAP(data_filt, leiden_res = 0.8):\n",
    "    adata_filt = data_filt\n",
    "    sc.tl.pca(adata_filt, svd_solver='arpack') # Compute PCA\n",
    "    print(\"################# Calculating tSNE ... #################\")\n",
    "    sc.tl.tsne(adata_filt) # Calculate tsne\n",
    "    print(\"################# Calculating neighbors ... #################\")\n",
    "    sc.pp.neighbors(adata_filt) # Calculate neighbors\n",
    "    print(\"################# Calculating Leiden ... #################\")\n",
    "    sc.tl.leiden(adata_filt, resolution = leiden_res) # Calculate Leiden clusters\n",
    "    print(\"################# Calculating PAGA ... #################\")\n",
    "    sc.tl.paga(adata_filt) # Calculate PAGA\n",
    "    print(\"################# Plotting PAGA ... #################\")\n",
    "    sc.pl.paga(adata_filt, plot = 1)  # remove `plot=False` if you want to see the coarse-grained graph\n",
    "    print(\"################# Calculating UMAP init_pos = paga#################\")\n",
    "    sc.tl.umap(adata_filt, init_pos='paga') # Calculate PAGA\n",
    "    print(\"################# Calculating UMAP ... #################\")\n",
    "    sc.tl.umap(adata_filt) # Calculate UMAP\n",
    "    print(\"################# Plotting UMAP ... #################\")\n",
    "    sc.pl.umap(adata_filt, color = ['leiden']) # Plot UMAP and show Leiden clusters\n",
    "    return adata_filt\n",
    "#######################################################\n",
    "################## FUNCTION DEF END ###################\n",
    "#######################################################"
   ]
  },
  {
   "cell_type": "code",
   "execution_count": 6,
   "id": "ab4c6585-ac73-4942-a699-f13bd605f80b",
   "metadata": {},
   "outputs": [],
   "source": [
    "def isolate_cells_by_gene(data, gene, threshold):\n",
    "    # Now subset_ant_mt_filt contains only the highly variable genes\n",
    "    data_subset = data[data[:, gene].X > threshold]\n",
    "    return data_subset\n",
    "#######################################################\n",
    "################## FUNCTION DEF END ###################\n",
    "#######################################################"
   ]
  },
  {
   "cell_type": "code",
   "execution_count": 7,
   "id": "6e94a7f0-3445-4e74-a883-fa15c78070f0",
   "metadata": {},
   "outputs": [],
   "source": [
    "# This function filters the leiden clusters that are positivefor the gene you specify\n",
    "# It assumes that you already did the differential expression analysis. \n",
    "# diff is boolean specifying if differential expresion is already done\n",
    "# threshold is the threshold of expression\n",
    "def filter_clusters_by_gene(data, gene, threshold = 0.5):\n",
    "    # Load your AnnData object\n",
    "    adata = data\n",
    "    sc.tl.rank_genes_groups(adata, groupby='leiden')\n",
    "    # Extract the DataFrame for the differential expression results\n",
    "    de_results = pd.DataFrame(adata.uns['rank_genes_groups']['names'])\n",
    "    # Define a threshold for significant expression (adjust as needed)\n",
    "    expression_threshold = threshold\n",
    "    # Find clusters with significant gene expression\n",
    "    significant_clusters = []\n",
    "    for cluster in de_results.columns:\n",
    "        gene_presence = de_results[cluster].str.contains(gene)\n",
    "        gene_expression = adata.uns['rank_genes_groups']['logfoldchanges'][cluster][gene_presence]\n",
    "        if any(gene_expression >= expression_threshold):\n",
    "            significant_clusters.append(cluster)\n",
    "    # Subset the data to include only cells from the significant clusters\n",
    "    adata_subset = adata[adata.obs['leiden'].isin(significant_clusters)].copy()\n",
    "    return adata_subset"
   ]
  },
  {
   "cell_type": "markdown",
   "id": "8c0c0fbe-2f2f-4a49-8dec-cd88ebbb20d7",
   "metadata": {},
   "source": [
    "# Setting enviroment and other variables"
   ]
  },
  {
   "cell_type": "code",
   "execution_count": 8,
   "id": "950177f7-a74c-4507-9d59-250f85df609b",
   "metadata": {},
   "outputs": [],
   "source": [
    "#%% Environment settings and misc variables\n",
    "sc.settings.verbosity = 3\n",
    "sc.set_figure_params(dpi = 600)\n",
    "\n",
    "# MIK67 = Ki67, TNSFRSF19 = TROY\n",
    "inspect_stem = ['LGR5', 'MKI67', 'TNFRSF19', 'BMI1', 'LRIG1', 'leiden', 'Localization']\n",
    "global_res = 0.5\n",
    "start_time = time.time()"
   ]
  },
  {
   "cell_type": "markdown",
   "id": "cc568fee-4ad5-4823-85d4-ae1febe73091",
   "metadata": {},
   "source": [
    "Read the files"
   ]
  },
  {
   "cell_type": "code",
   "execution_count": 9,
   "id": "76062b27-5592-4d5c-a86c-216f58dd621d",
   "metadata": {},
   "outputs": [
    {
     "name": "stderr",
     "output_type": "stream",
     "text": [
      "C:\\Users\\alsha\\anaconda3\\Lib\\site-packages\\anndata\\__init__.py:51: FutureWarning: `anndata.read` is deprecated, use `anndata.read_h5ad` instead. `ad.read` will be removed in mid 2024.\n",
      "  warnings.warn(\n",
      "C:\\Users\\alsha\\anaconda3\\Lib\\site-packages\\anndata\\__init__.py:51: FutureWarning: `anndata.read` is deprecated, use `anndata.read_h5ad` instead. `ad.read` will be removed in mid 2024.\n",
      "  warnings.warn(\n",
      "C:\\Users\\alsha\\anaconda3\\Lib\\site-packages\\anndata\\__init__.py:51: FutureWarning: `anndata.read` is deprecated, use `anndata.read_h5ad` instead. `ad.read` will be removed in mid 2024.\n",
      "  warnings.warn(\n",
      "C:\\Users\\alsha\\anaconda3\\Lib\\site-packages\\anndata\\__init__.py:51: FutureWarning: `anndata.read` is deprecated, use `anndata.read_h5ad` instead. `ad.read` will be removed in mid 2024.\n",
      "  warnings.warn(\n"
     ]
    }
   ],
   "source": [
    "col_org_unfilt = sc.read(\"C:/Work cache/Project sync/PhD/Research projects/AGR2 follow-up/Data cache/ssRNAseq/Aline/raw_data/agr2colon_organoids_unfilt.h5ad\")\n",
    "ant_unfilt = sc.read(\"C:/Work cache/Project sync/PhD/Research projects/AGR2 follow-up/Data cache/ssRNAseq/Aline/raw_data/agr2_unfilt_antrum.h5ad\")\n",
    "duo_unfilt = sc.read(\"C:/Work cache/Project sync/PhD/Research projects/AGR2 follow-up/Data cache/ssRNAseq/Aline/raw_data/agr2_unfilt_duodenum.h5ad\")\n",
    "col_unfilt = sc.read(\"C:/Work cache/Project sync/PhD/Research projects/AGR2 follow-up/Data cache/ssRNAseq/Aline/raw_data/agr2_unfilt_colon.h5ad\")"
   ]
  },
  {
   "cell_type": "markdown",
   "id": "92ac38da-f3c3-45ee-b87a-7db5b4ede39a",
   "metadata": {},
   "source": [
    "Joining and creating new lables"
   ]
  },
  {
   "cell_type": "code",
   "execution_count": 10,
   "id": "67753535-792b-4a5d-bcdc-6d2b85cffa81",
   "metadata": {},
   "outputs": [
    {
     "name": "stderr",
     "output_type": "stream",
     "text": [
      "C:\\Users\\alsha\\AppData\\Local\\Temp\\ipykernel_23124\\1015900654.py:9: ImplicitModificationWarning: Trying to modify attribute `.obs` of view, initializing view as actual.\n",
      "  combined_control.obs['Localization'] = combined_control.obs['Site'].astype(str) + ' ' + combined_control.obs['Patient'].astype(str)\n",
      "C:\\Users\\alsha\\AppData\\Local\\Temp\\ipykernel_23124\\1015900654.py:11: ImplicitModificationWarning: Trying to modify attribute `.obs` of view, initializing view as actual.\n",
      "  combined_patient.obs['Localization'] = combined_patient.obs['Site'].astype(str) + ' ' + combined_patient.obs['Patient'].astype(str)\n"
     ]
    }
   ],
   "source": [
    "combined = ad.concat([ant_unfilt, duo_unfilt, col_unfilt], join = 'outer')\n",
    "combined_unique = combined[~combined.obs['cellbarcode'].duplicated(keep = 'first')].copy()\n",
    "combined_nocol = ad.concat([ant_unfilt, duo_unfilt], join = 'outer')\n",
    "combined.obs['Localization'] = combined.obs['Site'].astype(str) + ' ' + combined.obs['Patient'].astype(str)\n",
    "combined_nocol = ad.concat([ant_unfilt, duo_unfilt], join = 'outer')\n",
    "combined_nocol.obs['Localization'] = combined_nocol.obs['Site'].astype(str) + ' ' + combined_nocol.obs['Patient'].astype(str)\n",
    "ant_unfilt.obs['Localization'] = ant_unfilt.obs['Site'].astype(str) + ' ' + ant_unfilt.obs['Patient'].astype(str)\n",
    "combined_control = combined_unique[combined_unique.obs['Patient'] == 'GI6253', :] # Using the unique object seems to work for filtering while usign the combined object directly doesn't. No idea why.\n",
    "combined_control.obs['Localization'] = combined_control.obs['Site'].astype(str) + ' ' + combined_control.obs['Patient'].astype(str)\n",
    "combined_patient = combined_unique[combined_unique.obs['Patient'] == 'P26', :] # Using the unique object seems to work for filtering while usign the combined object directly doesn't. No idea why.\n",
    "combined_patient.obs['Localization'] = combined_patient.obs['Site'].astype(str) + ' ' + combined_patient.obs['Patient'].astype(str)\n",
    "duo_unfilt.obs['Localization'] = duo_unfilt.obs['Site'].astype(str) + ' ' + duo_unfilt.obs['Patient'].astype(str)\n",
    "duo_pat_unfilt = duo_unfilt[duo_unfilt.obs['Patient'] == 'P26', :]\n",
    "duo_pat_unique = duo_pat_unfilt[~duo_pat_unfilt.obs['cellbarcode'].duplicated(keep = 'first')].copy()\n",
    "duo_cont_unfilt = duo_unfilt[duo_unfilt.obs['Patient'] == 'GI6253', :]\n",
    "duo_cont_unique = duo_cont_unfilt[~duo_cont_unfilt.obs['cellbarcode'].duplicated(keep = 'first')].copy()"
   ]
  },
  {
   "cell_type": "markdown",
   "id": "2c9a8832-bbcf-4d09-a609-14f7fb93411b",
   "metadata": {},
   "source": [
    "Initial UMAP processing"
   ]
  },
  {
   "cell_type": "code",
   "execution_count": 1,
   "id": "8a4fa1e6-19f9-455f-9226-17eae729aaa8",
   "metadata": {},
   "outputs": [
    {
     "ename": "NameError",
     "evalue": "name 'process_for_UMAP' is not defined",
     "output_type": "error",
     "traceback": [
      "\u001b[1;31m---------------------------------------------------------------------------\u001b[0m",
      "\u001b[1;31mNameError\u001b[0m                                 Traceback (most recent call last)",
      "Cell \u001b[1;32mIn[1], line 1\u001b[0m\n\u001b[1;32m----> 1\u001b[0m antrum_proc \u001b[38;5;241m=\u001b[39m process_for_UMAP(ant_unfilt, leiden_res \u001b[38;5;241m=\u001b[39m global_res)\n",
      "\u001b[1;31mNameError\u001b[0m: name 'process_for_UMAP' is not defined"
     ]
    }
   ],
   "source": [
    "antrum_proc = process_for_UMAP(ant_unfilt, leiden_res = global_res)"
   ]
  },
  {
   "cell_type": "markdown",
   "id": "9274e10a-2a0f-47c2-a324-cba3c68b6ede",
   "metadata": {},
   "source": [
    "sc.pl.umap(combined_proc, color = 'leiden')"
   ]
  },
  {
   "cell_type": "markdown",
   "id": "a6413f74-7740-4084-afab-daf2f155c376",
   "metadata": {},
   "source": [
    "combined_proc = process_for_UMAP(combined, leiden_res = global_res)\n",
    "combined_nocol_proc = process_for_UMAP(combined_nocol, leiden_res = global_res)\n",
    "combined_control_proc = process_for_UMAP(combined_control, leiden_res = global_res)\n",
    "combined_patient_proc = process_for_UMAP(combined_patient, leiden_res = global_res)\n",
    "duo_proc = process_for_UMAP(duo_unfilt, leiden_res = global_res)\n",
    "duo_pat_proc = process_for_UMAP(duo_pat_unique, leiden_res = global_res)\n",
    "duo_cont_proc = process_for_UMAP(duo_cont_unique, leiden_res = global_res)"
   ]
  }
 ],
 "metadata": {
  "kernelspec": {
   "display_name": "Python 3 (ipykernel)",
   "language": "python",
   "name": "python3"
  },
  "language_info": {
   "codemirror_mode": {
    "name": "ipython",
    "version": 3
   },
   "file_extension": ".py",
   "mimetype": "text/x-python",
   "name": "python",
   "nbconvert_exporter": "python",
   "pygments_lexer": "ipython3",
   "version": "3.11.8"
  }
 },
 "nbformat": 4,
 "nbformat_minor": 5
}
