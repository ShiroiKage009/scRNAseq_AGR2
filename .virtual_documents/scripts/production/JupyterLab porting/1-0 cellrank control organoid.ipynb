


import palantir
import scanpy as sc
import pandas as pd
import anndata
import os
import time

# Plotting
import matplotlib
import matplotlib.pyplot as plt






# Execution start begin with timing
start_time = time.time()
sc.settings.verbosity = 3
fig_res = 150
sc.set_figure_params(dpi = fig_res, frameon = 0)

# MIK67 = Ki67, TNSFRSF19 = TROY
gastric_stem = ['LGR5', 'ASCL2', 'CD44', 'STMN1', 'BMI1', 'LRIG1', 'TNFRSF19', 'SOX2']
intestinal_stem = ['SMOC2', 'OLFM4']
stem = gastric_stem + intestinal_stem # Currently, this is an overall list of all the markers used to look at any stem cells in either the intestines or the stomach.

inspect_stem = ['leiden', 'MKI67', 'LGR5', 'ASCL2', 'CD44', 'SMOC2', 'STMN1', 'OLFM4', 'BMI1', 'LRIG1', 'BHLHA15', 'TNFRSF19', 'SOX2', 'leiden', 'Localization']
inspect_stem_duo = ['leiden', 'MKI67', 'LGR5', 'ASCL2', 'CD44', 'SMOC2', 'STMN1', 'OLFM4', 'BMI1', 'LRIG1', 'leiden', 'Localization']

inspect_stem_gast = ['leiden', 'MKI67', 'LGR5', 'TNFRSF19', 'ASCL2', 'CD44', 'SMOC2', 'SOX2', 'STMN1', 'OLFM4', 'BMI1', 'LRIG1', 'leiden', 'Localization']

gastric_markers = ['leiden', 'MKI67', 'LGR5', 'TNFRSF19', 'BHLHA15', 'ASCL2', 'CD44', 'SMOC2', 'SOX2', 'STMN1', 'OLFM4', 'BMI1', 'LRIG1', 'MUC6', 'TFF2', 'MUC5AC', 'GKN2', 'TFF1', 'GHRL', 'AQP5', 'MUC1', 'leiden', 'Localization']
duodenal_markers = ['leiden', 'MKI67', 'LGR5', 'TNFRSF19', 'BHLHA15', 'ASCL2', 'CD44', 'SMOC2', 'SOX2', 'STMN1', 'OLFM4', 'BMI1', 'LRIG1', 'MUC6', 'MUC2', 'TFF3', 'GHRL', 'AQP5', 'MUC1', 'ANPEP', 'LYZ', 'leiden', 'Localization']

global_res = 0.5


path = 'C:/Work cache/py_projs/scRNAseq_AGR2/project data cache/testing integration with separation and the stem cells part 2/saved files/cellrank_test/'
cont_ant = sc.read_h5ad(path + 'ant_cont_organoid.h5ad')


ad = cont_ant














dm_res = palantir.utils.run_diffusion_maps(ad, n_components = 50)


ms_data = palantir.utils.determine_multiscale_space(ad)


sc.pp.neighbors(ad, n_neighbors = 100)


sc.tl.leiden(ad, resolution = 1.5)


sc.tl.paga(ad)


sc.pl.paga(ad)


sc.tl.umap(ad, init_pos = 'paga')


sc.pl.umap(ad, color = ['leiden', 'LGR5', 'STMN1', 'MKI67', 'ANPEP', 'MUC2', 'LYZ', 'MUC6', 'GKN2', 'MUC5AC', 'leiden'])


sc.tl.tsne(ad)


sc.pl.tsne(ad, color = ['leiden', 'LGR5', 'STMN1', 'MKI67', 'ANPEP', 'MUC2', 'LYZ', 'MUC6', 'GKN2', 'MUC5AC', 'leiden'])


sc.pl.scatter(ad, x = 'STMN1', y = 'MKI67', color = 'LGR5')


palantir.utils.run_magic_imputation(ad)


sc.pl.embedding(
    ad,
    basis="tsne",
    layer="MAGIC_imputed_data",
    color=['LGR5', 'ANPEP', 'leiden', 'MUC5AC', 'MUC6', 'MKI67', 'MUC2', 'LYZ', 'STMN1', 'GKN2'],
    frameon=False,
)
plt.show()


palantir.plot.plot_diffusion_components(ad, embedding_basis = 'X_tsne')
plt.show()


starting_cell = ad[ad[:, 'LGR5'].X > 6.1]
print(starting_cell[:, 'LGR5'].X)


starting_cell = starting_cell[starting_cell[:, 'LGR5'].X < 6.17]
print(starting_cell[:, 'LGR5'].X)
start_cell = starting_cell.obs_names


palantir.plot.highlight_cells_on_umap(ad, start_cell)
plt.show()











pr_res = palantir.core.run_palantir(data = ad, early_cell = start_cell[0], num_waypoints = 500, scale_components = 1)


str(ad)





palantir.plot.plot_palantir_results(ad, embedding_basis = 'X_tsne')
plt.show()


adata = ad

from cellrank.kernels import PseudotimeKernel

pk = PseudotimeKernel(adata, time_key="palantir_pseudotime")


pk.compute_transition_matrix()


pk.plot_random_walks(
    n_sims = 100,
    linewidth = 0.5,
    start_ixs = {"leiden": "11"},
    basis = "tsne",
    size = 25,
)


pk.plot_random_walks(
    n_sims = 100,
    linewidth = 0.5,
    start_ixs = {"leiden": "9"},
    basis = "tsne",
    size = 25,
)


from cellrank.estimators import GPCCA

g = GPCCA(pk)
print(g)


g.fit(n_states = 10, cluster_key = "leiden")


g.plot_macrostates(which = "all", mode = 'time', time_key = 'palantir_pseudotime')


g.predict_terminal_states(method = "stability", n_states = 5)
g.plot_macrostates(which = "time")


g.predict_initial_states()
g.plot_macrostates(which = "initial")


g.compute_fate_probabilities()
g.plot_fate_probabilities(legend_loc = "right")
