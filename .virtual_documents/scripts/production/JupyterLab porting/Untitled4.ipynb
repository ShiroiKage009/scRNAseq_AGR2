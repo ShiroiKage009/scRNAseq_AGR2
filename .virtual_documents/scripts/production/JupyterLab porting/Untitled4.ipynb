import scanpy as sc
import anndata as ad
import numpy as np
import pandas as pd
import matplotlib.pyplot as plt
import mygene


sc.settings.verbosity = 3
fig_res = 150
sc.set_figure_params(dpi = fig_res, frameon = 0)


ext_obj = sc.read('S:/data cache/code_in_out/external_datasets/gim and eim unified umap of all file.h5ad')


str(ext_obj)


# Remove version numbers from Ensembl IDs
ext_obj.var['ensembl_id'] = ext_obj.var_names.str.replace(r'/./d+$', '', regex=True)


# Map Ensembl IDs to gene symbols
mg = mygene.MyGeneInfo()
gene_info = mg.querymany(
    ext_obj.var['ensembl_id'],
    scopes='ensembl.gene',
    fields='symbol',
    species='human'
)


# Convert query results to DataFrame and handle duplicates
gene_info_df = pd.DataFrame(gene_info)
gene_info_df.drop_duplicates(subset='query', inplace=True)


# Create a mapping dictionary from Ensembl IDs to gene symbols
ens_to_symbol = pd.Series(
    gene_info_df['symbol'].values,
    index=gene_info_df['query']
).to_dict()


# Map Ensembl IDs in fibros_copy to gene symbols
ext_obj.var['gene_symbol'] = ext_obj.var['ensembl_id'].map(ens_to_symbol)


# Replace missing symbols with Ensembl IDs
ext_obj.var['gene_symbol'].fillna(ext_obj.var['ensembl_id'], inplace=True)


# Ensure gene symbols are strings
ext_obj.var['gene_symbol'] = ext_obj.var['gene_symbol'].astype(str)


# Update var_names with gene symbols but keep var.index as Ensembl IDs
ext_obj.var_names = ext_obj.var['gene_symbol']
ext_obj.var_names_make_unique()


# Create a mapping from Ensembl IDs to gene symbols
ensembl_to_symbol = ext_obj.var.set_index('ensembl_id')['gene_symbol'].to_dict()


fibros_1 = ext_obj[ext_obj.obs['Celltypes_global'] == 'Fibroblasts']


fibros = fibros_1[fibros_1.obs['Patient_status'] != 'BE']


sc.pp.normalize_total(fibros, target_sum=1e4)
sc.pp.log1p(fibros)
sc.pp.scale(fibros, max_value=10)
sc.tl.pca(fibros, svd_solver='arpack', n_comps=50)


str(fibros)


# Run Harmony integration
sc.external.pp.harmony_integrate(fibros, key='Sample')


sc.pl.embedding(fibros, basis = 'X_umap_MinDist_0.3_N_Neighbors_15', color = ['ENSG00000154096', 'Patient_status', 'Celltypes_global'], size = 2)


fibros_copy = fibros.copy()


sc.pp.neighbors(fibros_copy, n_neighbors = 30, use_rep='X_pca_harmony')


sc.tl.leiden(fibros_copy, resolution = 0.3)


sc.tl.paga(fibros_copy)
sc.pl.paga(fibros_copy)


sc.tl.umap(fibros_copy)


sc.pl.umap(fibros_copy, color = ['leiden', 'Patient_status', 'Detailed_Cell_Type'], size = 5)


# Clear previous differential expression results if any
if 'rank_genes_groups' in fibros_copy.uns:
    del fibros_copy.uns['rank_genes_groups']


# Re-run differential expression analysis
sc.tl.rank_genes_groups(fibros_copy, groupby='Patient_status', method='wilcoxon')


# Map Ensembl IDs in DE results to gene symbols
for group in fibros_copy.uns['rank_genes_groups']['names'].dtype.names:
    ensembl_ids = fibros_copy.uns['rank_genes_groups']['names'][group]
    # Ensure ensembl_ids are strings
    ensembl_ids = ensembl_ids.astype(str)
    gene_symbols = [ensembl_to_symbol.get(eid, eid) for eid in ensembl_ids]
    fibros_copy.uns['rank_genes_groups']['names'][group] = np.array(gene_symbols, dtype=object)


# Extract top genes using gene symbols
n_top_genes = 200
groups = fibros_copy.obs['Patient_status'].unique().tolist()
top_genes = []
for group in groups:
    genes = fibros_copy.uns['rank_genes_groups']['names'][group][:n_top_genes]
    top_genes.extend(genes)
# Remove duplicates
top_genes = list(dict.fromkeys(top_genes))


# Plot the heatmap with gene symbols
sc.pl.heatmap(
    fibros_copy,
    var_names=top_genes,
    groupby='Patient_status',
    standard_scale='var',
    dendrogram = True,
    swap_axes=True,
    show_gene_labels = False,
    use_raw = False
)


# Plot the heatmap with gene symbols
sc.pl.dotplot(
    fibros_copy,
    var_names=top_genes,
    groupby='Patient_status',
    standard_scale='var',
    swap_axes=True,
    use_raw = False
)


wnts = ['WNT1', 'WNT2', 'WNT2B', 'WNT3', 'WNT3A', 'WNT4', 'WNT5A', 'WNT5B', 'WNT6', 'WNT7A', 'WNT7B', 'WNT8A', 'WNT8B', 'WNT9A', 'WNT9B', 'WNT10A', 'WNT10B', 'WNT11', 'WNT16']
bmps = ['BMP1', 'BMP2', 'BMP3', 'BMP4', 'BMP5', 'BMP6', 'BMP7', 'BMP8A', 'BMP8B', 'BMP10', 'BMP15', 'GREM1', 'GREM2']
fgfs = ['FGF1', 'FGF2', 'FGF3', 'FGF4', 'FGF5', 'FGF6', 'FGF7', 'FGF8', 'FGF9', 'FGF10', 'FGF16', 'FGF17', 'FGF18', 'FGF19', 'FGF20', 'FGF21', 'FGF22', 'FGF23']
tgfbs = ['TGFB1', 'TGFB2', 'TGFB3']


# Plot the heatmap with gene symbols
sc.pl.dotplot(
    fibros_copy,
    var_names = wnts,
    groupby='Patient_status',
    standard_scale='var',
    swap_axes=True,
    use_raw = False
)


# Plot the heatmap with gene symbols
sc.pl.dotplot(
    fibros_copy,
    var_names = bmps,
    groupby='Patient_status',
    standard_scale='var',
    swap_axes=True,
    use_raw = False
)


# Plot the heatmap with gene symbols
sc.pl.dotplot(
    fibros_copy,
    var_names = fgfs,
    groupby='Patient_status',
    standard_scale='var',
    swap_axes=True,
    use_raw = False
)


sc.pl.dotplot(
    fibros_copy,
    var_names = tgfbs,
    groupby='Patient_status',
    standard_scale='var',
    swap_axes=True,
    use_raw = False
)


sc.pp.normalize_total(ext_obj, target_sum=1e4)
sc.pp.log1p(ext_obj)
sc.pp.scale(ext_obj, max_value=10)


sc.pl.violin(ext_obj, keys = wnts, groupby = 'Celltypes_global', use_raw = False, rotation = 90)


ext_obj.obs['conditoin'] = ext_obj.obs['Celltypes_global'].astype(str) + '_' + ext_obj.obs['Patient_status'].astype(str)


sc.pl.violin(ext_obj, keys = wnts, groupby = 'conditoin', use_raw = False, rotation = 90)


# Plot the heatmap with gene symbols
sc.pl.dotplot(
    ext_obj[ext_obj.obs['Patient_status'] != 'BE'],
    var_names = fgfs,
    groupby='conditoin',
    standard_scale='var',
    swap_axes=True,
    use_raw = False
)


# Plot the heatmap with gene symbols
sc.pl.dotplot(
    ext_obj[ext_obj.obs['Patient_status'] != 'BE'],
    var_names = wnts,
    groupby='conditoin',
    standard_scale='var',
    swap_axes=True,
    use_raw = False
)


sc.pl.embedding(ext_obj, basis = 'X_umap_MinDist_0.3_N_Neighbors_15', color = ['ENSG00000188064', 'ENSG00000162552', 'Celltypes_global'], use_raw = True)
