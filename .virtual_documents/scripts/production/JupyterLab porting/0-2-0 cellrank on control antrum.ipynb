


import palantir
import scanpy as sc
import pandas as pd
import cellrank as cr
import anndata
import os
import time

# Plotting
import matplotlib
import matplotlib.pyplot as plt



# Function for mapping names to columns
# Must create the mapping set and feed it here
def map_to_column(data, map_set, column = 'Localization'):
    data.obs[column + '_old'] = data.obs[column]
    data.obs[column] = data.obs[column].map(map_set)
    print(data.obs[column])
    print(data.obs[column + '_old'])
    return 'Mapping function done'





# Execution start begin with timing
start_time = time.time()
sc.settings.verbosity = 3
fig_res = 150
sc.set_figure_params(dpi = fig_res, frameon = 0)

# MIK67 = Ki67, TNSFRSF19 = TROY
gastric_stem = ['LGR5', 'ASCL2', 'CD44', 'STMN1', 'BMI1', 'LRIG1', 'TNFRSF19', 'SOX2']
intestinal_stem = ['SMOC2', 'OLFM4']
stem = gastric_stem + intestinal_stem # Currently, this is an overall list of all the markers used to look at any stem cells in either the intestines or the stomach.

inspect_stem = ['leiden', 'MKI67', 'LGR5', 'ASCL2', 'CD44', 'SMOC2', 'STMN1', 'OLFM4', 'BMI1', 'LRIG1', 'BHLHA15', 'TNFRSF19', 'SOX2', 'leiden', 'Localization']
inspect_stem_duo = ['leiden', 'MKI67', 'LGR5', 'ASCL2', 'CD44', 'SMOC2', 'STMN1', 'OLFM4', 'BMI1', 'LRIG1', 'leiden', 'Localization']

inspect_stem_gast = ['leiden', 'MKI67', 'LGR5', 'TNFRSF19', 'ASCL2', 'CD44', 'SMOC2', 'SOX2', 'STMN1', 'OLFM4', 'BMI1', 'LRIG1', 'leiden', 'Localization']

gastric_markers = ['leiden', 'MKI67', 'LGR5', 'TNFRSF19', 'BHLHA15', 'ASCL2', 'CD44', 'SMOC2', 'SOX2', 'STMN1', 'OLFM4', 'BMI1', 'LRIG1', 'MUC6', 'TFF2', 'MUC5AC', 'GKN2', 'TFF1', 'GHRL', 'AQP5', 'MUC1', 'leiden', 'Localization']
duodenal_markers = ['leiden', 'MKI67', 'LGR5', 'TNFRSF19', 'BHLHA15', 'ASCL2', 'CD44', 'SMOC2', 'SOX2', 'STMN1', 'OLFM4', 'BMI1', 'LRIG1', 'MUC6', 'MUC2', 'TFF3', 'GHRL', 'AQP5', 'MUC1', 'ANPEP', 'LYZ', 'leiden', 'Localization']

global_res = 0.5


path = 'S:/data cache/code_in_out/agr2/script_02_out/'
pat_ant = sc.read_h5ad(path + 'patant_reproc.h5ad')
cont_ant = sc.read_h5ad(path + 'contant_reproc.h5ad')
duo_cont = sc.read_h5ad(path + 'duocont_reproc.h5ad')
duo_pat = sc.read_h5ad(path + 'duopat_reproc.h5ad')


path = 'S:/data cache/code_in_out/agr2/agr2_init_files/Aline/raw_data/'
col_org_unfilt = sc.read_h5ad(path + 'agr2colon_organoids_unfilt.h5ad')
ant_unfilt = sc.read_h5ad(path + 'agr2_unfilt_antrum.h5ad')
duo_unfilt = sc.read_h5ad(path + 'agr2_unfilt_duodenum.h5ad')
col_unfilt = sc.read_h5ad(path + 'agr2_unfilt_colon.h5ad')











barcodes = cont_ant.obs_names.tolist()
ad = ant_unfilt[barcodes]


sc.pp.normalize_per_cell(ad)


palantir.preprocess.log_transform(ad)


sc.pp.highly_variable_genes(ad, n_top_genes = 1500, flavor = "seurat")


sc.pp.pca(ad)


dm_res = palantir.utils.run_diffusion_maps(ad, n_components = 50)


ms_data = palantir.utils.determine_multiscale_space(ad)


sc.pp.neighbors(ad, n_neighbors = 100)


sc.tl.leiden(ad, resolution = 1.2)


sc.tl.paga(ad)


sc.pl.paga(ad)


sc.tl.umap(ad,
           init_pos = 'paga')


sc.pl.umap(ad, color = 'leiden')


sc.pl.umap(ad, 
           color = ['leiden', 'LGR5', 'MKI67', 'STMN1', 'ANPEP', 'MUC5AC', 'MUC6', 'LYZ', 'MUC2', 'GKN2', 'leiden'],
           size = 50)


leiden_map = {
    '0' : 'Foveolar subsurface',
    '1' : 'STMN1hi Ki67lo',
    '2' : 'Gland Mucus cells',
    '3' : 'Proliferative',
    '4' : 'Foveolar surface',
    '5' : 'LGR5 stem',
    '6' : '6',
    '7' : '7',
}

map_to_column(data = ad, map_set = leiden_map, column = 'leiden')


sc.pl.umap(ad, 
           color = ['leiden', 'LGR5', 'MKI67', 'STMN1', 'ANPEP', 'MUC5AC', 'MUC6', 'LYZ', 'MUC2', 'GKN2', 'leiden'],
           size = 50)


palantir.utils.run_magic_imputation(ad)


sc.pl.embedding(
    ad,
    basis="umap",
    layer="MAGIC_imputed_data",
    color=['LGR5', 'ANPEP', 'leiden', 'MUC5AC', 'MUC6', 'MKI67', 'MUC2', 'LYZ', 'STMN1', 'GKN2'],
    frameon=False,
)
plt.show()


palantir.plot.plot_diffusion_components(ad)
plt.show()





starting_cell = ad[ad[:, 'LGR5'].X > 7]
print(starting_cell[:, 'LGR5'].X)


starting_cell = starting_cell[starting_cell[:, 'LGR5'].X < 8]
print(starting_cell[:, 'LGR5'].X)
LGR5_cell = starting_cell.obs_names





umap1_thresh = 15
umap2_thresh = 15


umap_coords = ad.obsm['X_umap']
umap_mask = (umap_coords[:, 0] < umap1_thresh) & (umap_coords[:, 1] > umap2_thresh)
adata_subset = ad[umap_mask, :]


sc.pl.umap(adata_subset, color = 'STMN1')


stmn1_cell = adata_subset[adata_subset[:, 'STMN1'].X > 6.2]
print(stmn1_cell[:, 'STMN1'].X)


stmn1_cell = stmn1_cell[starting_cell[:, 'STMN1'].X < 6.5]
print(stmn1_cell[:, 'STMN1'].X)
STMN1_cell = stmn1_cell.obs_names


mki67_cell = ad[ad[:, 'MKI67'].X > 10]
print(mki67_cell[:, 'MKI67'].X)


mki67_cell = mki67_cell[mki67_cell[:, 'MKI67'].X < 11]
print(mki67_cell[:, 'MKI67'].X)
MKI67_cell = mki67_cell.obs_names














palantir.plot.highlight_cells_on_umap(ad, cells = [LGR5_cell[0], STMN1_cell[0], MKI67_cell[0]])
plt.show()


pr_res = palantir.core.run_palantir(data = ad,
                                    early_cell = LGR5_cell[0], 
                                    num_waypoints = 500, 
                                    use_early_cell_as_start = 0, 
                                    knn = 100, 
                                    scale_components = 1,
                                    pseudo_time_key = 'palantir_LGR5'
                                   )


pr_res = palantir.core.run_palantir(data = ad,
                                    early_cell = MKI67_cell[0], 
                                    num_waypoints = 500, 
                                    use_early_cell_as_start = 0, 
                                    knn = 100, 
                                    scale_components = 1,
                                    pseudo_time_key = 'palantir_MKI67'
                                   )


pr_res = palantir.core.run_palantir(data = ad,
                                    early_cell = STMN1_cell[0], 
                                    num_waypoints = 500, 
                                    use_early_cell_as_start = 0, 
                                    knn = 100, 
                                    scale_components = 1,
                                    pseudo_time_key = 'palantir_STMN1'
                                   )


palantir.plot.plot_palantir_results(ad, pseudo_time_key = 'palantir_LGR5')
plt.show()


palantir.plot.plot_palantir_results(ad, pseudo_time_key = 'palantir_MKI67')
plt.show()


palantir.plot.plot_palantir_results(ad, pseudo_time_key = 'palantir_STMN1')
plt.show()














adata = ad

from cellrank.kernels import PseudotimeKernel

pk = PseudotimeKernel(adata, time_key="palantir_LGR5")


pk.compute_transition_matrix()


pk.plot_random_walks(
    n_sims = 300,
    linewidth = 0.5,
    start_ixs = {"leiden": "LGR5 stem"},
    basis = "umap",
    size = 25,
)


pk.plot_random_walks(
    n_sims = 300,
    linewidth = 0.5,
    start_ixs = {"leiden": "STMN1hi Ki67lo"},
    basis = "umap",
    size = 25,
)


pk.plot_random_walks(
    n_sims = 300,
    linewidth = 0.5,
    start_ixs = {"leiden": "Proliferative"},
    basis = "umap",
    size = 25,
)


from cellrank.estimators import GPCCA

g = GPCCA(pk)
print(g)


g.fit(n_states = 10, cluster_key = "leiden")
g.plot_macrostates(which = "all")


g.predict_terminal_states(method = "eigengap", n_states = 3)
g.plot_macrostates(which = "terminal")


g.predict_initial_states(allow_overlap = 1)
g.plot_macrostates(which = "initial")


g.compute_fate_probabilities()
g.plot_fate_probabilities(legend_loc="right")


cr.pl.circular_projection(adata, keys="leiden", legend_loc="right", title = '')





downstream = ['GPBAR1', 'KLF5', 'SALL4']
sc.pl.dotplot(adata, var_names = downstream, groupby = 'leiden')


downstream = ['ID1', 'ID2', 'ID3', 'SMAD6', 'WFDC2']
sc.pl.dotplot(adata, var_names = downstream, groupby = 'leiden')


inspect_wnt = ['WNT1', 'WNT2', 'WNT2B', 'WNT3A', 'WNT4', 'WNT5A', 'WNT6', 'WNT9A', 'WNT9B', 'WNT10B', 'WNT11', 'WNT16B']
inspect_wnt2 = ['WNT2B', 'WNT3A', 'WNT4', 'WNT6', 'WNT9A', 'WNT10B', 'WNT11']
inspect_bmp = ['BMP7', 'BMP5', 'BMP8B', 'BMP4', 'BMP2', 'BMP15', 'BMP2K', 'BMP3', 'BMP6', 'BMP10', 'BMP1', 'BMP8A', 'BMP2KL', 'BMP7-AS1', 'BMP8B-AS1', 'BMP6P1']
inspect_bmp2 = ['BMP7', 'BMP8B', 'BMP4', 'BMP2', 'BMP6', 'BMP1', 'BMP8A']


sc.pl.dotplot(adata, var_names = inspect_wnt2, groupby = 'leiden')


sc.pl.dotplot(adata, var_names = inspect_bmp2, groupby = 'leiden')


sc.pl.dotplot(adata, var_names = inspect_wnt2 + inspect_bmp2 + ['CTNNB1'], groupby = 'leiden')


new_obj = adata.copy()


new_obj.obs['leiden_samp'] = new_obj.obs['leiden'].astype(str) + '_' + new_obj.obs['Patient'].astype(str) 


sc.pl.dotplot(new_obj, var_names = inspect_wnt2 + inspect_bmp2 + ['CTNNB1'], groupby = 'leiden_samp')


new_obj.write_h5ad('S:/data cache/code_in_out/agr2/script_020_out/control_pal_calced.h5ad')








# Default max_iter
pk.plot_random_walks(
    n_sims = 300,
    linewidth = 0.5,
    start_ixs = {"leiden": "LGR5 stem"},
    basis = "umap",
    size = 25,
)


# max_iter 2
pk.plot_random_walks(
    n_sims = 300,
    max_iter = 2,
    linewidth = 0.5,
    start_ixs = {"leiden": "LGR5 stem"},
    basis = "umap",
    size = 25,
)


# max_iter 10
pk.plot_random_walks(
    n_sims = 300,
    max_iter = 10,
    linewidth = 0.5,
    start_ixs = {"leiden": "LGR5 stem"},
    basis = "umap",
    size = 25,
)


# max_iter = 50
pk.plot_random_walks(
    n_sims = 300,
    max_iter = 50,
    linewidth = 0.5,
    start_ixs = {"leiden": "LGR5 stem"},
    basis = "umap",
    size = 25,
)


# max_iter = 100
pk.plot_random_walks(
    n_sims = 300,
    max_iter = 100,
    linewidth = 0.5,
    start_ixs = {"leiden": "LGR5 stem"},
    basis = "umap",
    size = 25,
)


# max_iter = 300
pk.plot_random_walks(
    n_sims = 300,
    max_iter = 300,
    linewidth = 0.5,
    start_ixs = {"leiden": "LGR5 stem"},
    basis = "umap",
    size = 25,
)








# Default max_iter
pk.plot_random_walks(
    n_sims = 300,
    linewidth = 0.5,
    start_ixs = {"leiden": "STMN1hi Ki67lo"},
    basis = "umap",
    size = 25,
)


# max_iter 2
pk.plot_random_walks(
    n_sims = 300,
    max_iter = 2,
    linewidth = 0.5,
    start_ixs = {"leiden": "STMN1hi Ki67lo"},
    basis = "umap",
    size = 25,
)


# max_iter 10
pk.plot_random_walks(
    n_sims = 300,
    max_iter = 10,
    linewidth = 0.5,
    start_ixs = {"leiden": "STMN1hi Ki67lo"},
    basis = "umap",
    size = 25,
)


# max_iter = 50
pk.plot_random_walks(
    n_sims = 300,
    max_iter = 50,
    linewidth = 0.5,
    start_ixs = {"leiden": "STMN1hi Ki67lo"},
    basis = "umap",
    size = 25,
)


# max_iter = 100
pk.plot_random_walks(
    n_sims = 300,
    max_iter = 100,
    linewidth = 0.5,
    start_ixs = {"leiden": "STMN1hi Ki67lo"},
    basis = "umap",
    size = 25,
)


# max_iter = 300
pk.plot_random_walks(
    n_sims = 300,
    max_iter = 300,
    linewidth = 0.5,
    start_ixs = {"leiden": "STMN1hi Ki67lo"},
    basis = "umap",
    size = 25,
)



